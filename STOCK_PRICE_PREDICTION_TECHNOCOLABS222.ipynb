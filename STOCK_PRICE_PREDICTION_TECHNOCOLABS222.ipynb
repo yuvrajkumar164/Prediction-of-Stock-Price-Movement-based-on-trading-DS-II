{
 "cells": [
  {
   "cell_type": "code",
   "execution_count": 31,
   "metadata": {
    "id": "NjRhJ-573r8g"
   },
   "outputs": [],
   "source": [
    "import pandas as pd    #importing necessary libraries\n",
    "import numpy as np"
   ]
  },
  {
   "cell_type": "code",
   "execution_count": null,
   "metadata": {},
   "outputs": [],
   "source": []
  },
  {
   "cell_type": "code",
   "execution_count": 32,
   "metadata": {
    "colab": {
     "base_uri": "https://localhost:8080/",
     "height": 224
    },
    "id": "A-dRovU43r8m",
    "outputId": "cf881267-b2dd-4bfd-c6c1-7e76952a3449"
   },
   "outputs": [
    {
     "name": "stdout",
     "output_type": "stream",
     "text": [
      "(22805, 8)\n"
     ]
    },
    {
     "data": {
      "text/html": [
       "<div>\n",
       "<style scoped>\n",
       "    .dataframe tbody tr th:only-of-type {\n",
       "        vertical-align: middle;\n",
       "    }\n",
       "\n",
       "    .dataframe tbody tr th {\n",
       "        vertical-align: top;\n",
       "    }\n",
       "\n",
       "    .dataframe thead th {\n",
       "        text-align: right;\n",
       "    }\n",
       "</style>\n",
       "<table border=\"1\" class=\"dataframe\">\n",
       "  <thead>\n",
       "    <tr style=\"text-align: right;\">\n",
       "      <th></th>\n",
       "      <th>Type</th>\n",
       "      <th>Date</th>\n",
       "      <th>Time</th>\n",
       "      <th>open</th>\n",
       "      <th>high</th>\n",
       "      <th>low</th>\n",
       "      <th>close</th>\n",
       "      <th>Unnamed: 7</th>\n",
       "    </tr>\n",
       "  </thead>\n",
       "  <tbody>\n",
       "    <tr>\n",
       "      <th>0</th>\n",
       "      <td>NIFTY</td>\n",
       "      <td>20210101</td>\n",
       "      <td>09:16</td>\n",
       "      <td>13997.90</td>\n",
       "      <td>14020.85</td>\n",
       "      <td>13991.35</td>\n",
       "      <td>14013.15</td>\n",
       "      <td>NaN</td>\n",
       "    </tr>\n",
       "    <tr>\n",
       "      <th>1</th>\n",
       "      <td>NIFTY</td>\n",
       "      <td>20210101</td>\n",
       "      <td>09:17</td>\n",
       "      <td>14014.85</td>\n",
       "      <td>14018.55</td>\n",
       "      <td>14008.15</td>\n",
       "      <td>14009.05</td>\n",
       "      <td>NaN</td>\n",
       "    </tr>\n",
       "    <tr>\n",
       "      <th>2</th>\n",
       "      <td>NIFTY</td>\n",
       "      <td>20210101</td>\n",
       "      <td>09:18</td>\n",
       "      <td>14008.05</td>\n",
       "      <td>14013.10</td>\n",
       "      <td>14005.05</td>\n",
       "      <td>14012.70</td>\n",
       "      <td>NaN</td>\n",
       "    </tr>\n",
       "    <tr>\n",
       "      <th>3</th>\n",
       "      <td>NIFTY</td>\n",
       "      <td>20210101</td>\n",
       "      <td>09:19</td>\n",
       "      <td>14013.65</td>\n",
       "      <td>14019.10</td>\n",
       "      <td>14013.65</td>\n",
       "      <td>14016.20</td>\n",
       "      <td>NaN</td>\n",
       "    </tr>\n",
       "    <tr>\n",
       "      <th>4</th>\n",
       "      <td>NIFTY</td>\n",
       "      <td>20210101</td>\n",
       "      <td>09:20</td>\n",
       "      <td>14015.45</td>\n",
       "      <td>14017.80</td>\n",
       "      <td>14011.95</td>\n",
       "      <td>14015.45</td>\n",
       "      <td>NaN</td>\n",
       "    </tr>\n",
       "  </tbody>\n",
       "</table>\n",
       "</div>"
      ],
      "text/plain": [
       "    Type      Date   Time      open      high       low     close  Unnamed: 7\n",
       "0  NIFTY  20210101  09:16  13997.90  14020.85  13991.35  14013.15         NaN\n",
       "1  NIFTY  20210101  09:17  14014.85  14018.55  14008.15  14009.05         NaN\n",
       "2  NIFTY  20210101  09:18  14008.05  14013.10  14005.05  14012.70         NaN\n",
       "3  NIFTY  20210101  09:19  14013.65  14019.10  14013.65  14016.20         NaN\n",
       "4  NIFTY  20210101  09:20  14015.45  14017.80  14011.95  14015.45         NaN"
      ]
     },
     "execution_count": 32,
     "metadata": {},
     "output_type": "execute_result"
    }
   ],
   "source": [
    "data = pd.read_csv('DataFrame.csv')      #Reading csv file and creating DataFrame\n",
    "print(data.shape)\n",
    "data.head()"
   ]
  },
  {
   "cell_type": "code",
   "execution_count": null,
   "metadata": {},
   "outputs": [],
   "source": []
  },
  {
   "cell_type": "code",
   "execution_count": 33,
   "metadata": {
    "id": "FLzCWg_g3r8q"
   },
   "outputs": [],
   "source": [
    "data.drop('Unnamed: 7' , axis = 1 , inplace = True)   #Dropping unnecessary Column:-> Unnamed: 7"
   ]
  },
  {
   "cell_type": "code",
   "execution_count": 34,
   "metadata": {
    "id": "uCSRAwj_3r8r"
   },
   "outputs": [],
   "source": [
    "data.rename(columns = str.upper , inplace = True)"
   ]
  },
  {
   "cell_type": "code",
   "execution_count": 35,
   "metadata": {
    "colab": {
     "base_uri": "https://localhost:8080/",
     "height": 424
    },
    "id": "WKlfXbvG3r8s",
    "outputId": "8ee015ea-a500-430b-9bc9-a13035c3d064"
   },
   "outputs": [
    {
     "data": {
      "text/html": [
       "<div>\n",
       "<style scoped>\n",
       "    .dataframe tbody tr th:only-of-type {\n",
       "        vertical-align: middle;\n",
       "    }\n",
       "\n",
       "    .dataframe tbody tr th {\n",
       "        vertical-align: top;\n",
       "    }\n",
       "\n",
       "    .dataframe thead th {\n",
       "        text-align: right;\n",
       "    }\n",
       "</style>\n",
       "<table border=\"1\" class=\"dataframe\">\n",
       "  <thead>\n",
       "    <tr style=\"text-align: right;\">\n",
       "      <th></th>\n",
       "      <th>TYPE</th>\n",
       "      <th>DATE</th>\n",
       "      <th>TIME</th>\n",
       "      <th>OPEN</th>\n",
       "      <th>HIGH</th>\n",
       "      <th>LOW</th>\n",
       "      <th>CLOSE</th>\n",
       "    </tr>\n",
       "  </thead>\n",
       "  <tbody>\n",
       "    <tr>\n",
       "      <th>0</th>\n",
       "      <td>NIFTY</td>\n",
       "      <td>20210101</td>\n",
       "      <td>09:16</td>\n",
       "      <td>13997.90</td>\n",
       "      <td>14020.85</td>\n",
       "      <td>13991.35</td>\n",
       "      <td>14013.15</td>\n",
       "    </tr>\n",
       "    <tr>\n",
       "      <th>1</th>\n",
       "      <td>NIFTY</td>\n",
       "      <td>20210101</td>\n",
       "      <td>09:17</td>\n",
       "      <td>14014.85</td>\n",
       "      <td>14018.55</td>\n",
       "      <td>14008.15</td>\n",
       "      <td>14009.05</td>\n",
       "    </tr>\n",
       "    <tr>\n",
       "      <th>2</th>\n",
       "      <td>NIFTY</td>\n",
       "      <td>20210101</td>\n",
       "      <td>09:18</td>\n",
       "      <td>14008.05</td>\n",
       "      <td>14013.10</td>\n",
       "      <td>14005.05</td>\n",
       "      <td>14012.70</td>\n",
       "    </tr>\n",
       "    <tr>\n",
       "      <th>3</th>\n",
       "      <td>NIFTY</td>\n",
       "      <td>20210101</td>\n",
       "      <td>09:19</td>\n",
       "      <td>14013.65</td>\n",
       "      <td>14019.10</td>\n",
       "      <td>14013.65</td>\n",
       "      <td>14016.20</td>\n",
       "    </tr>\n",
       "    <tr>\n",
       "      <th>4</th>\n",
       "      <td>NIFTY</td>\n",
       "      <td>20210101</td>\n",
       "      <td>09:20</td>\n",
       "      <td>14015.45</td>\n",
       "      <td>14017.80</td>\n",
       "      <td>14011.95</td>\n",
       "      <td>14015.45</td>\n",
       "    </tr>\n",
       "    <tr>\n",
       "      <th>5</th>\n",
       "      <td>NIFTY</td>\n",
       "      <td>20210101</td>\n",
       "      <td>09:21</td>\n",
       "      <td>14016.00</td>\n",
       "      <td>14021.75</td>\n",
       "      <td>14006.40</td>\n",
       "      <td>14020.75</td>\n",
       "    </tr>\n",
       "    <tr>\n",
       "      <th>6</th>\n",
       "      <td>NIFTY</td>\n",
       "      <td>20210101</td>\n",
       "      <td>09:22</td>\n",
       "      <td>14020.70</td>\n",
       "      <td>14023.45</td>\n",
       "      <td>14018.70</td>\n",
       "      <td>14019.45</td>\n",
       "    </tr>\n",
       "    <tr>\n",
       "      <th>7</th>\n",
       "      <td>NIFTY</td>\n",
       "      <td>20210101</td>\n",
       "      <td>09:23</td>\n",
       "      <td>14018.40</td>\n",
       "      <td>14021.05</td>\n",
       "      <td>14017.45</td>\n",
       "      <td>14019.45</td>\n",
       "    </tr>\n",
       "    <tr>\n",
       "      <th>8</th>\n",
       "      <td>NIFTY</td>\n",
       "      <td>20210101</td>\n",
       "      <td>09:24</td>\n",
       "      <td>14020.00</td>\n",
       "      <td>14020.00</td>\n",
       "      <td>14007.60</td>\n",
       "      <td>14010.50</td>\n",
       "    </tr>\n",
       "    <tr>\n",
       "      <th>9</th>\n",
       "      <td>NIFTY</td>\n",
       "      <td>20210101</td>\n",
       "      <td>09:25</td>\n",
       "      <td>14010.25</td>\n",
       "      <td>14014.10</td>\n",
       "      <td>14007.30</td>\n",
       "      <td>14014.10</td>\n",
       "    </tr>\n",
       "    <tr>\n",
       "      <th>10</th>\n",
       "      <td>NIFTY</td>\n",
       "      <td>20210101</td>\n",
       "      <td>09:26</td>\n",
       "      <td>14014.30</td>\n",
       "      <td>14014.30</td>\n",
       "      <td>14006.75</td>\n",
       "      <td>14007.65</td>\n",
       "    </tr>\n",
       "    <tr>\n",
       "      <th>11</th>\n",
       "      <td>NIFTY</td>\n",
       "      <td>20210101</td>\n",
       "      <td>09:27</td>\n",
       "      <td>14007.35</td>\n",
       "      <td>14012.95</td>\n",
       "      <td>14006.65</td>\n",
       "      <td>14011.80</td>\n",
       "    </tr>\n",
       "    <tr>\n",
       "      <th>12</th>\n",
       "      <td>NIFTY</td>\n",
       "      <td>20210101</td>\n",
       "      <td>09:28</td>\n",
       "      <td>14012.40</td>\n",
       "      <td>14014.20</td>\n",
       "      <td>14011.50</td>\n",
       "      <td>14013.65</td>\n",
       "    </tr>\n",
       "    <tr>\n",
       "      <th>13</th>\n",
       "      <td>NIFTY</td>\n",
       "      <td>20210101</td>\n",
       "      <td>09:29</td>\n",
       "      <td>14014.40</td>\n",
       "      <td>14019.60</td>\n",
       "      <td>14013.50</td>\n",
       "      <td>14018.50</td>\n",
       "    </tr>\n",
       "    <tr>\n",
       "      <th>14</th>\n",
       "      <td>NIFTY</td>\n",
       "      <td>20210101</td>\n",
       "      <td>09:30</td>\n",
       "      <td>14017.95</td>\n",
       "      <td>14019.35</td>\n",
       "      <td>14014.65</td>\n",
       "      <td>14018.20</td>\n",
       "    </tr>\n",
       "    <tr>\n",
       "      <th>15</th>\n",
       "      <td>NIFTY</td>\n",
       "      <td>20210101</td>\n",
       "      <td>09:31</td>\n",
       "      <td>14019.00</td>\n",
       "      <td>14028.90</td>\n",
       "      <td>14018.25</td>\n",
       "      <td>14025.50</td>\n",
       "    </tr>\n",
       "    <tr>\n",
       "      <th>16</th>\n",
       "      <td>NIFTY</td>\n",
       "      <td>20210101</td>\n",
       "      <td>09:32</td>\n",
       "      <td>14026.30</td>\n",
       "      <td>14027.30</td>\n",
       "      <td>14022.90</td>\n",
       "      <td>14025.45</td>\n",
       "    </tr>\n",
       "    <tr>\n",
       "      <th>17</th>\n",
       "      <td>NIFTY</td>\n",
       "      <td>20210101</td>\n",
       "      <td>09:33</td>\n",
       "      <td>14026.40</td>\n",
       "      <td>14026.55</td>\n",
       "      <td>14022.35</td>\n",
       "      <td>14023.60</td>\n",
       "    </tr>\n",
       "    <tr>\n",
       "      <th>18</th>\n",
       "      <td>NIFTY</td>\n",
       "      <td>20210101</td>\n",
       "      <td>09:34</td>\n",
       "      <td>14023.10</td>\n",
       "      <td>14025.35</td>\n",
       "      <td>14020.70</td>\n",
       "      <td>14021.90</td>\n",
       "    </tr>\n",
       "    <tr>\n",
       "      <th>19</th>\n",
       "      <td>NIFTY</td>\n",
       "      <td>20210101</td>\n",
       "      <td>09:35</td>\n",
       "      <td>14021.25</td>\n",
       "      <td>14022.80</td>\n",
       "      <td>14018.80</td>\n",
       "      <td>14020.10</td>\n",
       "    </tr>\n",
       "    <tr>\n",
       "      <th>20</th>\n",
       "      <td>NIFTY</td>\n",
       "      <td>20210101</td>\n",
       "      <td>09:36</td>\n",
       "      <td>14020.50</td>\n",
       "      <td>14020.60</td>\n",
       "      <td>14015.20</td>\n",
       "      <td>14016.45</td>\n",
       "    </tr>\n",
       "    <tr>\n",
       "      <th>21</th>\n",
       "      <td>NIFTY</td>\n",
       "      <td>20210101</td>\n",
       "      <td>09:37</td>\n",
       "      <td>14016.85</td>\n",
       "      <td>14018.85</td>\n",
       "      <td>14014.00</td>\n",
       "      <td>14018.30</td>\n",
       "    </tr>\n",
       "    <tr>\n",
       "      <th>22</th>\n",
       "      <td>NIFTY</td>\n",
       "      <td>20210101</td>\n",
       "      <td>09:38</td>\n",
       "      <td>14007.95</td>\n",
       "      <td>14008.00</td>\n",
       "      <td>14001.15</td>\n",
       "      <td>14006.60</td>\n",
       "    </tr>\n",
       "    <tr>\n",
       "      <th>23</th>\n",
       "      <td>NIFTY</td>\n",
       "      <td>20210101</td>\n",
       "      <td>09:39</td>\n",
       "      <td>14006.80</td>\n",
       "      <td>14017.70</td>\n",
       "      <td>14006.80</td>\n",
       "      <td>14016.95</td>\n",
       "    </tr>\n",
       "    <tr>\n",
       "      <th>24</th>\n",
       "      <td>NIFTY</td>\n",
       "      <td>20210101</td>\n",
       "      <td>09:40</td>\n",
       "      <td>14016.90</td>\n",
       "      <td>14017.85</td>\n",
       "      <td>14014.30</td>\n",
       "      <td>14017.85</td>\n",
       "    </tr>\n",
       "    <tr>\n",
       "      <th>25</th>\n",
       "      <td>NIFTY</td>\n",
       "      <td>20210101</td>\n",
       "      <td>09:41</td>\n",
       "      <td>14017.55</td>\n",
       "      <td>14019.85</td>\n",
       "      <td>14016.90</td>\n",
       "      <td>14018.65</td>\n",
       "    </tr>\n",
       "    <tr>\n",
       "      <th>26</th>\n",
       "      <td>NIFTY</td>\n",
       "      <td>20210101</td>\n",
       "      <td>09:42</td>\n",
       "      <td>14019.75</td>\n",
       "      <td>14023.30</td>\n",
       "      <td>14018.40</td>\n",
       "      <td>14022.95</td>\n",
       "    </tr>\n",
       "    <tr>\n",
       "      <th>27</th>\n",
       "      <td>NIFTY</td>\n",
       "      <td>20210101</td>\n",
       "      <td>09:43</td>\n",
       "      <td>14023.10</td>\n",
       "      <td>14025.45</td>\n",
       "      <td>14021.95</td>\n",
       "      <td>14021.95</td>\n",
       "    </tr>\n",
       "    <tr>\n",
       "      <th>28</th>\n",
       "      <td>NIFTY</td>\n",
       "      <td>20210101</td>\n",
       "      <td>09:44</td>\n",
       "      <td>14022.75</td>\n",
       "      <td>14024.80</td>\n",
       "      <td>14021.70</td>\n",
       "      <td>14023.95</td>\n",
       "    </tr>\n",
       "    <tr>\n",
       "      <th>29</th>\n",
       "      <td>NIFTY</td>\n",
       "      <td>20210101</td>\n",
       "      <td>09:45</td>\n",
       "      <td>14024.15</td>\n",
       "      <td>14026.70</td>\n",
       "      <td>14023.95</td>\n",
       "      <td>14023.95</td>\n",
       "    </tr>\n",
       "    <tr>\n",
       "      <th>...</th>\n",
       "      <td>...</td>\n",
       "      <td>...</td>\n",
       "      <td>...</td>\n",
       "      <td>...</td>\n",
       "      <td>...</td>\n",
       "      <td>...</td>\n",
       "      <td>...</td>\n",
       "    </tr>\n",
       "    <tr>\n",
       "      <th>22775</th>\n",
       "      <td>NIFTY</td>\n",
       "      <td>20210331</td>\n",
       "      <td>15:02</td>\n",
       "      <td>14697.85</td>\n",
       "      <td>14697.85</td>\n",
       "      <td>14680.60</td>\n",
       "      <td>14680.90</td>\n",
       "    </tr>\n",
       "    <tr>\n",
       "      <th>22776</th>\n",
       "      <td>NIFTY</td>\n",
       "      <td>20210331</td>\n",
       "      <td>15:03</td>\n",
       "      <td>14680.20</td>\n",
       "      <td>14680.35</td>\n",
       "      <td>14670.25</td>\n",
       "      <td>14677.55</td>\n",
       "    </tr>\n",
       "    <tr>\n",
       "      <th>22777</th>\n",
       "      <td>NIFTY</td>\n",
       "      <td>20210331</td>\n",
       "      <td>15:04</td>\n",
       "      <td>14678.05</td>\n",
       "      <td>14686.90</td>\n",
       "      <td>14678.05</td>\n",
       "      <td>14681.35</td>\n",
       "    </tr>\n",
       "    <tr>\n",
       "      <th>22778</th>\n",
       "      <td>NIFTY</td>\n",
       "      <td>20210331</td>\n",
       "      <td>15:05</td>\n",
       "      <td>14681.25</td>\n",
       "      <td>14684.20</td>\n",
       "      <td>14678.05</td>\n",
       "      <td>14682.60</td>\n",
       "    </tr>\n",
       "    <tr>\n",
       "      <th>22779</th>\n",
       "      <td>NIFTY</td>\n",
       "      <td>20210331</td>\n",
       "      <td>15:06</td>\n",
       "      <td>14681.70</td>\n",
       "      <td>14682.40</td>\n",
       "      <td>14675.50</td>\n",
       "      <td>14676.00</td>\n",
       "    </tr>\n",
       "    <tr>\n",
       "      <th>22780</th>\n",
       "      <td>NIFTY</td>\n",
       "      <td>20210331</td>\n",
       "      <td>15:07</td>\n",
       "      <td>14674.80</td>\n",
       "      <td>14692.15</td>\n",
       "      <td>14674.25</td>\n",
       "      <td>14691.95</td>\n",
       "    </tr>\n",
       "    <tr>\n",
       "      <th>22781</th>\n",
       "      <td>NIFTY</td>\n",
       "      <td>20210331</td>\n",
       "      <td>15:08</td>\n",
       "      <td>14691.40</td>\n",
       "      <td>14697.20</td>\n",
       "      <td>14687.55</td>\n",
       "      <td>14696.80</td>\n",
       "    </tr>\n",
       "    <tr>\n",
       "      <th>22782</th>\n",
       "      <td>NIFTY</td>\n",
       "      <td>20210331</td>\n",
       "      <td>15:09</td>\n",
       "      <td>14696.10</td>\n",
       "      <td>14703.95</td>\n",
       "      <td>14696.10</td>\n",
       "      <td>14701.95</td>\n",
       "    </tr>\n",
       "    <tr>\n",
       "      <th>22783</th>\n",
       "      <td>NIFTY</td>\n",
       "      <td>20210331</td>\n",
       "      <td>15:10</td>\n",
       "      <td>14701.85</td>\n",
       "      <td>14702.55</td>\n",
       "      <td>14696.75</td>\n",
       "      <td>14700.35</td>\n",
       "    </tr>\n",
       "    <tr>\n",
       "      <th>22784</th>\n",
       "      <td>NIFTY</td>\n",
       "      <td>20210331</td>\n",
       "      <td>15:11</td>\n",
       "      <td>14700.05</td>\n",
       "      <td>14706.15</td>\n",
       "      <td>14695.60</td>\n",
       "      <td>14695.80</td>\n",
       "    </tr>\n",
       "    <tr>\n",
       "      <th>22785</th>\n",
       "      <td>NIFTY</td>\n",
       "      <td>20210331</td>\n",
       "      <td>15:12</td>\n",
       "      <td>14695.70</td>\n",
       "      <td>14700.65</td>\n",
       "      <td>14694.50</td>\n",
       "      <td>14695.75</td>\n",
       "    </tr>\n",
       "    <tr>\n",
       "      <th>22786</th>\n",
       "      <td>NIFTY</td>\n",
       "      <td>20210331</td>\n",
       "      <td>15:13</td>\n",
       "      <td>14695.50</td>\n",
       "      <td>14698.20</td>\n",
       "      <td>14686.90</td>\n",
       "      <td>14689.35</td>\n",
       "    </tr>\n",
       "    <tr>\n",
       "      <th>22787</th>\n",
       "      <td>NIFTY</td>\n",
       "      <td>20210331</td>\n",
       "      <td>15:14</td>\n",
       "      <td>14689.15</td>\n",
       "      <td>14702.35</td>\n",
       "      <td>14689.15</td>\n",
       "      <td>14700.60</td>\n",
       "    </tr>\n",
       "    <tr>\n",
       "      <th>22788</th>\n",
       "      <td>NIFTY</td>\n",
       "      <td>20210331</td>\n",
       "      <td>15:15</td>\n",
       "      <td>14700.00</td>\n",
       "      <td>14700.00</td>\n",
       "      <td>14694.30</td>\n",
       "      <td>14694.30</td>\n",
       "    </tr>\n",
       "    <tr>\n",
       "      <th>22789</th>\n",
       "      <td>NIFTY</td>\n",
       "      <td>20210331</td>\n",
       "      <td>15:16</td>\n",
       "      <td>14693.40</td>\n",
       "      <td>14693.95</td>\n",
       "      <td>14689.15</td>\n",
       "      <td>14692.85</td>\n",
       "    </tr>\n",
       "    <tr>\n",
       "      <th>22790</th>\n",
       "      <td>NIFTY</td>\n",
       "      <td>20210331</td>\n",
       "      <td>15:17</td>\n",
       "      <td>14691.50</td>\n",
       "      <td>14694.15</td>\n",
       "      <td>14691.30</td>\n",
       "      <td>14693.85</td>\n",
       "    </tr>\n",
       "    <tr>\n",
       "      <th>22791</th>\n",
       "      <td>NIFTY</td>\n",
       "      <td>20210331</td>\n",
       "      <td>15:18</td>\n",
       "      <td>14693.95</td>\n",
       "      <td>14696.95</td>\n",
       "      <td>14690.10</td>\n",
       "      <td>14690.60</td>\n",
       "    </tr>\n",
       "    <tr>\n",
       "      <th>22792</th>\n",
       "      <td>NIFTY</td>\n",
       "      <td>20210331</td>\n",
       "      <td>15:19</td>\n",
       "      <td>14690.20</td>\n",
       "      <td>14694.30</td>\n",
       "      <td>14689.80</td>\n",
       "      <td>14691.25</td>\n",
       "    </tr>\n",
       "    <tr>\n",
       "      <th>22793</th>\n",
       "      <td>NIFTY</td>\n",
       "      <td>20210331</td>\n",
       "      <td>15:20</td>\n",
       "      <td>14691.00</td>\n",
       "      <td>14692.25</td>\n",
       "      <td>14686.55</td>\n",
       "      <td>14686.70</td>\n",
       "    </tr>\n",
       "    <tr>\n",
       "      <th>22794</th>\n",
       "      <td>NIFTY</td>\n",
       "      <td>20210331</td>\n",
       "      <td>15:21</td>\n",
       "      <td>14686.90</td>\n",
       "      <td>14691.70</td>\n",
       "      <td>14686.85</td>\n",
       "      <td>14687.95</td>\n",
       "    </tr>\n",
       "    <tr>\n",
       "      <th>22795</th>\n",
       "      <td>NIFTY</td>\n",
       "      <td>20210331</td>\n",
       "      <td>15:22</td>\n",
       "      <td>14687.85</td>\n",
       "      <td>14699.90</td>\n",
       "      <td>14676.05</td>\n",
       "      <td>14682.30</td>\n",
       "    </tr>\n",
       "    <tr>\n",
       "      <th>22796</th>\n",
       "      <td>NIFTY</td>\n",
       "      <td>20210331</td>\n",
       "      <td>15:23</td>\n",
       "      <td>14682.20</td>\n",
       "      <td>14693.00</td>\n",
       "      <td>14682.20</td>\n",
       "      <td>14688.70</td>\n",
       "    </tr>\n",
       "    <tr>\n",
       "      <th>22797</th>\n",
       "      <td>NIFTY</td>\n",
       "      <td>20210331</td>\n",
       "      <td>15:24</td>\n",
       "      <td>14688.40</td>\n",
       "      <td>14688.80</td>\n",
       "      <td>14683.90</td>\n",
       "      <td>14685.15</td>\n",
       "    </tr>\n",
       "    <tr>\n",
       "      <th>22798</th>\n",
       "      <td>NIFTY</td>\n",
       "      <td>20210331</td>\n",
       "      <td>15:25</td>\n",
       "      <td>14685.85</td>\n",
       "      <td>14688.10</td>\n",
       "      <td>14685.50</td>\n",
       "      <td>14687.75</td>\n",
       "    </tr>\n",
       "    <tr>\n",
       "      <th>22799</th>\n",
       "      <td>NIFTY</td>\n",
       "      <td>20210331</td>\n",
       "      <td>15:26</td>\n",
       "      <td>14687.25</td>\n",
       "      <td>14697.15</td>\n",
       "      <td>14686.80</td>\n",
       "      <td>14687.65</td>\n",
       "    </tr>\n",
       "    <tr>\n",
       "      <th>22800</th>\n",
       "      <td>NIFTY</td>\n",
       "      <td>20210331</td>\n",
       "      <td>15:27</td>\n",
       "      <td>14687.35</td>\n",
       "      <td>14694.35</td>\n",
       "      <td>14686.30</td>\n",
       "      <td>14690.60</td>\n",
       "    </tr>\n",
       "    <tr>\n",
       "      <th>22801</th>\n",
       "      <td>NIFTY</td>\n",
       "      <td>20210331</td>\n",
       "      <td>15:28</td>\n",
       "      <td>14690.90</td>\n",
       "      <td>14690.90</td>\n",
       "      <td>14686.05</td>\n",
       "      <td>14689.30</td>\n",
       "    </tr>\n",
       "    <tr>\n",
       "      <th>22802</th>\n",
       "      <td>NIFTY</td>\n",
       "      <td>20210331</td>\n",
       "      <td>15:29</td>\n",
       "      <td>14690.30</td>\n",
       "      <td>14694.10</td>\n",
       "      <td>14688.55</td>\n",
       "      <td>14691.30</td>\n",
       "    </tr>\n",
       "    <tr>\n",
       "      <th>22803</th>\n",
       "      <td>NIFTY</td>\n",
       "      <td>20210331</td>\n",
       "      <td>15:30</td>\n",
       "      <td>14689.85</td>\n",
       "      <td>14693.55</td>\n",
       "      <td>14689.45</td>\n",
       "      <td>14693.05</td>\n",
       "    </tr>\n",
       "    <tr>\n",
       "      <th>22804</th>\n",
       "      <td>NIFTY</td>\n",
       "      <td>20210331</td>\n",
       "      <td>15:31</td>\n",
       "      <td>14690.70</td>\n",
       "      <td>14690.70</td>\n",
       "      <td>14690.70</td>\n",
       "      <td>14690.70</td>\n",
       "    </tr>\n",
       "  </tbody>\n",
       "</table>\n",
       "<p>22805 rows × 7 columns</p>\n",
       "</div>"
      ],
      "text/plain": [
       "        TYPE      DATE   TIME      OPEN      HIGH       LOW     CLOSE\n",
       "0      NIFTY  20210101  09:16  13997.90  14020.85  13991.35  14013.15\n",
       "1      NIFTY  20210101  09:17  14014.85  14018.55  14008.15  14009.05\n",
       "2      NIFTY  20210101  09:18  14008.05  14013.10  14005.05  14012.70\n",
       "3      NIFTY  20210101  09:19  14013.65  14019.10  14013.65  14016.20\n",
       "4      NIFTY  20210101  09:20  14015.45  14017.80  14011.95  14015.45\n",
       "5      NIFTY  20210101  09:21  14016.00  14021.75  14006.40  14020.75\n",
       "6      NIFTY  20210101  09:22  14020.70  14023.45  14018.70  14019.45\n",
       "7      NIFTY  20210101  09:23  14018.40  14021.05  14017.45  14019.45\n",
       "8      NIFTY  20210101  09:24  14020.00  14020.00  14007.60  14010.50\n",
       "9      NIFTY  20210101  09:25  14010.25  14014.10  14007.30  14014.10\n",
       "10     NIFTY  20210101  09:26  14014.30  14014.30  14006.75  14007.65\n",
       "11     NIFTY  20210101  09:27  14007.35  14012.95  14006.65  14011.80\n",
       "12     NIFTY  20210101  09:28  14012.40  14014.20  14011.50  14013.65\n",
       "13     NIFTY  20210101  09:29  14014.40  14019.60  14013.50  14018.50\n",
       "14     NIFTY  20210101  09:30  14017.95  14019.35  14014.65  14018.20\n",
       "15     NIFTY  20210101  09:31  14019.00  14028.90  14018.25  14025.50\n",
       "16     NIFTY  20210101  09:32  14026.30  14027.30  14022.90  14025.45\n",
       "17     NIFTY  20210101  09:33  14026.40  14026.55  14022.35  14023.60\n",
       "18     NIFTY  20210101  09:34  14023.10  14025.35  14020.70  14021.90\n",
       "19     NIFTY  20210101  09:35  14021.25  14022.80  14018.80  14020.10\n",
       "20     NIFTY  20210101  09:36  14020.50  14020.60  14015.20  14016.45\n",
       "21     NIFTY  20210101  09:37  14016.85  14018.85  14014.00  14018.30\n",
       "22     NIFTY  20210101  09:38  14007.95  14008.00  14001.15  14006.60\n",
       "23     NIFTY  20210101  09:39  14006.80  14017.70  14006.80  14016.95\n",
       "24     NIFTY  20210101  09:40  14016.90  14017.85  14014.30  14017.85\n",
       "25     NIFTY  20210101  09:41  14017.55  14019.85  14016.90  14018.65\n",
       "26     NIFTY  20210101  09:42  14019.75  14023.30  14018.40  14022.95\n",
       "27     NIFTY  20210101  09:43  14023.10  14025.45  14021.95  14021.95\n",
       "28     NIFTY  20210101  09:44  14022.75  14024.80  14021.70  14023.95\n",
       "29     NIFTY  20210101  09:45  14024.15  14026.70  14023.95  14023.95\n",
       "...      ...       ...    ...       ...       ...       ...       ...\n",
       "22775  NIFTY  20210331  15:02  14697.85  14697.85  14680.60  14680.90\n",
       "22776  NIFTY  20210331  15:03  14680.20  14680.35  14670.25  14677.55\n",
       "22777  NIFTY  20210331  15:04  14678.05  14686.90  14678.05  14681.35\n",
       "22778  NIFTY  20210331  15:05  14681.25  14684.20  14678.05  14682.60\n",
       "22779  NIFTY  20210331  15:06  14681.70  14682.40  14675.50  14676.00\n",
       "22780  NIFTY  20210331  15:07  14674.80  14692.15  14674.25  14691.95\n",
       "22781  NIFTY  20210331  15:08  14691.40  14697.20  14687.55  14696.80\n",
       "22782  NIFTY  20210331  15:09  14696.10  14703.95  14696.10  14701.95\n",
       "22783  NIFTY  20210331  15:10  14701.85  14702.55  14696.75  14700.35\n",
       "22784  NIFTY  20210331  15:11  14700.05  14706.15  14695.60  14695.80\n",
       "22785  NIFTY  20210331  15:12  14695.70  14700.65  14694.50  14695.75\n",
       "22786  NIFTY  20210331  15:13  14695.50  14698.20  14686.90  14689.35\n",
       "22787  NIFTY  20210331  15:14  14689.15  14702.35  14689.15  14700.60\n",
       "22788  NIFTY  20210331  15:15  14700.00  14700.00  14694.30  14694.30\n",
       "22789  NIFTY  20210331  15:16  14693.40  14693.95  14689.15  14692.85\n",
       "22790  NIFTY  20210331  15:17  14691.50  14694.15  14691.30  14693.85\n",
       "22791  NIFTY  20210331  15:18  14693.95  14696.95  14690.10  14690.60\n",
       "22792  NIFTY  20210331  15:19  14690.20  14694.30  14689.80  14691.25\n",
       "22793  NIFTY  20210331  15:20  14691.00  14692.25  14686.55  14686.70\n",
       "22794  NIFTY  20210331  15:21  14686.90  14691.70  14686.85  14687.95\n",
       "22795  NIFTY  20210331  15:22  14687.85  14699.90  14676.05  14682.30\n",
       "22796  NIFTY  20210331  15:23  14682.20  14693.00  14682.20  14688.70\n",
       "22797  NIFTY  20210331  15:24  14688.40  14688.80  14683.90  14685.15\n",
       "22798  NIFTY  20210331  15:25  14685.85  14688.10  14685.50  14687.75\n",
       "22799  NIFTY  20210331  15:26  14687.25  14697.15  14686.80  14687.65\n",
       "22800  NIFTY  20210331  15:27  14687.35  14694.35  14686.30  14690.60\n",
       "22801  NIFTY  20210331  15:28  14690.90  14690.90  14686.05  14689.30\n",
       "22802  NIFTY  20210331  15:29  14690.30  14694.10  14688.55  14691.30\n",
       "22803  NIFTY  20210331  15:30  14689.85  14693.55  14689.45  14693.05\n",
       "22804  NIFTY  20210331  15:31  14690.70  14690.70  14690.70  14690.70\n",
       "\n",
       "[22805 rows x 7 columns]"
      ]
     },
     "execution_count": 35,
     "metadata": {},
     "output_type": "execute_result"
    }
   ],
   "source": [
    "data"
   ]
  },
  {
   "cell_type": "markdown",
   "metadata": {
    "id": "VD3JAUN23r8t"
   },
   "source": [
    "# CONVERTING STRING INTO DATE TIME SERIES"
   ]
  },
  {
   "cell_type": "code",
   "execution_count": 36,
   "metadata": {
    "id": "O7UfjCPS3r8u"
   },
   "outputs": [],
   "source": [
    "import datetime\n",
    "data['DATE'] = pd.to_datetime(data['DATE'] , format = \"%Y%m%d\")"
   ]
  },
  {
   "cell_type": "code",
   "execution_count": 37,
   "metadata": {
    "colab": {
     "base_uri": "https://localhost:8080/",
     "height": 206
    },
    "id": "FuvyQBwV3r8v",
    "outputId": "0613a3cc-ac98-4751-8e3f-b49eefd12d36"
   },
   "outputs": [
    {
     "data": {
      "text/html": [
       "<div>\n",
       "<style scoped>\n",
       "    .dataframe tbody tr th:only-of-type {\n",
       "        vertical-align: middle;\n",
       "    }\n",
       "\n",
       "    .dataframe tbody tr th {\n",
       "        vertical-align: top;\n",
       "    }\n",
       "\n",
       "    .dataframe thead th {\n",
       "        text-align: right;\n",
       "    }\n",
       "</style>\n",
       "<table border=\"1\" class=\"dataframe\">\n",
       "  <thead>\n",
       "    <tr style=\"text-align: right;\">\n",
       "      <th></th>\n",
       "      <th>TYPE</th>\n",
       "      <th>DATE</th>\n",
       "      <th>TIME</th>\n",
       "      <th>OPEN</th>\n",
       "      <th>HIGH</th>\n",
       "      <th>LOW</th>\n",
       "      <th>CLOSE</th>\n",
       "    </tr>\n",
       "  </thead>\n",
       "  <tbody>\n",
       "    <tr>\n",
       "      <th>0</th>\n",
       "      <td>NIFTY</td>\n",
       "      <td>2021-01-01</td>\n",
       "      <td>09:16</td>\n",
       "      <td>13997.90</td>\n",
       "      <td>14020.85</td>\n",
       "      <td>13991.35</td>\n",
       "      <td>14013.15</td>\n",
       "    </tr>\n",
       "    <tr>\n",
       "      <th>1</th>\n",
       "      <td>NIFTY</td>\n",
       "      <td>2021-01-01</td>\n",
       "      <td>09:17</td>\n",
       "      <td>14014.85</td>\n",
       "      <td>14018.55</td>\n",
       "      <td>14008.15</td>\n",
       "      <td>14009.05</td>\n",
       "    </tr>\n",
       "    <tr>\n",
       "      <th>2</th>\n",
       "      <td>NIFTY</td>\n",
       "      <td>2021-01-01</td>\n",
       "      <td>09:18</td>\n",
       "      <td>14008.05</td>\n",
       "      <td>14013.10</td>\n",
       "      <td>14005.05</td>\n",
       "      <td>14012.70</td>\n",
       "    </tr>\n",
       "    <tr>\n",
       "      <th>3</th>\n",
       "      <td>NIFTY</td>\n",
       "      <td>2021-01-01</td>\n",
       "      <td>09:19</td>\n",
       "      <td>14013.65</td>\n",
       "      <td>14019.10</td>\n",
       "      <td>14013.65</td>\n",
       "      <td>14016.20</td>\n",
       "    </tr>\n",
       "    <tr>\n",
       "      <th>4</th>\n",
       "      <td>NIFTY</td>\n",
       "      <td>2021-01-01</td>\n",
       "      <td>09:20</td>\n",
       "      <td>14015.45</td>\n",
       "      <td>14017.80</td>\n",
       "      <td>14011.95</td>\n",
       "      <td>14015.45</td>\n",
       "    </tr>\n",
       "  </tbody>\n",
       "</table>\n",
       "</div>"
      ],
      "text/plain": [
       "    TYPE       DATE   TIME      OPEN      HIGH       LOW     CLOSE\n",
       "0  NIFTY 2021-01-01  09:16  13997.90  14020.85  13991.35  14013.15\n",
       "1  NIFTY 2021-01-01  09:17  14014.85  14018.55  14008.15  14009.05\n",
       "2  NIFTY 2021-01-01  09:18  14008.05  14013.10  14005.05  14012.70\n",
       "3  NIFTY 2021-01-01  09:19  14013.65  14019.10  14013.65  14016.20\n",
       "4  NIFTY 2021-01-01  09:20  14015.45  14017.80  14011.95  14015.45"
      ]
     },
     "execution_count": 37,
     "metadata": {},
     "output_type": "execute_result"
    }
   ],
   "source": [
    "data.head()"
   ]
  },
  {
   "cell_type": "code",
   "execution_count": null,
   "metadata": {
    "colab": {
     "base_uri": "https://localhost:8080/",
     "height": 436
    },
    "id": "f3xURQ1p3r8w",
    "outputId": "dab3f08e-8619-43a6-a0fa-9d46466a6fc3"
   },
   "outputs": [],
   "source": []
  },
  {
   "cell_type": "code",
   "execution_count": 38,
   "metadata": {
    "colab": {
     "base_uri": "https://localhost:8080/",
     "height": 300
    },
    "id": "Q0BEaHXq3r8y",
    "outputId": "c33fd056-fd19-40d4-9f03-4588670f9c04"
   },
   "outputs": [
    {
     "data": {
      "text/html": [
       "<div>\n",
       "<style scoped>\n",
       "    .dataframe tbody tr th:only-of-type {\n",
       "        vertical-align: middle;\n",
       "    }\n",
       "\n",
       "    .dataframe tbody tr th {\n",
       "        vertical-align: top;\n",
       "    }\n",
       "\n",
       "    .dataframe thead th {\n",
       "        text-align: right;\n",
       "    }\n",
       "</style>\n",
       "<table border=\"1\" class=\"dataframe\">\n",
       "  <thead>\n",
       "    <tr style=\"text-align: right;\">\n",
       "      <th></th>\n",
       "      <th>OPEN</th>\n",
       "      <th>HIGH</th>\n",
       "      <th>LOW</th>\n",
       "      <th>CLOSE</th>\n",
       "    </tr>\n",
       "  </thead>\n",
       "  <tbody>\n",
       "    <tr>\n",
       "      <th>count</th>\n",
       "      <td>22805.000000</td>\n",
       "      <td>22805.000000</td>\n",
       "      <td>22805.000000</td>\n",
       "      <td>22805.000000</td>\n",
       "    </tr>\n",
       "    <tr>\n",
       "      <th>mean</th>\n",
       "      <td>14703.322396</td>\n",
       "      <td>14707.486481</td>\n",
       "      <td>14699.102201</td>\n",
       "      <td>14703.260816</td>\n",
       "    </tr>\n",
       "    <tr>\n",
       "      <th>std</th>\n",
       "      <td>391.377498</td>\n",
       "      <td>391.265231</td>\n",
       "      <td>391.551643</td>\n",
       "      <td>391.366248</td>\n",
       "    </tr>\n",
       "    <tr>\n",
       "      <th>min</th>\n",
       "      <td>13604.750000</td>\n",
       "      <td>13614.400000</td>\n",
       "      <td>13596.750000</td>\n",
       "      <td>13602.800000</td>\n",
       "    </tr>\n",
       "    <tr>\n",
       "      <th>25%</th>\n",
       "      <td>14462.250000</td>\n",
       "      <td>14465.950000</td>\n",
       "      <td>14458.050000</td>\n",
       "      <td>14461.950000</td>\n",
       "    </tr>\n",
       "    <tr>\n",
       "      <th>50%</th>\n",
       "      <td>14739.500000</td>\n",
       "      <td>14743.000000</td>\n",
       "      <td>14735.850000</td>\n",
       "      <td>14739.450000</td>\n",
       "    </tr>\n",
       "    <tr>\n",
       "      <th>75%</th>\n",
       "      <td>15037.000000</td>\n",
       "      <td>15041.250000</td>\n",
       "      <td>15032.500000</td>\n",
       "      <td>15036.850000</td>\n",
       "    </tr>\n",
       "    <tr>\n",
       "      <th>max</th>\n",
       "      <td>15429.500000</td>\n",
       "      <td>15431.750000</td>\n",
       "      <td>15427.900000</td>\n",
       "      <td>15430.200000</td>\n",
       "    </tr>\n",
       "  </tbody>\n",
       "</table>\n",
       "</div>"
      ],
      "text/plain": [
       "               OPEN          HIGH           LOW         CLOSE\n",
       "count  22805.000000  22805.000000  22805.000000  22805.000000\n",
       "mean   14703.322396  14707.486481  14699.102201  14703.260816\n",
       "std      391.377498    391.265231    391.551643    391.366248\n",
       "min    13604.750000  13614.400000  13596.750000  13602.800000\n",
       "25%    14462.250000  14465.950000  14458.050000  14461.950000\n",
       "50%    14739.500000  14743.000000  14735.850000  14739.450000\n",
       "75%    15037.000000  15041.250000  15032.500000  15036.850000\n",
       "max    15429.500000  15431.750000  15427.900000  15430.200000"
      ]
     },
     "execution_count": 38,
     "metadata": {},
     "output_type": "execute_result"
    }
   ],
   "source": [
    "data.describe()   #Statistics of the Dataset"
   ]
  },
  {
   "cell_type": "code",
   "execution_count": 39,
   "metadata": {
    "colab": {
     "base_uri": "https://localhost:8080/"
    },
    "id": "uxRDT7K83r8z",
    "outputId": "0251229b-7eeb-4fe4-8c2a-0027545dda54"
   },
   "outputs": [
    {
     "name": "stdout",
     "output_type": "stream",
     "text": [
      "<class 'pandas.core.frame.DataFrame'>\n",
      "RangeIndex: 22805 entries, 0 to 22804\n",
      "Data columns (total 7 columns):\n",
      "TYPE     22805 non-null object\n",
      "DATE     22805 non-null datetime64[ns]\n",
      "TIME     22805 non-null object\n",
      "OPEN     22805 non-null float64\n",
      "HIGH     22805 non-null float64\n",
      "LOW      22805 non-null float64\n",
      "CLOSE    22805 non-null float64\n",
      "dtypes: datetime64[ns](1), float64(4), object(2)\n",
      "memory usage: 1.2+ MB\n"
     ]
    }
   ],
   "source": [
    "data.info()"
   ]
  },
  {
   "cell_type": "code",
   "execution_count": 40,
   "metadata": {
    "colab": {
     "base_uri": "https://localhost:8080/",
     "height": 49
    },
    "id": "HHqLZ_m43r81",
    "outputId": "fe75e837-86c4-40df-ebdc-2703365a7d5d"
   },
   "outputs": [
    {
     "data": {
      "text/html": [
       "<div>\n",
       "<style scoped>\n",
       "    .dataframe tbody tr th:only-of-type {\n",
       "        vertical-align: middle;\n",
       "    }\n",
       "\n",
       "    .dataframe tbody tr th {\n",
       "        vertical-align: top;\n",
       "    }\n",
       "\n",
       "    .dataframe thead th {\n",
       "        text-align: right;\n",
       "    }\n",
       "</style>\n",
       "<table border=\"1\" class=\"dataframe\">\n",
       "  <thead>\n",
       "    <tr style=\"text-align: right;\">\n",
       "      <th></th>\n",
       "      <th>TYPE</th>\n",
       "      <th>DATE</th>\n",
       "      <th>TIME</th>\n",
       "      <th>OPEN</th>\n",
       "      <th>HIGH</th>\n",
       "      <th>LOW</th>\n",
       "      <th>CLOSE</th>\n",
       "    </tr>\n",
       "  </thead>\n",
       "  <tbody>\n",
       "  </tbody>\n",
       "</table>\n",
       "</div>"
      ],
      "text/plain": [
       "Empty DataFrame\n",
       "Columns: [TYPE, DATE, TIME, OPEN, HIGH, LOW, CLOSE]\n",
       "Index: []"
      ]
     },
     "execution_count": 40,
     "metadata": {},
     "output_type": "execute_result"
    }
   ],
   "source": [
    "data[data.duplicated()]       #Checking for the duplicated entries"
   ]
  },
  {
   "cell_type": "code",
   "execution_count": null,
   "metadata": {
    "id": "TcDv2vNG3r82"
   },
   "outputs": [],
   "source": []
  },
  {
   "cell_type": "markdown",
   "metadata": {
    "id": "cGuTPbTe3r83"
   },
   "source": [
    "# CONSIDERING ANOTHER DATASET"
   ]
  },
  {
   "cell_type": "code",
   "execution_count": 41,
   "metadata": {
    "colab": {
     "base_uri": "https://localhost:8080/",
     "height": 206
    },
    "id": "p9eZLJhV3r84",
    "outputId": "d611c0aa-ce8e-4138-f9e4-05cf442186e3"
   },
   "outputs": [
    {
     "data": {
      "text/html": [
       "<div>\n",
       "<style scoped>\n",
       "    .dataframe tbody tr th:only-of-type {\n",
       "        vertical-align: middle;\n",
       "    }\n",
       "\n",
       "    .dataframe tbody tr th {\n",
       "        vertical-align: top;\n",
       "    }\n",
       "\n",
       "    .dataframe thead th {\n",
       "        text-align: right;\n",
       "    }\n",
       "</style>\n",
       "<table border=\"1\" class=\"dataframe\">\n",
       "  <thead>\n",
       "    <tr style=\"text-align: right;\">\n",
       "      <th></th>\n",
       "      <th>Date</th>\n",
       "      <th>Open</th>\n",
       "      <th>High</th>\n",
       "      <th>Low</th>\n",
       "      <th>Close</th>\n",
       "      <th>Adj Close</th>\n",
       "      <th>Volume</th>\n",
       "    </tr>\n",
       "  </thead>\n",
       "  <tbody>\n",
       "    <tr>\n",
       "      <th>0</th>\n",
       "      <td>1986-03-13</td>\n",
       "      <td>0.088542</td>\n",
       "      <td>0.101563</td>\n",
       "      <td>0.088542</td>\n",
       "      <td>0.097222</td>\n",
       "      <td>0.061751</td>\n",
       "      <td>1031788800</td>\n",
       "    </tr>\n",
       "    <tr>\n",
       "      <th>1</th>\n",
       "      <td>1986-03-14</td>\n",
       "      <td>0.097222</td>\n",
       "      <td>0.102431</td>\n",
       "      <td>0.097222</td>\n",
       "      <td>0.100694</td>\n",
       "      <td>0.063956</td>\n",
       "      <td>308160000</td>\n",
       "    </tr>\n",
       "    <tr>\n",
       "      <th>2</th>\n",
       "      <td>1986-03-17</td>\n",
       "      <td>0.100694</td>\n",
       "      <td>0.103299</td>\n",
       "      <td>0.100694</td>\n",
       "      <td>0.102431</td>\n",
       "      <td>0.065059</td>\n",
       "      <td>133171200</td>\n",
       "    </tr>\n",
       "    <tr>\n",
       "      <th>3</th>\n",
       "      <td>1986-03-18</td>\n",
       "      <td>0.102431</td>\n",
       "      <td>0.103299</td>\n",
       "      <td>0.098958</td>\n",
       "      <td>0.099826</td>\n",
       "      <td>0.063405</td>\n",
       "      <td>67766400</td>\n",
       "    </tr>\n",
       "    <tr>\n",
       "      <th>4</th>\n",
       "      <td>1986-03-19</td>\n",
       "      <td>0.099826</td>\n",
       "      <td>0.100694</td>\n",
       "      <td>0.097222</td>\n",
       "      <td>0.098090</td>\n",
       "      <td>0.062302</td>\n",
       "      <td>47894400</td>\n",
       "    </tr>\n",
       "  </tbody>\n",
       "</table>\n",
       "</div>"
      ],
      "text/plain": [
       "         Date      Open      High       Low     Close  Adj Close      Volume\n",
       "0  1986-03-13  0.088542  0.101563  0.088542  0.097222   0.061751  1031788800\n",
       "1  1986-03-14  0.097222  0.102431  0.097222  0.100694   0.063956   308160000\n",
       "2  1986-03-17  0.100694  0.103299  0.100694  0.102431   0.065059   133171200\n",
       "3  1986-03-18  0.102431  0.103299  0.098958  0.099826   0.063405    67766400\n",
       "4  1986-03-19  0.099826  0.100694  0.097222  0.098090   0.062302    47894400"
      ]
     },
     "execution_count": 41,
     "metadata": {},
     "output_type": "execute_result"
    }
   ],
   "source": [
    "df2 = pd.read_csv('MSFT.csv')\n",
    "df2.head()"
   ]
  },
  {
   "cell_type": "code",
   "execution_count": 42,
   "metadata": {
    "id": "v-s6ikLC3r85"
   },
   "outputs": [],
   "source": [
    "df2.rename(columns = str.upper , inplace = True)"
   ]
  },
  {
   "cell_type": "code",
   "execution_count": 43,
   "metadata": {
    "id": "DWBbzXhK3r85"
   },
   "outputs": [],
   "source": [
    "df2['DATE'] = pd.to_datetime(df2['DATE'] , format = \"%Y-%m-%d\")"
   ]
  },
  {
   "cell_type": "code",
   "execution_count": 44,
   "metadata": {
    "colab": {
     "base_uri": "https://localhost:8080/",
     "height": 206
    },
    "id": "5KYU3hn93r86",
    "outputId": "4ad127d0-9399-4f5b-cfe5-b77623fbc7ef"
   },
   "outputs": [
    {
     "data": {
      "text/html": [
       "<div>\n",
       "<style scoped>\n",
       "    .dataframe tbody tr th:only-of-type {\n",
       "        vertical-align: middle;\n",
       "    }\n",
       "\n",
       "    .dataframe tbody tr th {\n",
       "        vertical-align: top;\n",
       "    }\n",
       "\n",
       "    .dataframe thead th {\n",
       "        text-align: right;\n",
       "    }\n",
       "</style>\n",
       "<table border=\"1\" class=\"dataframe\">\n",
       "  <thead>\n",
       "    <tr style=\"text-align: right;\">\n",
       "      <th></th>\n",
       "      <th>DATE</th>\n",
       "      <th>OPEN</th>\n",
       "      <th>HIGH</th>\n",
       "      <th>LOW</th>\n",
       "      <th>CLOSE</th>\n",
       "      <th>ADJ CLOSE</th>\n",
       "      <th>VOLUME</th>\n",
       "    </tr>\n",
       "  </thead>\n",
       "  <tbody>\n",
       "    <tr>\n",
       "      <th>0</th>\n",
       "      <td>1986-03-13</td>\n",
       "      <td>0.088542</td>\n",
       "      <td>0.101563</td>\n",
       "      <td>0.088542</td>\n",
       "      <td>0.097222</td>\n",
       "      <td>0.061751</td>\n",
       "      <td>1031788800</td>\n",
       "    </tr>\n",
       "    <tr>\n",
       "      <th>1</th>\n",
       "      <td>1986-03-14</td>\n",
       "      <td>0.097222</td>\n",
       "      <td>0.102431</td>\n",
       "      <td>0.097222</td>\n",
       "      <td>0.100694</td>\n",
       "      <td>0.063956</td>\n",
       "      <td>308160000</td>\n",
       "    </tr>\n",
       "    <tr>\n",
       "      <th>2</th>\n",
       "      <td>1986-03-17</td>\n",
       "      <td>0.100694</td>\n",
       "      <td>0.103299</td>\n",
       "      <td>0.100694</td>\n",
       "      <td>0.102431</td>\n",
       "      <td>0.065059</td>\n",
       "      <td>133171200</td>\n",
       "    </tr>\n",
       "    <tr>\n",
       "      <th>3</th>\n",
       "      <td>1986-03-18</td>\n",
       "      <td>0.102431</td>\n",
       "      <td>0.103299</td>\n",
       "      <td>0.098958</td>\n",
       "      <td>0.099826</td>\n",
       "      <td>0.063405</td>\n",
       "      <td>67766400</td>\n",
       "    </tr>\n",
       "    <tr>\n",
       "      <th>4</th>\n",
       "      <td>1986-03-19</td>\n",
       "      <td>0.099826</td>\n",
       "      <td>0.100694</td>\n",
       "      <td>0.097222</td>\n",
       "      <td>0.098090</td>\n",
       "      <td>0.062302</td>\n",
       "      <td>47894400</td>\n",
       "    </tr>\n",
       "  </tbody>\n",
       "</table>\n",
       "</div>"
      ],
      "text/plain": [
       "        DATE      OPEN      HIGH       LOW     CLOSE  ADJ CLOSE      VOLUME\n",
       "0 1986-03-13  0.088542  0.101563  0.088542  0.097222   0.061751  1031788800\n",
       "1 1986-03-14  0.097222  0.102431  0.097222  0.100694   0.063956   308160000\n",
       "2 1986-03-17  0.100694  0.103299  0.100694  0.102431   0.065059   133171200\n",
       "3 1986-03-18  0.102431  0.103299  0.098958  0.099826   0.063405    67766400\n",
       "4 1986-03-19  0.099826  0.100694  0.097222  0.098090   0.062302    47894400"
      ]
     },
     "execution_count": 44,
     "metadata": {},
     "output_type": "execute_result"
    }
   ],
   "source": [
    "df2.head()"
   ]
  },
  {
   "cell_type": "code",
   "execution_count": 45,
   "metadata": {
    "colab": {
     "base_uri": "https://localhost:8080/",
     "height": 49
    },
    "id": "Cvr7LE7F3r86",
    "outputId": "e8e28935-cbab-4757-ea8a-ae894dd8456e"
   },
   "outputs": [
    {
     "data": {
      "text/html": [
       "<div>\n",
       "<style scoped>\n",
       "    .dataframe tbody tr th:only-of-type {\n",
       "        vertical-align: middle;\n",
       "    }\n",
       "\n",
       "    .dataframe tbody tr th {\n",
       "        vertical-align: top;\n",
       "    }\n",
       "\n",
       "    .dataframe thead th {\n",
       "        text-align: right;\n",
       "    }\n",
       "</style>\n",
       "<table border=\"1\" class=\"dataframe\">\n",
       "  <thead>\n",
       "    <tr style=\"text-align: right;\">\n",
       "      <th></th>\n",
       "      <th>DATE</th>\n",
       "      <th>OPEN</th>\n",
       "      <th>HIGH</th>\n",
       "      <th>LOW</th>\n",
       "      <th>CLOSE</th>\n",
       "      <th>ADJ CLOSE</th>\n",
       "      <th>VOLUME</th>\n",
       "    </tr>\n",
       "  </thead>\n",
       "  <tbody>\n",
       "  </tbody>\n",
       "</table>\n",
       "</div>"
      ],
      "text/plain": [
       "Empty DataFrame\n",
       "Columns: [DATE, OPEN, HIGH, LOW, CLOSE, ADJ CLOSE, VOLUME]\n",
       "Index: []"
      ]
     },
     "execution_count": 45,
     "metadata": {},
     "output_type": "execute_result"
    }
   ],
   "source": [
    "df2[df2.duplicated()]"
   ]
  },
  {
   "cell_type": "code",
   "execution_count": 46,
   "metadata": {
    "colab": {
     "base_uri": "https://localhost:8080/",
     "height": 300
    },
    "id": "alpxXG9N3r87",
    "outputId": "a72065c2-134c-4bc1-80ea-6398ed6e26b6"
   },
   "outputs": [
    {
     "data": {
      "text/html": [
       "<div>\n",
       "<style scoped>\n",
       "    .dataframe tbody tr th:only-of-type {\n",
       "        vertical-align: middle;\n",
       "    }\n",
       "\n",
       "    .dataframe tbody tr th {\n",
       "        vertical-align: top;\n",
       "    }\n",
       "\n",
       "    .dataframe thead th {\n",
       "        text-align: right;\n",
       "    }\n",
       "</style>\n",
       "<table border=\"1\" class=\"dataframe\">\n",
       "  <thead>\n",
       "    <tr style=\"text-align: right;\">\n",
       "      <th></th>\n",
       "      <th>OPEN</th>\n",
       "      <th>HIGH</th>\n",
       "      <th>LOW</th>\n",
       "      <th>CLOSE</th>\n",
       "      <th>ADJ CLOSE</th>\n",
       "      <th>VOLUME</th>\n",
       "    </tr>\n",
       "  </thead>\n",
       "  <tbody>\n",
       "    <tr>\n",
       "      <th>count</th>\n",
       "      <td>8857.000000</td>\n",
       "      <td>8857.000000</td>\n",
       "      <td>8857.000000</td>\n",
       "      <td>8857.000000</td>\n",
       "      <td>8857.000000</td>\n",
       "      <td>8.857000e+03</td>\n",
       "    </tr>\n",
       "    <tr>\n",
       "      <th>mean</th>\n",
       "      <td>34.831233</td>\n",
       "      <td>35.209355</td>\n",
       "      <td>34.449657</td>\n",
       "      <td>34.840895</td>\n",
       "      <td>29.886536</td>\n",
       "      <td>5.953411e+07</td>\n",
       "    </tr>\n",
       "    <tr>\n",
       "      <th>std</th>\n",
       "      <td>44.060163</td>\n",
       "      <td>44.513443</td>\n",
       "      <td>43.597704</td>\n",
       "      <td>44.080986</td>\n",
       "      <td>44.195101</td>\n",
       "      <td>3.858121e+07</td>\n",
       "    </tr>\n",
       "    <tr>\n",
       "      <th>min</th>\n",
       "      <td>0.088542</td>\n",
       "      <td>0.092014</td>\n",
       "      <td>0.088542</td>\n",
       "      <td>0.090278</td>\n",
       "      <td>0.057340</td>\n",
       "      <td>2.304000e+06</td>\n",
       "    </tr>\n",
       "    <tr>\n",
       "      <th>25%</th>\n",
       "      <td>3.843750</td>\n",
       "      <td>3.875000</td>\n",
       "      <td>3.812500</td>\n",
       "      <td>3.851563</td>\n",
       "      <td>2.446323</td>\n",
       "      <td>3.559720e+07</td>\n",
       "    </tr>\n",
       "    <tr>\n",
       "      <th>50%</th>\n",
       "      <td>26.590000</td>\n",
       "      <td>26.879999</td>\n",
       "      <td>26.290001</td>\n",
       "      <td>26.590000</td>\n",
       "      <td>18.686628</td>\n",
       "      <td>5.269680e+07</td>\n",
       "    </tr>\n",
       "    <tr>\n",
       "      <th>75%</th>\n",
       "      <td>36.730000</td>\n",
       "      <td>37.000000</td>\n",
       "      <td>36.110001</td>\n",
       "      <td>36.660000</td>\n",
       "      <td>27.218300</td>\n",
       "      <td>7.339520e+07</td>\n",
       "    </tr>\n",
       "    <tr>\n",
       "      <th>max</th>\n",
       "      <td>261.660004</td>\n",
       "      <td>263.190002</td>\n",
       "      <td>260.170013</td>\n",
       "      <td>261.970001</td>\n",
       "      <td>261.970001</td>\n",
       "      <td>1.031789e+09</td>\n",
       "    </tr>\n",
       "  </tbody>\n",
       "</table>\n",
       "</div>"
      ],
      "text/plain": [
       "              OPEN         HIGH          LOW        CLOSE    ADJ CLOSE  \\\n",
       "count  8857.000000  8857.000000  8857.000000  8857.000000  8857.000000   \n",
       "mean     34.831233    35.209355    34.449657    34.840895    29.886536   \n",
       "std      44.060163    44.513443    43.597704    44.080986    44.195101   \n",
       "min       0.088542     0.092014     0.088542     0.090278     0.057340   \n",
       "25%       3.843750     3.875000     3.812500     3.851563     2.446323   \n",
       "50%      26.590000    26.879999    26.290001    26.590000    18.686628   \n",
       "75%      36.730000    37.000000    36.110001    36.660000    27.218300   \n",
       "max     261.660004   263.190002   260.170013   261.970001   261.970001   \n",
       "\n",
       "             VOLUME  \n",
       "count  8.857000e+03  \n",
       "mean   5.953411e+07  \n",
       "std    3.858121e+07  \n",
       "min    2.304000e+06  \n",
       "25%    3.559720e+07  \n",
       "50%    5.269680e+07  \n",
       "75%    7.339520e+07  \n",
       "max    1.031789e+09  "
      ]
     },
     "execution_count": 46,
     "metadata": {},
     "output_type": "execute_result"
    }
   ],
   "source": [
    "df2.describe()"
   ]
  },
  {
   "cell_type": "code",
   "execution_count": 47,
   "metadata": {
    "colab": {
     "base_uri": "https://localhost:8080/"
    },
    "id": "n3Epkzcx3r88",
    "outputId": "89d61f81-0e1a-4b9b-95ee-4745b5545172"
   },
   "outputs": [
    {
     "data": {
      "text/plain": [
       "DATE         0\n",
       "OPEN         0\n",
       "HIGH         0\n",
       "LOW          0\n",
       "CLOSE        0\n",
       "ADJ CLOSE    0\n",
       "VOLUME       0\n",
       "dtype: int64"
      ]
     },
     "execution_count": 47,
     "metadata": {},
     "output_type": "execute_result"
    }
   ],
   "source": [
    "df2.isna().sum()"
   ]
  },
  {
   "cell_type": "code",
   "execution_count": 48,
   "metadata": {
    "colab": {
     "base_uri": "https://localhost:8080/"
    },
    "id": "f8yBb5cI3r88",
    "outputId": "559b375e-1007-48c0-a3df-def5d3bafac4"
   },
   "outputs": [
    {
     "name": "stdout",
     "output_type": "stream",
     "text": [
      "<class 'pandas.core.frame.DataFrame'>\n",
      "RangeIndex: 8857 entries, 0 to 8856\n",
      "Data columns (total 7 columns):\n",
      "DATE         8857 non-null datetime64[ns]\n",
      "OPEN         8857 non-null float64\n",
      "HIGH         8857 non-null float64\n",
      "LOW          8857 non-null float64\n",
      "CLOSE        8857 non-null float64\n",
      "ADJ CLOSE    8857 non-null float64\n",
      "VOLUME       8857 non-null int64\n",
      "dtypes: datetime64[ns](1), float64(5), int64(1)\n",
      "memory usage: 484.4 KB\n"
     ]
    }
   ],
   "source": [
    "df2.info()"
   ]
  },
  {
   "cell_type": "code",
   "execution_count": null,
   "metadata": {
    "colab": {
     "base_uri": "https://localhost:8080/"
    },
    "id": "YuTkG3_e3r89",
    "outputId": "e0685846-1f22-476d-d20a-3aab18ca7724"
   },
   "outputs": [],
   "source": []
  },
  {
   "cell_type": "code",
   "execution_count": null,
   "metadata": {
    "id": "tcIO6y-F3r89"
   },
   "outputs": [],
   "source": []
  },
  {
   "cell_type": "markdown",
   "metadata": {
    "id": "pTvCEwya3r8-"
   },
   "source": [
    "# EDA ANALYSIS (DataFrame.csv)"
   ]
  },
  {
   "cell_type": "code",
   "execution_count": 49,
   "metadata": {
    "id": "lxRBbFCK3r8-"
   },
   "outputs": [],
   "source": [
    "import matplotlib.pyplot as plt\n",
    "import seaborn as sns"
   ]
  },
  {
   "cell_type": "code",
   "execution_count": 50,
   "metadata": {
    "colab": {
     "base_uri": "https://localhost:8080/",
     "height": 424
    },
    "id": "1a5p5a3S3r8_",
    "outputId": "c96c2235-6ea2-4339-eda2-8847f15986cc"
   },
   "outputs": [
    {
     "data": {
      "text/html": [
       "<div>\n",
       "<style scoped>\n",
       "    .dataframe tbody tr th:only-of-type {\n",
       "        vertical-align: middle;\n",
       "    }\n",
       "\n",
       "    .dataframe tbody tr th {\n",
       "        vertical-align: top;\n",
       "    }\n",
       "\n",
       "    .dataframe thead th {\n",
       "        text-align: right;\n",
       "    }\n",
       "</style>\n",
       "<table border=\"1\" class=\"dataframe\">\n",
       "  <thead>\n",
       "    <tr style=\"text-align: right;\">\n",
       "      <th></th>\n",
       "      <th>TYPE</th>\n",
       "      <th>DATE</th>\n",
       "      <th>TIME</th>\n",
       "      <th>OPEN</th>\n",
       "      <th>HIGH</th>\n",
       "      <th>LOW</th>\n",
       "      <th>CLOSE</th>\n",
       "    </tr>\n",
       "  </thead>\n",
       "  <tbody>\n",
       "    <tr>\n",
       "      <th>0</th>\n",
       "      <td>NIFTY</td>\n",
       "      <td>2021-01-01</td>\n",
       "      <td>09:16</td>\n",
       "      <td>13997.90</td>\n",
       "      <td>14020.85</td>\n",
       "      <td>13991.35</td>\n",
       "      <td>14013.15</td>\n",
       "    </tr>\n",
       "    <tr>\n",
       "      <th>1</th>\n",
       "      <td>NIFTY</td>\n",
       "      <td>2021-01-01</td>\n",
       "      <td>09:17</td>\n",
       "      <td>14014.85</td>\n",
       "      <td>14018.55</td>\n",
       "      <td>14008.15</td>\n",
       "      <td>14009.05</td>\n",
       "    </tr>\n",
       "    <tr>\n",
       "      <th>2</th>\n",
       "      <td>NIFTY</td>\n",
       "      <td>2021-01-01</td>\n",
       "      <td>09:18</td>\n",
       "      <td>14008.05</td>\n",
       "      <td>14013.10</td>\n",
       "      <td>14005.05</td>\n",
       "      <td>14012.70</td>\n",
       "    </tr>\n",
       "    <tr>\n",
       "      <th>3</th>\n",
       "      <td>NIFTY</td>\n",
       "      <td>2021-01-01</td>\n",
       "      <td>09:19</td>\n",
       "      <td>14013.65</td>\n",
       "      <td>14019.10</td>\n",
       "      <td>14013.65</td>\n",
       "      <td>14016.20</td>\n",
       "    </tr>\n",
       "    <tr>\n",
       "      <th>4</th>\n",
       "      <td>NIFTY</td>\n",
       "      <td>2021-01-01</td>\n",
       "      <td>09:20</td>\n",
       "      <td>14015.45</td>\n",
       "      <td>14017.80</td>\n",
       "      <td>14011.95</td>\n",
       "      <td>14015.45</td>\n",
       "    </tr>\n",
       "    <tr>\n",
       "      <th>5</th>\n",
       "      <td>NIFTY</td>\n",
       "      <td>2021-01-01</td>\n",
       "      <td>09:21</td>\n",
       "      <td>14016.00</td>\n",
       "      <td>14021.75</td>\n",
       "      <td>14006.40</td>\n",
       "      <td>14020.75</td>\n",
       "    </tr>\n",
       "    <tr>\n",
       "      <th>6</th>\n",
       "      <td>NIFTY</td>\n",
       "      <td>2021-01-01</td>\n",
       "      <td>09:22</td>\n",
       "      <td>14020.70</td>\n",
       "      <td>14023.45</td>\n",
       "      <td>14018.70</td>\n",
       "      <td>14019.45</td>\n",
       "    </tr>\n",
       "    <tr>\n",
       "      <th>7</th>\n",
       "      <td>NIFTY</td>\n",
       "      <td>2021-01-01</td>\n",
       "      <td>09:23</td>\n",
       "      <td>14018.40</td>\n",
       "      <td>14021.05</td>\n",
       "      <td>14017.45</td>\n",
       "      <td>14019.45</td>\n",
       "    </tr>\n",
       "    <tr>\n",
       "      <th>8</th>\n",
       "      <td>NIFTY</td>\n",
       "      <td>2021-01-01</td>\n",
       "      <td>09:24</td>\n",
       "      <td>14020.00</td>\n",
       "      <td>14020.00</td>\n",
       "      <td>14007.60</td>\n",
       "      <td>14010.50</td>\n",
       "    </tr>\n",
       "    <tr>\n",
       "      <th>9</th>\n",
       "      <td>NIFTY</td>\n",
       "      <td>2021-01-01</td>\n",
       "      <td>09:25</td>\n",
       "      <td>14010.25</td>\n",
       "      <td>14014.10</td>\n",
       "      <td>14007.30</td>\n",
       "      <td>14014.10</td>\n",
       "    </tr>\n",
       "    <tr>\n",
       "      <th>10</th>\n",
       "      <td>NIFTY</td>\n",
       "      <td>2021-01-01</td>\n",
       "      <td>09:26</td>\n",
       "      <td>14014.30</td>\n",
       "      <td>14014.30</td>\n",
       "      <td>14006.75</td>\n",
       "      <td>14007.65</td>\n",
       "    </tr>\n",
       "    <tr>\n",
       "      <th>11</th>\n",
       "      <td>NIFTY</td>\n",
       "      <td>2021-01-01</td>\n",
       "      <td>09:27</td>\n",
       "      <td>14007.35</td>\n",
       "      <td>14012.95</td>\n",
       "      <td>14006.65</td>\n",
       "      <td>14011.80</td>\n",
       "    </tr>\n",
       "    <tr>\n",
       "      <th>12</th>\n",
       "      <td>NIFTY</td>\n",
       "      <td>2021-01-01</td>\n",
       "      <td>09:28</td>\n",
       "      <td>14012.40</td>\n",
       "      <td>14014.20</td>\n",
       "      <td>14011.50</td>\n",
       "      <td>14013.65</td>\n",
       "    </tr>\n",
       "    <tr>\n",
       "      <th>13</th>\n",
       "      <td>NIFTY</td>\n",
       "      <td>2021-01-01</td>\n",
       "      <td>09:29</td>\n",
       "      <td>14014.40</td>\n",
       "      <td>14019.60</td>\n",
       "      <td>14013.50</td>\n",
       "      <td>14018.50</td>\n",
       "    </tr>\n",
       "    <tr>\n",
       "      <th>14</th>\n",
       "      <td>NIFTY</td>\n",
       "      <td>2021-01-01</td>\n",
       "      <td>09:30</td>\n",
       "      <td>14017.95</td>\n",
       "      <td>14019.35</td>\n",
       "      <td>14014.65</td>\n",
       "      <td>14018.20</td>\n",
       "    </tr>\n",
       "    <tr>\n",
       "      <th>15</th>\n",
       "      <td>NIFTY</td>\n",
       "      <td>2021-01-01</td>\n",
       "      <td>09:31</td>\n",
       "      <td>14019.00</td>\n",
       "      <td>14028.90</td>\n",
       "      <td>14018.25</td>\n",
       "      <td>14025.50</td>\n",
       "    </tr>\n",
       "    <tr>\n",
       "      <th>16</th>\n",
       "      <td>NIFTY</td>\n",
       "      <td>2021-01-01</td>\n",
       "      <td>09:32</td>\n",
       "      <td>14026.30</td>\n",
       "      <td>14027.30</td>\n",
       "      <td>14022.90</td>\n",
       "      <td>14025.45</td>\n",
       "    </tr>\n",
       "    <tr>\n",
       "      <th>17</th>\n",
       "      <td>NIFTY</td>\n",
       "      <td>2021-01-01</td>\n",
       "      <td>09:33</td>\n",
       "      <td>14026.40</td>\n",
       "      <td>14026.55</td>\n",
       "      <td>14022.35</td>\n",
       "      <td>14023.60</td>\n",
       "    </tr>\n",
       "    <tr>\n",
       "      <th>18</th>\n",
       "      <td>NIFTY</td>\n",
       "      <td>2021-01-01</td>\n",
       "      <td>09:34</td>\n",
       "      <td>14023.10</td>\n",
       "      <td>14025.35</td>\n",
       "      <td>14020.70</td>\n",
       "      <td>14021.90</td>\n",
       "    </tr>\n",
       "    <tr>\n",
       "      <th>19</th>\n",
       "      <td>NIFTY</td>\n",
       "      <td>2021-01-01</td>\n",
       "      <td>09:35</td>\n",
       "      <td>14021.25</td>\n",
       "      <td>14022.80</td>\n",
       "      <td>14018.80</td>\n",
       "      <td>14020.10</td>\n",
       "    </tr>\n",
       "    <tr>\n",
       "      <th>20</th>\n",
       "      <td>NIFTY</td>\n",
       "      <td>2021-01-01</td>\n",
       "      <td>09:36</td>\n",
       "      <td>14020.50</td>\n",
       "      <td>14020.60</td>\n",
       "      <td>14015.20</td>\n",
       "      <td>14016.45</td>\n",
       "    </tr>\n",
       "    <tr>\n",
       "      <th>21</th>\n",
       "      <td>NIFTY</td>\n",
       "      <td>2021-01-01</td>\n",
       "      <td>09:37</td>\n",
       "      <td>14016.85</td>\n",
       "      <td>14018.85</td>\n",
       "      <td>14014.00</td>\n",
       "      <td>14018.30</td>\n",
       "    </tr>\n",
       "    <tr>\n",
       "      <th>22</th>\n",
       "      <td>NIFTY</td>\n",
       "      <td>2021-01-01</td>\n",
       "      <td>09:38</td>\n",
       "      <td>14007.95</td>\n",
       "      <td>14008.00</td>\n",
       "      <td>14001.15</td>\n",
       "      <td>14006.60</td>\n",
       "    </tr>\n",
       "    <tr>\n",
       "      <th>23</th>\n",
       "      <td>NIFTY</td>\n",
       "      <td>2021-01-01</td>\n",
       "      <td>09:39</td>\n",
       "      <td>14006.80</td>\n",
       "      <td>14017.70</td>\n",
       "      <td>14006.80</td>\n",
       "      <td>14016.95</td>\n",
       "    </tr>\n",
       "    <tr>\n",
       "      <th>24</th>\n",
       "      <td>NIFTY</td>\n",
       "      <td>2021-01-01</td>\n",
       "      <td>09:40</td>\n",
       "      <td>14016.90</td>\n",
       "      <td>14017.85</td>\n",
       "      <td>14014.30</td>\n",
       "      <td>14017.85</td>\n",
       "    </tr>\n",
       "    <tr>\n",
       "      <th>25</th>\n",
       "      <td>NIFTY</td>\n",
       "      <td>2021-01-01</td>\n",
       "      <td>09:41</td>\n",
       "      <td>14017.55</td>\n",
       "      <td>14019.85</td>\n",
       "      <td>14016.90</td>\n",
       "      <td>14018.65</td>\n",
       "    </tr>\n",
       "    <tr>\n",
       "      <th>26</th>\n",
       "      <td>NIFTY</td>\n",
       "      <td>2021-01-01</td>\n",
       "      <td>09:42</td>\n",
       "      <td>14019.75</td>\n",
       "      <td>14023.30</td>\n",
       "      <td>14018.40</td>\n",
       "      <td>14022.95</td>\n",
       "    </tr>\n",
       "    <tr>\n",
       "      <th>27</th>\n",
       "      <td>NIFTY</td>\n",
       "      <td>2021-01-01</td>\n",
       "      <td>09:43</td>\n",
       "      <td>14023.10</td>\n",
       "      <td>14025.45</td>\n",
       "      <td>14021.95</td>\n",
       "      <td>14021.95</td>\n",
       "    </tr>\n",
       "    <tr>\n",
       "      <th>28</th>\n",
       "      <td>NIFTY</td>\n",
       "      <td>2021-01-01</td>\n",
       "      <td>09:44</td>\n",
       "      <td>14022.75</td>\n",
       "      <td>14024.80</td>\n",
       "      <td>14021.70</td>\n",
       "      <td>14023.95</td>\n",
       "    </tr>\n",
       "    <tr>\n",
       "      <th>29</th>\n",
       "      <td>NIFTY</td>\n",
       "      <td>2021-01-01</td>\n",
       "      <td>09:45</td>\n",
       "      <td>14024.15</td>\n",
       "      <td>14026.70</td>\n",
       "      <td>14023.95</td>\n",
       "      <td>14023.95</td>\n",
       "    </tr>\n",
       "    <tr>\n",
       "      <th>...</th>\n",
       "      <td>...</td>\n",
       "      <td>...</td>\n",
       "      <td>...</td>\n",
       "      <td>...</td>\n",
       "      <td>...</td>\n",
       "      <td>...</td>\n",
       "      <td>...</td>\n",
       "    </tr>\n",
       "    <tr>\n",
       "      <th>22775</th>\n",
       "      <td>NIFTY</td>\n",
       "      <td>2021-03-31</td>\n",
       "      <td>15:02</td>\n",
       "      <td>14697.85</td>\n",
       "      <td>14697.85</td>\n",
       "      <td>14680.60</td>\n",
       "      <td>14680.90</td>\n",
       "    </tr>\n",
       "    <tr>\n",
       "      <th>22776</th>\n",
       "      <td>NIFTY</td>\n",
       "      <td>2021-03-31</td>\n",
       "      <td>15:03</td>\n",
       "      <td>14680.20</td>\n",
       "      <td>14680.35</td>\n",
       "      <td>14670.25</td>\n",
       "      <td>14677.55</td>\n",
       "    </tr>\n",
       "    <tr>\n",
       "      <th>22777</th>\n",
       "      <td>NIFTY</td>\n",
       "      <td>2021-03-31</td>\n",
       "      <td>15:04</td>\n",
       "      <td>14678.05</td>\n",
       "      <td>14686.90</td>\n",
       "      <td>14678.05</td>\n",
       "      <td>14681.35</td>\n",
       "    </tr>\n",
       "    <tr>\n",
       "      <th>22778</th>\n",
       "      <td>NIFTY</td>\n",
       "      <td>2021-03-31</td>\n",
       "      <td>15:05</td>\n",
       "      <td>14681.25</td>\n",
       "      <td>14684.20</td>\n",
       "      <td>14678.05</td>\n",
       "      <td>14682.60</td>\n",
       "    </tr>\n",
       "    <tr>\n",
       "      <th>22779</th>\n",
       "      <td>NIFTY</td>\n",
       "      <td>2021-03-31</td>\n",
       "      <td>15:06</td>\n",
       "      <td>14681.70</td>\n",
       "      <td>14682.40</td>\n",
       "      <td>14675.50</td>\n",
       "      <td>14676.00</td>\n",
       "    </tr>\n",
       "    <tr>\n",
       "      <th>22780</th>\n",
       "      <td>NIFTY</td>\n",
       "      <td>2021-03-31</td>\n",
       "      <td>15:07</td>\n",
       "      <td>14674.80</td>\n",
       "      <td>14692.15</td>\n",
       "      <td>14674.25</td>\n",
       "      <td>14691.95</td>\n",
       "    </tr>\n",
       "    <tr>\n",
       "      <th>22781</th>\n",
       "      <td>NIFTY</td>\n",
       "      <td>2021-03-31</td>\n",
       "      <td>15:08</td>\n",
       "      <td>14691.40</td>\n",
       "      <td>14697.20</td>\n",
       "      <td>14687.55</td>\n",
       "      <td>14696.80</td>\n",
       "    </tr>\n",
       "    <tr>\n",
       "      <th>22782</th>\n",
       "      <td>NIFTY</td>\n",
       "      <td>2021-03-31</td>\n",
       "      <td>15:09</td>\n",
       "      <td>14696.10</td>\n",
       "      <td>14703.95</td>\n",
       "      <td>14696.10</td>\n",
       "      <td>14701.95</td>\n",
       "    </tr>\n",
       "    <tr>\n",
       "      <th>22783</th>\n",
       "      <td>NIFTY</td>\n",
       "      <td>2021-03-31</td>\n",
       "      <td>15:10</td>\n",
       "      <td>14701.85</td>\n",
       "      <td>14702.55</td>\n",
       "      <td>14696.75</td>\n",
       "      <td>14700.35</td>\n",
       "    </tr>\n",
       "    <tr>\n",
       "      <th>22784</th>\n",
       "      <td>NIFTY</td>\n",
       "      <td>2021-03-31</td>\n",
       "      <td>15:11</td>\n",
       "      <td>14700.05</td>\n",
       "      <td>14706.15</td>\n",
       "      <td>14695.60</td>\n",
       "      <td>14695.80</td>\n",
       "    </tr>\n",
       "    <tr>\n",
       "      <th>22785</th>\n",
       "      <td>NIFTY</td>\n",
       "      <td>2021-03-31</td>\n",
       "      <td>15:12</td>\n",
       "      <td>14695.70</td>\n",
       "      <td>14700.65</td>\n",
       "      <td>14694.50</td>\n",
       "      <td>14695.75</td>\n",
       "    </tr>\n",
       "    <tr>\n",
       "      <th>22786</th>\n",
       "      <td>NIFTY</td>\n",
       "      <td>2021-03-31</td>\n",
       "      <td>15:13</td>\n",
       "      <td>14695.50</td>\n",
       "      <td>14698.20</td>\n",
       "      <td>14686.90</td>\n",
       "      <td>14689.35</td>\n",
       "    </tr>\n",
       "    <tr>\n",
       "      <th>22787</th>\n",
       "      <td>NIFTY</td>\n",
       "      <td>2021-03-31</td>\n",
       "      <td>15:14</td>\n",
       "      <td>14689.15</td>\n",
       "      <td>14702.35</td>\n",
       "      <td>14689.15</td>\n",
       "      <td>14700.60</td>\n",
       "    </tr>\n",
       "    <tr>\n",
       "      <th>22788</th>\n",
       "      <td>NIFTY</td>\n",
       "      <td>2021-03-31</td>\n",
       "      <td>15:15</td>\n",
       "      <td>14700.00</td>\n",
       "      <td>14700.00</td>\n",
       "      <td>14694.30</td>\n",
       "      <td>14694.30</td>\n",
       "    </tr>\n",
       "    <tr>\n",
       "      <th>22789</th>\n",
       "      <td>NIFTY</td>\n",
       "      <td>2021-03-31</td>\n",
       "      <td>15:16</td>\n",
       "      <td>14693.40</td>\n",
       "      <td>14693.95</td>\n",
       "      <td>14689.15</td>\n",
       "      <td>14692.85</td>\n",
       "    </tr>\n",
       "    <tr>\n",
       "      <th>22790</th>\n",
       "      <td>NIFTY</td>\n",
       "      <td>2021-03-31</td>\n",
       "      <td>15:17</td>\n",
       "      <td>14691.50</td>\n",
       "      <td>14694.15</td>\n",
       "      <td>14691.30</td>\n",
       "      <td>14693.85</td>\n",
       "    </tr>\n",
       "    <tr>\n",
       "      <th>22791</th>\n",
       "      <td>NIFTY</td>\n",
       "      <td>2021-03-31</td>\n",
       "      <td>15:18</td>\n",
       "      <td>14693.95</td>\n",
       "      <td>14696.95</td>\n",
       "      <td>14690.10</td>\n",
       "      <td>14690.60</td>\n",
       "    </tr>\n",
       "    <tr>\n",
       "      <th>22792</th>\n",
       "      <td>NIFTY</td>\n",
       "      <td>2021-03-31</td>\n",
       "      <td>15:19</td>\n",
       "      <td>14690.20</td>\n",
       "      <td>14694.30</td>\n",
       "      <td>14689.80</td>\n",
       "      <td>14691.25</td>\n",
       "    </tr>\n",
       "    <tr>\n",
       "      <th>22793</th>\n",
       "      <td>NIFTY</td>\n",
       "      <td>2021-03-31</td>\n",
       "      <td>15:20</td>\n",
       "      <td>14691.00</td>\n",
       "      <td>14692.25</td>\n",
       "      <td>14686.55</td>\n",
       "      <td>14686.70</td>\n",
       "    </tr>\n",
       "    <tr>\n",
       "      <th>22794</th>\n",
       "      <td>NIFTY</td>\n",
       "      <td>2021-03-31</td>\n",
       "      <td>15:21</td>\n",
       "      <td>14686.90</td>\n",
       "      <td>14691.70</td>\n",
       "      <td>14686.85</td>\n",
       "      <td>14687.95</td>\n",
       "    </tr>\n",
       "    <tr>\n",
       "      <th>22795</th>\n",
       "      <td>NIFTY</td>\n",
       "      <td>2021-03-31</td>\n",
       "      <td>15:22</td>\n",
       "      <td>14687.85</td>\n",
       "      <td>14699.90</td>\n",
       "      <td>14676.05</td>\n",
       "      <td>14682.30</td>\n",
       "    </tr>\n",
       "    <tr>\n",
       "      <th>22796</th>\n",
       "      <td>NIFTY</td>\n",
       "      <td>2021-03-31</td>\n",
       "      <td>15:23</td>\n",
       "      <td>14682.20</td>\n",
       "      <td>14693.00</td>\n",
       "      <td>14682.20</td>\n",
       "      <td>14688.70</td>\n",
       "    </tr>\n",
       "    <tr>\n",
       "      <th>22797</th>\n",
       "      <td>NIFTY</td>\n",
       "      <td>2021-03-31</td>\n",
       "      <td>15:24</td>\n",
       "      <td>14688.40</td>\n",
       "      <td>14688.80</td>\n",
       "      <td>14683.90</td>\n",
       "      <td>14685.15</td>\n",
       "    </tr>\n",
       "    <tr>\n",
       "      <th>22798</th>\n",
       "      <td>NIFTY</td>\n",
       "      <td>2021-03-31</td>\n",
       "      <td>15:25</td>\n",
       "      <td>14685.85</td>\n",
       "      <td>14688.10</td>\n",
       "      <td>14685.50</td>\n",
       "      <td>14687.75</td>\n",
       "    </tr>\n",
       "    <tr>\n",
       "      <th>22799</th>\n",
       "      <td>NIFTY</td>\n",
       "      <td>2021-03-31</td>\n",
       "      <td>15:26</td>\n",
       "      <td>14687.25</td>\n",
       "      <td>14697.15</td>\n",
       "      <td>14686.80</td>\n",
       "      <td>14687.65</td>\n",
       "    </tr>\n",
       "    <tr>\n",
       "      <th>22800</th>\n",
       "      <td>NIFTY</td>\n",
       "      <td>2021-03-31</td>\n",
       "      <td>15:27</td>\n",
       "      <td>14687.35</td>\n",
       "      <td>14694.35</td>\n",
       "      <td>14686.30</td>\n",
       "      <td>14690.60</td>\n",
       "    </tr>\n",
       "    <tr>\n",
       "      <th>22801</th>\n",
       "      <td>NIFTY</td>\n",
       "      <td>2021-03-31</td>\n",
       "      <td>15:28</td>\n",
       "      <td>14690.90</td>\n",
       "      <td>14690.90</td>\n",
       "      <td>14686.05</td>\n",
       "      <td>14689.30</td>\n",
       "    </tr>\n",
       "    <tr>\n",
       "      <th>22802</th>\n",
       "      <td>NIFTY</td>\n",
       "      <td>2021-03-31</td>\n",
       "      <td>15:29</td>\n",
       "      <td>14690.30</td>\n",
       "      <td>14694.10</td>\n",
       "      <td>14688.55</td>\n",
       "      <td>14691.30</td>\n",
       "    </tr>\n",
       "    <tr>\n",
       "      <th>22803</th>\n",
       "      <td>NIFTY</td>\n",
       "      <td>2021-03-31</td>\n",
       "      <td>15:30</td>\n",
       "      <td>14689.85</td>\n",
       "      <td>14693.55</td>\n",
       "      <td>14689.45</td>\n",
       "      <td>14693.05</td>\n",
       "    </tr>\n",
       "    <tr>\n",
       "      <th>22804</th>\n",
       "      <td>NIFTY</td>\n",
       "      <td>2021-03-31</td>\n",
       "      <td>15:31</td>\n",
       "      <td>14690.70</td>\n",
       "      <td>14690.70</td>\n",
       "      <td>14690.70</td>\n",
       "      <td>14690.70</td>\n",
       "    </tr>\n",
       "  </tbody>\n",
       "</table>\n",
       "<p>22805 rows × 7 columns</p>\n",
       "</div>"
      ],
      "text/plain": [
       "        TYPE       DATE   TIME      OPEN      HIGH       LOW     CLOSE\n",
       "0      NIFTY 2021-01-01  09:16  13997.90  14020.85  13991.35  14013.15\n",
       "1      NIFTY 2021-01-01  09:17  14014.85  14018.55  14008.15  14009.05\n",
       "2      NIFTY 2021-01-01  09:18  14008.05  14013.10  14005.05  14012.70\n",
       "3      NIFTY 2021-01-01  09:19  14013.65  14019.10  14013.65  14016.20\n",
       "4      NIFTY 2021-01-01  09:20  14015.45  14017.80  14011.95  14015.45\n",
       "5      NIFTY 2021-01-01  09:21  14016.00  14021.75  14006.40  14020.75\n",
       "6      NIFTY 2021-01-01  09:22  14020.70  14023.45  14018.70  14019.45\n",
       "7      NIFTY 2021-01-01  09:23  14018.40  14021.05  14017.45  14019.45\n",
       "8      NIFTY 2021-01-01  09:24  14020.00  14020.00  14007.60  14010.50\n",
       "9      NIFTY 2021-01-01  09:25  14010.25  14014.10  14007.30  14014.10\n",
       "10     NIFTY 2021-01-01  09:26  14014.30  14014.30  14006.75  14007.65\n",
       "11     NIFTY 2021-01-01  09:27  14007.35  14012.95  14006.65  14011.80\n",
       "12     NIFTY 2021-01-01  09:28  14012.40  14014.20  14011.50  14013.65\n",
       "13     NIFTY 2021-01-01  09:29  14014.40  14019.60  14013.50  14018.50\n",
       "14     NIFTY 2021-01-01  09:30  14017.95  14019.35  14014.65  14018.20\n",
       "15     NIFTY 2021-01-01  09:31  14019.00  14028.90  14018.25  14025.50\n",
       "16     NIFTY 2021-01-01  09:32  14026.30  14027.30  14022.90  14025.45\n",
       "17     NIFTY 2021-01-01  09:33  14026.40  14026.55  14022.35  14023.60\n",
       "18     NIFTY 2021-01-01  09:34  14023.10  14025.35  14020.70  14021.90\n",
       "19     NIFTY 2021-01-01  09:35  14021.25  14022.80  14018.80  14020.10\n",
       "20     NIFTY 2021-01-01  09:36  14020.50  14020.60  14015.20  14016.45\n",
       "21     NIFTY 2021-01-01  09:37  14016.85  14018.85  14014.00  14018.30\n",
       "22     NIFTY 2021-01-01  09:38  14007.95  14008.00  14001.15  14006.60\n",
       "23     NIFTY 2021-01-01  09:39  14006.80  14017.70  14006.80  14016.95\n",
       "24     NIFTY 2021-01-01  09:40  14016.90  14017.85  14014.30  14017.85\n",
       "25     NIFTY 2021-01-01  09:41  14017.55  14019.85  14016.90  14018.65\n",
       "26     NIFTY 2021-01-01  09:42  14019.75  14023.30  14018.40  14022.95\n",
       "27     NIFTY 2021-01-01  09:43  14023.10  14025.45  14021.95  14021.95\n",
       "28     NIFTY 2021-01-01  09:44  14022.75  14024.80  14021.70  14023.95\n",
       "29     NIFTY 2021-01-01  09:45  14024.15  14026.70  14023.95  14023.95\n",
       "...      ...        ...    ...       ...       ...       ...       ...\n",
       "22775  NIFTY 2021-03-31  15:02  14697.85  14697.85  14680.60  14680.90\n",
       "22776  NIFTY 2021-03-31  15:03  14680.20  14680.35  14670.25  14677.55\n",
       "22777  NIFTY 2021-03-31  15:04  14678.05  14686.90  14678.05  14681.35\n",
       "22778  NIFTY 2021-03-31  15:05  14681.25  14684.20  14678.05  14682.60\n",
       "22779  NIFTY 2021-03-31  15:06  14681.70  14682.40  14675.50  14676.00\n",
       "22780  NIFTY 2021-03-31  15:07  14674.80  14692.15  14674.25  14691.95\n",
       "22781  NIFTY 2021-03-31  15:08  14691.40  14697.20  14687.55  14696.80\n",
       "22782  NIFTY 2021-03-31  15:09  14696.10  14703.95  14696.10  14701.95\n",
       "22783  NIFTY 2021-03-31  15:10  14701.85  14702.55  14696.75  14700.35\n",
       "22784  NIFTY 2021-03-31  15:11  14700.05  14706.15  14695.60  14695.80\n",
       "22785  NIFTY 2021-03-31  15:12  14695.70  14700.65  14694.50  14695.75\n",
       "22786  NIFTY 2021-03-31  15:13  14695.50  14698.20  14686.90  14689.35\n",
       "22787  NIFTY 2021-03-31  15:14  14689.15  14702.35  14689.15  14700.60\n",
       "22788  NIFTY 2021-03-31  15:15  14700.00  14700.00  14694.30  14694.30\n",
       "22789  NIFTY 2021-03-31  15:16  14693.40  14693.95  14689.15  14692.85\n",
       "22790  NIFTY 2021-03-31  15:17  14691.50  14694.15  14691.30  14693.85\n",
       "22791  NIFTY 2021-03-31  15:18  14693.95  14696.95  14690.10  14690.60\n",
       "22792  NIFTY 2021-03-31  15:19  14690.20  14694.30  14689.80  14691.25\n",
       "22793  NIFTY 2021-03-31  15:20  14691.00  14692.25  14686.55  14686.70\n",
       "22794  NIFTY 2021-03-31  15:21  14686.90  14691.70  14686.85  14687.95\n",
       "22795  NIFTY 2021-03-31  15:22  14687.85  14699.90  14676.05  14682.30\n",
       "22796  NIFTY 2021-03-31  15:23  14682.20  14693.00  14682.20  14688.70\n",
       "22797  NIFTY 2021-03-31  15:24  14688.40  14688.80  14683.90  14685.15\n",
       "22798  NIFTY 2021-03-31  15:25  14685.85  14688.10  14685.50  14687.75\n",
       "22799  NIFTY 2021-03-31  15:26  14687.25  14697.15  14686.80  14687.65\n",
       "22800  NIFTY 2021-03-31  15:27  14687.35  14694.35  14686.30  14690.60\n",
       "22801  NIFTY 2021-03-31  15:28  14690.90  14690.90  14686.05  14689.30\n",
       "22802  NIFTY 2021-03-31  15:29  14690.30  14694.10  14688.55  14691.30\n",
       "22803  NIFTY 2021-03-31  15:30  14689.85  14693.55  14689.45  14693.05\n",
       "22804  NIFTY 2021-03-31  15:31  14690.70  14690.70  14690.70  14690.70\n",
       "\n",
       "[22805 rows x 7 columns]"
      ]
     },
     "execution_count": 50,
     "metadata": {},
     "output_type": "execute_result"
    }
   ],
   "source": [
    "d1 = data.copy()\n",
    "d1"
   ]
  },
  {
   "cell_type": "code",
   "execution_count": 51,
   "metadata": {
    "id": "lTOXpQG0gnKM"
   },
   "outputs": [],
   "source": [
    "d1.columns\n",
    "d1 = d1.set_index(['TYPE','DATE','TIME'])"
   ]
  },
  {
   "cell_type": "code",
   "execution_count": 52,
   "metadata": {
    "id": "EPEEmJ43gsA5"
   },
   "outputs": [],
   "source": [
    "feature = ['OPEN', 'HIGH', 'LOW', 'CLOSE']"
   ]
  },
  {
   "cell_type": "code",
   "execution_count": 53,
   "metadata": {
    "colab": {
     "base_uri": "https://localhost:8080/"
    },
    "id": "dGLAlmT7hEMD",
    "outputId": "f0f8362d-cf8a-44ef-f78d-9457f4762252"
   },
   "outputs": [
    {
     "data": {
      "text/plain": [
       "[(0, 'OPEN'), (1, 'HIGH'), (2, 'LOW'), (3, 'CLOSE')]"
      ]
     },
     "execution_count": 53,
     "metadata": {},
     "output_type": "execute_result"
    }
   ],
   "source": [
    "list(enumerate(feature))"
   ]
  },
  {
   "cell_type": "code",
   "execution_count": 54,
   "metadata": {
    "colab": {
     "base_uri": "https://localhost:8080/",
     "height": 750
    },
    "id": "-ML4KQrChMwC",
    "outputId": "722a8aeb-cd0a-43df-d85e-4cd7a47dcf2e"
   },
   "outputs": [
    {
     "ename": "TypeError",
     "evalue": "distplot() got an unexpected keyword argument 'x'",
     "output_type": "error",
     "traceback": [
      "\u001b[1;31m---------------------------------------------------------------------------\u001b[0m",
      "\u001b[1;31mTypeError\u001b[0m                                 Traceback (most recent call last)",
      "\u001b[1;32m<ipython-input-54-09b7b8037cfa>\u001b[0m in \u001b[0;36m<module>\u001b[1;34m\u001b[0m\n\u001b[0;32m      3\u001b[0m     \u001b[0mplt\u001b[0m\u001b[1;33m.\u001b[0m\u001b[0msubplot\u001b[0m\u001b[1;33m(\u001b[0m\u001b[1;36m2\u001b[0m\u001b[1;33m,\u001b[0m\u001b[1;36m2\u001b[0m\u001b[1;33m,\u001b[0m\u001b[0mi\u001b[0m\u001b[1;33m[\u001b[0m\u001b[1;36m0\u001b[0m\u001b[1;33m]\u001b[0m\u001b[1;33m+\u001b[0m\u001b[1;36m1\u001b[0m\u001b[1;33m)\u001b[0m\u001b[1;33m\u001b[0m\u001b[1;33m\u001b[0m\u001b[0m\n\u001b[0;32m      4\u001b[0m     \u001b[0mbase_color\u001b[0m \u001b[1;33m=\u001b[0m \u001b[0msns\u001b[0m\u001b[1;33m.\u001b[0m\u001b[0mcolor_palette\u001b[0m\u001b[1;33m(\u001b[0m\u001b[1;33m)\u001b[0m\u001b[1;33m[\u001b[0m\u001b[0mi\u001b[0m\u001b[1;33m[\u001b[0m\u001b[1;36m0\u001b[0m\u001b[1;33m]\u001b[0m\u001b[1;33m]\u001b[0m\u001b[1;33m\u001b[0m\u001b[1;33m\u001b[0m\u001b[0m\n\u001b[1;32m----> 5\u001b[1;33m     \u001b[0msns\u001b[0m\u001b[1;33m.\u001b[0m\u001b[0mdistplot\u001b[0m\u001b[1;33m(\u001b[0m\u001b[0mx\u001b[0m \u001b[1;33m=\u001b[0m \u001b[0md1\u001b[0m\u001b[1;33m[\u001b[0m\u001b[0mi\u001b[0m\u001b[1;33m[\u001b[0m\u001b[1;36m1\u001b[0m\u001b[1;33m]\u001b[0m\u001b[1;33m]\u001b[0m \u001b[1;33m,\u001b[0m \u001b[0mkde\u001b[0m \u001b[1;33m=\u001b[0m \u001b[1;32mFalse\u001b[0m \u001b[1;33m,\u001b[0m \u001b[0mcolor\u001b[0m \u001b[1;33m=\u001b[0m \u001b[0mbase_color\u001b[0m\u001b[1;33m)\u001b[0m\u001b[1;33m\u001b[0m\u001b[1;33m\u001b[0m\u001b[0m\n\u001b[0m\u001b[0;32m      6\u001b[0m     \u001b[0mplt\u001b[0m\u001b[1;33m.\u001b[0m\u001b[0mxlabel\u001b[0m\u001b[1;33m(\u001b[0m\u001b[0mi\u001b[0m\u001b[1;33m[\u001b[0m\u001b[1;36m1\u001b[0m\u001b[1;33m]\u001b[0m\u001b[1;33m)\u001b[0m\u001b[1;33m;\u001b[0m\u001b[1;33m\u001b[0m\u001b[1;33m\u001b[0m\u001b[0m\n",
      "\u001b[1;31mTypeError\u001b[0m: distplot() got an unexpected keyword argument 'x'"
     ]
    },
    {
     "data": {
      "image/png": "[encoded data removed]",
      "text/plain": [
       "<Figure size 1080x864 with 1 Axes>"
      ]
     },
     "metadata": {
      "needs_background": "light"
     },
     "output_type": "display_data"
    }
   ],
   "source": [
    "plt.figure(figsize=(15,12))\n",
    "for i in enumerate(feature):\n",
    "    plt.subplot(2,2,i[0]+1)\n",
    "    base_color = sns.color_palette()[i[0]]\n",
    "    sns.distplot(x = d1[i[1]] , kde = False , color = base_color)\n",
    "    plt.xlabel(i[1]);"
   ]
  },
  {
   "cell_type": "code",
   "execution_count": 55,
   "metadata": {
    "colab": {
     "base_uri": "https://localhost:8080/",
     "height": 742
    },
    "id": "8bLKIkpiO2ms",
    "outputId": "377627ab-13c9-42ce-b058-5fb5b499bd16"
   },
   "outputs": [
    {
     "data": {
      "text/plain": [
       "<seaborn.axisgrid.PairGrid at 0x285255493c8>"
      ]
     },
     "execution_count": 55,
     "metadata": {},
     "output_type": "execute_result"
    },
    {
     "data": {
      "image/png": "[encoded data removed]",
      "text/plain": [
       "<Figure size 720x720 with 20 Axes>"
      ]
     },
     "metadata": {
      "needs_background": "light"
     },
     "output_type": "display_data"
    }
   ],
   "source": [
    "color = sns.PairGrid(d1)\n",
    "color.map_upper(sns.scatterplot,color = 'green')\n",
    "color.map_lower(sns.scatterplot,color = 'orange')\n",
    "color.map_diag(plt.hist)"
   ]
  },
  {
   "cell_type": "code",
   "execution_count": 56,
   "metadata": {
    "colab": {
     "base_uri": "https://localhost:8080/",
     "height": 567
    },
    "id": "sdihaLUEQUb4",
    "outputId": "9ec279b7-7be7-42db-ded8-041caf20bc67"
   },
   "outputs": [
    {
     "ename": "ValueError",
     "evalue": "A wide-form input must have only numeric values.",
     "output_type": "error",
     "traceback": [
      "\u001b[1;31m---------------------------------------------------------------------------\u001b[0m",
      "\u001b[1;31mValueError\u001b[0m                                Traceback (most recent call last)",
      "\u001b[1;32m~\\Anaconda3\\lib\\site-packages\\seaborn\\relational.py\u001b[0m in \u001b[0;36mestablish_variables\u001b[1;34m(self, x, y, hue, size, style, units, data)\u001b[0m\n\u001b[0;32m     60\u001b[0m                 \u001b[1;32mtry\u001b[0m\u001b[1;33m:\u001b[0m\u001b[1;33m\u001b[0m\u001b[1;33m\u001b[0m\u001b[0m\n\u001b[1;32m---> 61\u001b[1;33m                     \u001b[0mdata\u001b[0m\u001b[1;33m.\u001b[0m\u001b[0mastype\u001b[0m\u001b[1;33m(\u001b[0m\u001b[0mnp\u001b[0m\u001b[1;33m.\u001b[0m\u001b[0mfloat\u001b[0m\u001b[1;33m)\u001b[0m\u001b[1;33m\u001b[0m\u001b[1;33m\u001b[0m\u001b[0m\n\u001b[0m\u001b[0;32m     62\u001b[0m                 \u001b[1;32mexcept\u001b[0m \u001b[0mValueError\u001b[0m\u001b[1;33m:\u001b[0m\u001b[1;33m\u001b[0m\u001b[1;33m\u001b[0m\u001b[0m\n",
      "\u001b[1;32m~\\Anaconda3\\lib\\site-packages\\pandas\\core\\generic.py\u001b[0m in \u001b[0;36mastype\u001b[1;34m(self, dtype, copy, errors, **kwargs)\u001b[0m\n\u001b[0;32m   5690\u001b[0m             new_data = self._data.astype(dtype=dtype, copy=copy, errors=errors,\n\u001b[1;32m-> 5691\u001b[1;33m                                          **kwargs)\n\u001b[0m\u001b[0;32m   5692\u001b[0m             \u001b[1;32mreturn\u001b[0m \u001b[0mself\u001b[0m\u001b[1;33m.\u001b[0m\u001b[0m_constructor\u001b[0m\u001b[1;33m(\u001b[0m\u001b[0mnew_data\u001b[0m\u001b[1;33m)\u001b[0m\u001b[1;33m.\u001b[0m\u001b[0m__finalize__\u001b[0m\u001b[1;33m(\u001b[0m\u001b[0mself\u001b[0m\u001b[1;33m)\u001b[0m\u001b[1;33m\u001b[0m\u001b[1;33m\u001b[0m\u001b[0m\n",
      "\u001b[1;32m~\\Anaconda3\\lib\\site-packages\\pandas\\core\\internals\\managers.py\u001b[0m in \u001b[0;36mastype\u001b[1;34m(self, dtype, **kwargs)\u001b[0m\n\u001b[0;32m    530\u001b[0m     \u001b[1;32mdef\u001b[0m \u001b[0mastype\u001b[0m\u001b[1;33m(\u001b[0m\u001b[0mself\u001b[0m\u001b[1;33m,\u001b[0m \u001b[0mdtype\u001b[0m\u001b[1;33m,\u001b[0m \u001b[1;33m**\u001b[0m\u001b[0mkwargs\u001b[0m\u001b[1;33m)\u001b[0m\u001b[1;33m:\u001b[0m\u001b[1;33m\u001b[0m\u001b[1;33m\u001b[0m\u001b[0m\n\u001b[1;32m--> 531\u001b[1;33m         \u001b[1;32mreturn\u001b[0m \u001b[0mself\u001b[0m\u001b[1;33m.\u001b[0m\u001b[0mapply\u001b[0m\u001b[1;33m(\u001b[0m\u001b[1;34m'astype'\u001b[0m\u001b[1;33m,\u001b[0m \u001b[0mdtype\u001b[0m\u001b[1;33m=\u001b[0m\u001b[0mdtype\u001b[0m\u001b[1;33m,\u001b[0m \u001b[1;33m**\u001b[0m\u001b[0mkwargs\u001b[0m\u001b[1;33m)\u001b[0m\u001b[1;33m\u001b[0m\u001b[1;33m\u001b[0m\u001b[0m\n\u001b[0m\u001b[0;32m    532\u001b[0m \u001b[1;33m\u001b[0m\u001b[0m\n",
      "\u001b[1;32m~\\Anaconda3\\lib\\site-packages\\pandas\\core\\internals\\managers.py\u001b[0m in \u001b[0;36mapply\u001b[1;34m(self, f, axes, filter, do_integrity_check, consolidate, **kwargs)\u001b[0m\n\u001b[0;32m    394\u001b[0m \u001b[1;33m\u001b[0m\u001b[0m\n\u001b[1;32m--> 395\u001b[1;33m             \u001b[0mapplied\u001b[0m \u001b[1;33m=\u001b[0m \u001b[0mgetattr\u001b[0m\u001b[1;33m(\u001b[0m\u001b[0mb\u001b[0m\u001b[1;33m,\u001b[0m \u001b[0mf\u001b[0m\u001b[1;33m)\u001b[0m\u001b[1;33m(\u001b[0m\u001b[1;33m**\u001b[0m\u001b[0mkwargs\u001b[0m\u001b[1;33m)\u001b[0m\u001b[1;33m\u001b[0m\u001b[1;33m\u001b[0m\u001b[0m\n\u001b[0m\u001b[0;32m    396\u001b[0m             \u001b[0mresult_blocks\u001b[0m \u001b[1;33m=\u001b[0m \u001b[0m_extend_blocks\u001b[0m\u001b[1;33m(\u001b[0m\u001b[0mapplied\u001b[0m\u001b[1;33m,\u001b[0m \u001b[0mresult_blocks\u001b[0m\u001b[1;33m)\u001b[0m\u001b[1;33m\u001b[0m\u001b[1;33m\u001b[0m\u001b[0m\n",
      "\u001b[1;32m~\\Anaconda3\\lib\\site-packages\\pandas\\core\\internals\\blocks.py\u001b[0m in \u001b[0;36mastype\u001b[1;34m(self, dtype, copy, errors, values, **kwargs)\u001b[0m\n\u001b[0;32m    533\u001b[0m         return self._astype(dtype, copy=copy, errors=errors, values=values,\n\u001b[1;32m--> 534\u001b[1;33m                             **kwargs)\n\u001b[0m\u001b[0;32m    535\u001b[0m \u001b[1;33m\u001b[0m\u001b[0m\n",
      "\u001b[1;32m~\\Anaconda3\\lib\\site-packages\\pandas\\core\\internals\\blocks.py\u001b[0m in \u001b[0;36m_astype\u001b[1;34m(self, dtype, copy, errors, values, **kwargs)\u001b[0m\n\u001b[0;32m    632\u001b[0m                     \u001b[1;31m# _astype_nansafe works fine with 1-d only\u001b[0m\u001b[1;33m\u001b[0m\u001b[1;33m\u001b[0m\u001b[1;33m\u001b[0m\u001b[0m\n\u001b[1;32m--> 633\u001b[1;33m                     \u001b[0mvalues\u001b[0m \u001b[1;33m=\u001b[0m \u001b[0mastype_nansafe\u001b[0m\u001b[1;33m(\u001b[0m\u001b[0mvalues\u001b[0m\u001b[1;33m.\u001b[0m\u001b[0mravel\u001b[0m\u001b[1;33m(\u001b[0m\u001b[1;33m)\u001b[0m\u001b[1;33m,\u001b[0m \u001b[0mdtype\u001b[0m\u001b[1;33m,\u001b[0m \u001b[0mcopy\u001b[0m\u001b[1;33m=\u001b[0m\u001b[1;32mTrue\u001b[0m\u001b[1;33m)\u001b[0m\u001b[1;33m\u001b[0m\u001b[1;33m\u001b[0m\u001b[0m\n\u001b[0m\u001b[0;32m    634\u001b[0m \u001b[1;33m\u001b[0m\u001b[0m\n",
      "\u001b[1;32m~\\Anaconda3\\lib\\site-packages\\pandas\\core\\dtypes\\cast.py\u001b[0m in \u001b[0;36mastype_nansafe\u001b[1;34m(arr, dtype, copy, skipna)\u001b[0m\n\u001b[0;32m    701\u001b[0m         \u001b[1;31m# Explicit copy, or required since NumPy can't view from / to object.\u001b[0m\u001b[1;33m\u001b[0m\u001b[1;33m\u001b[0m\u001b[1;33m\u001b[0m\u001b[0m\n\u001b[1;32m--> 702\u001b[1;33m         \u001b[1;32mreturn\u001b[0m \u001b[0marr\u001b[0m\u001b[1;33m.\u001b[0m\u001b[0mastype\u001b[0m\u001b[1;33m(\u001b[0m\u001b[0mdtype\u001b[0m\u001b[1;33m,\u001b[0m \u001b[0mcopy\u001b[0m\u001b[1;33m=\u001b[0m\u001b[1;32mTrue\u001b[0m\u001b[1;33m)\u001b[0m\u001b[1;33m\u001b[0m\u001b[1;33m\u001b[0m\u001b[0m\n\u001b[0m\u001b[0;32m    703\u001b[0m \u001b[1;33m\u001b[0m\u001b[0m\n",
      "\u001b[1;31mValueError\u001b[0m: could not convert string to float: 'NIFTY'",
      "\nDuring handling of the above exception, another exception occurred:\n",
      "\u001b[1;31mValueError\u001b[0m                                Traceback (most recent call last)",
      "\u001b[1;32m<ipython-input-56-26af87517ea9>\u001b[0m in \u001b[0;36m<module>\u001b[1;34m\u001b[0m\n\u001b[0;32m      2\u001b[0m \u001b[0md1\u001b[0m \u001b[1;33m=\u001b[0m \u001b[0md1\u001b[0m\u001b[1;33m.\u001b[0m\u001b[0mset_index\u001b[0m\u001b[1;33m(\u001b[0m\u001b[1;34m'DATE'\u001b[0m\u001b[1;33m)\u001b[0m\u001b[1;33m\u001b[0m\u001b[1;33m\u001b[0m\u001b[0m\n\u001b[0;32m      3\u001b[0m \u001b[0mplt\u001b[0m\u001b[1;33m.\u001b[0m\u001b[0mfigure\u001b[0m\u001b[1;33m(\u001b[0m\u001b[0mfigsize\u001b[0m\u001b[1;33m=\u001b[0m\u001b[1;33m(\u001b[0m\u001b[1;36m15\u001b[0m\u001b[1;33m,\u001b[0m\u001b[1;36m8\u001b[0m\u001b[1;33m)\u001b[0m\u001b[1;33m)\u001b[0m\u001b[1;33m\u001b[0m\u001b[1;33m\u001b[0m\u001b[0m\n\u001b[1;32m----> 4\u001b[1;33m \u001b[0msns\u001b[0m\u001b[1;33m.\u001b[0m\u001b[0mlineplot\u001b[0m\u001b[1;33m(\u001b[0m\u001b[0mdata\u001b[0m \u001b[1;33m=\u001b[0m \u001b[0md1\u001b[0m\u001b[1;33m)\u001b[0m\u001b[1;33m\u001b[0m\u001b[1;33m\u001b[0m\u001b[0m\n\u001b[0m\u001b[0;32m      5\u001b[0m \u001b[0mplt\u001b[0m\u001b[1;33m.\u001b[0m\u001b[0mxticks\u001b[0m\u001b[1;33m(\u001b[0m\u001b[0mrotation\u001b[0m \u001b[1;33m=\u001b[0m \u001b[1;36m90\u001b[0m\u001b[1;33m)\u001b[0m\u001b[1;33m\u001b[0m\u001b[1;33m\u001b[0m\u001b[0m\n\u001b[0;32m      6\u001b[0m \u001b[0mplt\u001b[0m\u001b[1;33m.\u001b[0m\u001b[0mtitle\u001b[0m\u001b[1;33m(\u001b[0m\u001b[1;34m'Line Plot with respect to DATE'\u001b[0m\u001b[1;33m)\u001b[0m\u001b[1;33m\u001b[0m\u001b[1;33m\u001b[0m\u001b[0m\n",
      "\u001b[1;32m~\\Anaconda3\\lib\\site-packages\\seaborn\\relational.py\u001b[0m in \u001b[0;36mlineplot\u001b[1;34m(x, y, hue, size, style, data, palette, hue_order, hue_norm, sizes, size_order, size_norm, dashes, markers, style_order, units, estimator, ci, n_boot, sort, err_style, err_kws, legend, ax, **kwargs)\u001b[0m\n\u001b[0;32m   1076\u001b[0m         \u001b[0mdashes\u001b[0m\u001b[1;33m=\u001b[0m\u001b[0mdashes\u001b[0m\u001b[1;33m,\u001b[0m \u001b[0mmarkers\u001b[0m\u001b[1;33m=\u001b[0m\u001b[0mmarkers\u001b[0m\u001b[1;33m,\u001b[0m \u001b[0mstyle_order\u001b[0m\u001b[1;33m=\u001b[0m\u001b[0mstyle_order\u001b[0m\u001b[1;33m,\u001b[0m\u001b[1;33m\u001b[0m\u001b[1;33m\u001b[0m\u001b[0m\n\u001b[0;32m   1077\u001b[0m         \u001b[0munits\u001b[0m\u001b[1;33m=\u001b[0m\u001b[0munits\u001b[0m\u001b[1;33m,\u001b[0m \u001b[0mestimator\u001b[0m\u001b[1;33m=\u001b[0m\u001b[0mestimator\u001b[0m\u001b[1;33m,\u001b[0m \u001b[0mci\u001b[0m\u001b[1;33m=\u001b[0m\u001b[0mci\u001b[0m\u001b[1;33m,\u001b[0m \u001b[0mn_boot\u001b[0m\u001b[1;33m=\u001b[0m\u001b[0mn_boot\u001b[0m\u001b[1;33m,\u001b[0m\u001b[1;33m\u001b[0m\u001b[1;33m\u001b[0m\u001b[0m\n\u001b[1;32m-> 1078\u001b[1;33m         \u001b[0msort\u001b[0m\u001b[1;33m=\u001b[0m\u001b[0msort\u001b[0m\u001b[1;33m,\u001b[0m \u001b[0merr_style\u001b[0m\u001b[1;33m=\u001b[0m\u001b[0merr_style\u001b[0m\u001b[1;33m,\u001b[0m \u001b[0merr_kws\u001b[0m\u001b[1;33m=\u001b[0m\u001b[0merr_kws\u001b[0m\u001b[1;33m,\u001b[0m \u001b[0mlegend\u001b[0m\u001b[1;33m=\u001b[0m\u001b[0mlegend\u001b[0m\u001b[1;33m,\u001b[0m\u001b[1;33m\u001b[0m\u001b[1;33m\u001b[0m\u001b[0m\n\u001b[0m\u001b[0;32m   1079\u001b[0m     )\n\u001b[0;32m   1080\u001b[0m \u001b[1;33m\u001b[0m\u001b[0m\n",
      "\u001b[1;32m~\\Anaconda3\\lib\\site-packages\\seaborn\\relational.py\u001b[0m in \u001b[0;36m__init__\u001b[1;34m(self, x, y, hue, size, style, data, palette, hue_order, hue_norm, sizes, size_order, size_norm, dashes, markers, style_order, units, estimator, ci, n_boot, sort, err_style, err_kws, legend)\u001b[0m\n\u001b[0;32m    661\u001b[0m \u001b[1;33m\u001b[0m\u001b[0m\n\u001b[0;32m    662\u001b[0m         plot_data = self.establish_variables(\n\u001b[1;32m--> 663\u001b[1;33m             \u001b[0mx\u001b[0m\u001b[1;33m,\u001b[0m \u001b[0my\u001b[0m\u001b[1;33m,\u001b[0m \u001b[0mhue\u001b[0m\u001b[1;33m,\u001b[0m \u001b[0msize\u001b[0m\u001b[1;33m,\u001b[0m \u001b[0mstyle\u001b[0m\u001b[1;33m,\u001b[0m \u001b[0munits\u001b[0m\u001b[1;33m,\u001b[0m \u001b[0mdata\u001b[0m\u001b[1;33m\u001b[0m\u001b[1;33m\u001b[0m\u001b[0m\n\u001b[0m\u001b[0;32m    664\u001b[0m         )\n\u001b[0;32m    665\u001b[0m \u001b[1;33m\u001b[0m\u001b[0m\n",
      "\u001b[1;32m~\\Anaconda3\\lib\\site-packages\\seaborn\\relational.py\u001b[0m in \u001b[0;36mestablish_variables\u001b[1;34m(self, x, y, hue, size, style, units, data)\u001b[0m\n\u001b[0;32m     62\u001b[0m                 \u001b[1;32mexcept\u001b[0m \u001b[0mValueError\u001b[0m\u001b[1;33m:\u001b[0m\u001b[1;33m\u001b[0m\u001b[1;33m\u001b[0m\u001b[0m\n\u001b[0;32m     63\u001b[0m                     \u001b[0merr\u001b[0m \u001b[1;33m=\u001b[0m \u001b[1;34m\"A wide-form input must have only numeric values.\"\u001b[0m\u001b[1;33m\u001b[0m\u001b[1;33m\u001b[0m\u001b[0m\n\u001b[1;32m---> 64\u001b[1;33m                     \u001b[1;32mraise\u001b[0m \u001b[0mValueError\u001b[0m\u001b[1;33m(\u001b[0m\u001b[0merr\u001b[0m\u001b[1;33m)\u001b[0m\u001b[1;33m\u001b[0m\u001b[1;33m\u001b[0m\u001b[0m\n\u001b[0m\u001b[0;32m     65\u001b[0m \u001b[1;33m\u001b[0m\u001b[0m\n\u001b[0;32m     66\u001b[0m                 \u001b[0mplot_data\u001b[0m \u001b[1;33m=\u001b[0m \u001b[0mdata\u001b[0m\u001b[1;33m.\u001b[0m\u001b[0mcopy\u001b[0m\u001b[1;33m(\u001b[0m\u001b[1;33m)\u001b[0m\u001b[1;33m\u001b[0m\u001b[1;33m\u001b[0m\u001b[0m\n",
      "\u001b[1;31mValueError\u001b[0m: A wide-form input must have only numeric values."
     ]
    },
    {
     "data": {
      "text/plain": [
       "<Figure size 1080x576 with 0 Axes>"
      ]
     },
     "metadata": {},
     "output_type": "display_data"
    }
   ],
   "source": [
    "d1 = d1.reset_index()                  # line plot w.r.t DATE\n",
    "d1 = d1.set_index('DATE')\n",
    "plt.figure(figsize=(15,8))\n",
    "sns.lineplot(data = d1)\n",
    "plt.xticks(rotation = 90)\n",
    "plt.title('Line Plot with respect to DATE')\n",
    "plt.xlabel(\"DATE\")\n"
   ]
  },
  {
   "cell_type": "code",
   "execution_count": 57,
   "metadata": {
    "colab": {
     "base_uri": "https://localhost:8080/",
     "height": 606
    },
    "id": "5FlVb2YnRkrJ",
    "outputId": "42b7781c-22ef-4ed7-9049-2e704168d6fd"
   },
   "outputs": [
    {
     "data": {
      "image/png": "[encoded data removed]",
      "text/plain": [
       "<Figure size 1080x720 with 4 Axes>"
      ]
     },
     "metadata": {
      "needs_background": "light"
     },
     "output_type": "display_data"
    }
   ],
   "source": [
    "plt.figure(figsize=(15,10))         #creating Box plots of various attributes\n",
    "for i in enumerate(feature):\n",
    "    plt.subplot(2,2,i[0]+1)\n",
    "    base_color = sns.color_palette()[i[0]]\n",
    "    sns.boxplot(x = d1[i[1]] , color = base_color)\n",
    "    plt.xlabel(i[1]);"
   ]
  },
  {
   "cell_type": "code",
   "execution_count": 58,
   "metadata": {
    "id": "NfBIycHg3r9D",
    "outputId": "94680bf3-c093-4905-f476-40b093570bc1"
   },
   "outputs": [
    {
     "data": {
      "text/plain": [
       "<matplotlib.axes._subplots.AxesSubplot at 0x285278c7e10>"
      ]
     },
     "execution_count": 58,
     "metadata": {},
     "output_type": "execute_result"
    },
    {
     "data": {
      "image/png": "[encoded data removed]",
      "text/plain": [
       "<Figure size 432x288 with 2 Axes>"
      ]
     },
     "metadata": {
      "needs_background": "light"
     },
     "output_type": "display_data"
    }
   ],
   "source": [
    "sns.heatmap(d1.corr() , vmin = -1 , vmax = 1 , annot = True , cmap = 'Blues')     #heat map to determine correlation"
   ]
  },
  {
   "cell_type": "markdown",
   "metadata": {
    "id": "_A_96PAs3r9D"
   },
   "source": [
    "# EDA ANALYSIS (MSFT.csv)"
   ]
  },
  {
   "cell_type": "code",
   "execution_count": 59,
   "metadata": {
    "colab": {
     "base_uri": "https://localhost:8080/",
     "height": 424
    },
    "id": "w3aVDnWq3r9E",
    "outputId": "67be431e-0b8f-4d22-b82c-260382391a5c"
   },
   "outputs": [
    {
     "data": {
      "text/html": [
       "<div>\n",
       "<style scoped>\n",
       "    .dataframe tbody tr th:only-of-type {\n",
       "        vertical-align: middle;\n",
       "    }\n",
       "\n",
       "    .dataframe tbody tr th {\n",
       "        vertical-align: top;\n",
       "    }\n",
       "\n",
       "    .dataframe thead th {\n",
       "        text-align: right;\n",
       "    }\n",
       "</style>\n",
       "<table border=\"1\" class=\"dataframe\">\n",
       "  <thead>\n",
       "    <tr style=\"text-align: right;\">\n",
       "      <th></th>\n",
       "      <th>DATE</th>\n",
       "      <th>OPEN</th>\n",
       "      <th>HIGH</th>\n",
       "      <th>LOW</th>\n",
       "      <th>CLOSE</th>\n",
       "      <th>ADJ CLOSE</th>\n",
       "      <th>VOLUME</th>\n",
       "    </tr>\n",
       "  </thead>\n",
       "  <tbody>\n",
       "    <tr>\n",
       "      <th>0</th>\n",
       "      <td>1986-03-13</td>\n",
       "      <td>0.088542</td>\n",
       "      <td>0.101563</td>\n",
       "      <td>0.088542</td>\n",
       "      <td>0.097222</td>\n",
       "      <td>0.061751</td>\n",
       "      <td>1031788800</td>\n",
       "    </tr>\n",
       "    <tr>\n",
       "      <th>1</th>\n",
       "      <td>1986-03-14</td>\n",
       "      <td>0.097222</td>\n",
       "      <td>0.102431</td>\n",
       "      <td>0.097222</td>\n",
       "      <td>0.100694</td>\n",
       "      <td>0.063956</td>\n",
       "      <td>308160000</td>\n",
       "    </tr>\n",
       "    <tr>\n",
       "      <th>2</th>\n",
       "      <td>1986-03-17</td>\n",
       "      <td>0.100694</td>\n",
       "      <td>0.103299</td>\n",
       "      <td>0.100694</td>\n",
       "      <td>0.102431</td>\n",
       "      <td>0.065059</td>\n",
       "      <td>133171200</td>\n",
       "    </tr>\n",
       "    <tr>\n",
       "      <th>3</th>\n",
       "      <td>1986-03-18</td>\n",
       "      <td>0.102431</td>\n",
       "      <td>0.103299</td>\n",
       "      <td>0.098958</td>\n",
       "      <td>0.099826</td>\n",
       "      <td>0.063405</td>\n",
       "      <td>67766400</td>\n",
       "    </tr>\n",
       "    <tr>\n",
       "      <th>4</th>\n",
       "      <td>1986-03-19</td>\n",
       "      <td>0.099826</td>\n",
       "      <td>0.100694</td>\n",
       "      <td>0.097222</td>\n",
       "      <td>0.098090</td>\n",
       "      <td>0.062302</td>\n",
       "      <td>47894400</td>\n",
       "    </tr>\n",
       "    <tr>\n",
       "      <th>5</th>\n",
       "      <td>1986-03-20</td>\n",
       "      <td>0.098090</td>\n",
       "      <td>0.098090</td>\n",
       "      <td>0.094618</td>\n",
       "      <td>0.095486</td>\n",
       "      <td>0.060648</td>\n",
       "      <td>58435200</td>\n",
       "    </tr>\n",
       "    <tr>\n",
       "      <th>6</th>\n",
       "      <td>1986-03-21</td>\n",
       "      <td>0.095486</td>\n",
       "      <td>0.097222</td>\n",
       "      <td>0.091146</td>\n",
       "      <td>0.092882</td>\n",
       "      <td>0.058994</td>\n",
       "      <td>59990400</td>\n",
       "    </tr>\n",
       "    <tr>\n",
       "      <th>7</th>\n",
       "      <td>1986-03-24</td>\n",
       "      <td>0.092882</td>\n",
       "      <td>0.092882</td>\n",
       "      <td>0.089410</td>\n",
       "      <td>0.090278</td>\n",
       "      <td>0.057340</td>\n",
       "      <td>65289600</td>\n",
       "    </tr>\n",
       "    <tr>\n",
       "      <th>8</th>\n",
       "      <td>1986-03-25</td>\n",
       "      <td>0.090278</td>\n",
       "      <td>0.092014</td>\n",
       "      <td>0.089410</td>\n",
       "      <td>0.092014</td>\n",
       "      <td>0.058443</td>\n",
       "      <td>32083200</td>\n",
       "    </tr>\n",
       "    <tr>\n",
       "      <th>9</th>\n",
       "      <td>1986-03-26</td>\n",
       "      <td>0.092014</td>\n",
       "      <td>0.095486</td>\n",
       "      <td>0.091146</td>\n",
       "      <td>0.094618</td>\n",
       "      <td>0.060097</td>\n",
       "      <td>22752000</td>\n",
       "    </tr>\n",
       "    <tr>\n",
       "      <th>10</th>\n",
       "      <td>1986-03-27</td>\n",
       "      <td>0.094618</td>\n",
       "      <td>0.096354</td>\n",
       "      <td>0.094618</td>\n",
       "      <td>0.096354</td>\n",
       "      <td>0.061199</td>\n",
       "      <td>16848000</td>\n",
       "    </tr>\n",
       "    <tr>\n",
       "      <th>11</th>\n",
       "      <td>1986-03-31</td>\n",
       "      <td>0.096354</td>\n",
       "      <td>0.096354</td>\n",
       "      <td>0.093750</td>\n",
       "      <td>0.095486</td>\n",
       "      <td>0.060648</td>\n",
       "      <td>12873600</td>\n",
       "    </tr>\n",
       "    <tr>\n",
       "      <th>12</th>\n",
       "      <td>1986-04-01</td>\n",
       "      <td>0.095486</td>\n",
       "      <td>0.095486</td>\n",
       "      <td>0.094618</td>\n",
       "      <td>0.094618</td>\n",
       "      <td>0.060097</td>\n",
       "      <td>11088000</td>\n",
       "    </tr>\n",
       "    <tr>\n",
       "      <th>13</th>\n",
       "      <td>1986-04-02</td>\n",
       "      <td>0.094618</td>\n",
       "      <td>0.097222</td>\n",
       "      <td>0.094618</td>\n",
       "      <td>0.095486</td>\n",
       "      <td>0.060648</td>\n",
       "      <td>27014400</td>\n",
       "    </tr>\n",
       "    <tr>\n",
       "      <th>14</th>\n",
       "      <td>1986-04-03</td>\n",
       "      <td>0.096354</td>\n",
       "      <td>0.098958</td>\n",
       "      <td>0.096354</td>\n",
       "      <td>0.096354</td>\n",
       "      <td>0.061199</td>\n",
       "      <td>23040000</td>\n",
       "    </tr>\n",
       "    <tr>\n",
       "      <th>15</th>\n",
       "      <td>1986-04-04</td>\n",
       "      <td>0.096354</td>\n",
       "      <td>0.097222</td>\n",
       "      <td>0.096354</td>\n",
       "      <td>0.096354</td>\n",
       "      <td>0.061199</td>\n",
       "      <td>26582400</td>\n",
       "    </tr>\n",
       "    <tr>\n",
       "      <th>16</th>\n",
       "      <td>1986-04-07</td>\n",
       "      <td>0.096354</td>\n",
       "      <td>0.097222</td>\n",
       "      <td>0.092882</td>\n",
       "      <td>0.094618</td>\n",
       "      <td>0.060097</td>\n",
       "      <td>16560000</td>\n",
       "    </tr>\n",
       "    <tr>\n",
       "      <th>17</th>\n",
       "      <td>1986-04-08</td>\n",
       "      <td>0.094618</td>\n",
       "      <td>0.097222</td>\n",
       "      <td>0.094618</td>\n",
       "      <td>0.095486</td>\n",
       "      <td>0.060648</td>\n",
       "      <td>10252800</td>\n",
       "    </tr>\n",
       "    <tr>\n",
       "      <th>18</th>\n",
       "      <td>1986-04-09</td>\n",
       "      <td>0.095486</td>\n",
       "      <td>0.098090</td>\n",
       "      <td>0.095486</td>\n",
       "      <td>0.097222</td>\n",
       "      <td>0.061751</td>\n",
       "      <td>12153600</td>\n",
       "    </tr>\n",
       "    <tr>\n",
       "      <th>19</th>\n",
       "      <td>1986-04-10</td>\n",
       "      <td>0.097222</td>\n",
       "      <td>0.098958</td>\n",
       "      <td>0.095486</td>\n",
       "      <td>0.098090</td>\n",
       "      <td>0.062302</td>\n",
       "      <td>13881600</td>\n",
       "    </tr>\n",
       "    <tr>\n",
       "      <th>20</th>\n",
       "      <td>1986-04-11</td>\n",
       "      <td>0.098958</td>\n",
       "      <td>0.101563</td>\n",
       "      <td>0.098958</td>\n",
       "      <td>0.099826</td>\n",
       "      <td>0.063405</td>\n",
       "      <td>17222400</td>\n",
       "    </tr>\n",
       "    <tr>\n",
       "      <th>21</th>\n",
       "      <td>1986-04-14</td>\n",
       "      <td>0.099826</td>\n",
       "      <td>0.101563</td>\n",
       "      <td>0.099826</td>\n",
       "      <td>0.100694</td>\n",
       "      <td>0.063956</td>\n",
       "      <td>12153600</td>\n",
       "    </tr>\n",
       "    <tr>\n",
       "      <th>22</th>\n",
       "      <td>1986-04-15</td>\n",
       "      <td>0.100694</td>\n",
       "      <td>0.100694</td>\n",
       "      <td>0.097222</td>\n",
       "      <td>0.100694</td>\n",
       "      <td>0.063956</td>\n",
       "      <td>9302400</td>\n",
       "    </tr>\n",
       "    <tr>\n",
       "      <th>23</th>\n",
       "      <td>1986-04-16</td>\n",
       "      <td>0.100694</td>\n",
       "      <td>0.105035</td>\n",
       "      <td>0.099826</td>\n",
       "      <td>0.104167</td>\n",
       "      <td>0.066162</td>\n",
       "      <td>31910400</td>\n",
       "    </tr>\n",
       "    <tr>\n",
       "      <th>24</th>\n",
       "      <td>1986-04-17</td>\n",
       "      <td>0.104167</td>\n",
       "      <td>0.105035</td>\n",
       "      <td>0.104167</td>\n",
       "      <td>0.105035</td>\n",
       "      <td>0.066713</td>\n",
       "      <td>22003200</td>\n",
       "    </tr>\n",
       "    <tr>\n",
       "      <th>25</th>\n",
       "      <td>1986-04-18</td>\n",
       "      <td>0.105035</td>\n",
       "      <td>0.105035</td>\n",
       "      <td>0.100694</td>\n",
       "      <td>0.101563</td>\n",
       "      <td>0.064508</td>\n",
       "      <td>21628800</td>\n",
       "    </tr>\n",
       "    <tr>\n",
       "      <th>26</th>\n",
       "      <td>1986-04-21</td>\n",
       "      <td>0.101563</td>\n",
       "      <td>0.102431</td>\n",
       "      <td>0.098958</td>\n",
       "      <td>0.101563</td>\n",
       "      <td>0.064508</td>\n",
       "      <td>22924800</td>\n",
       "    </tr>\n",
       "    <tr>\n",
       "      <th>27</th>\n",
       "      <td>1986-04-22</td>\n",
       "      <td>0.101563</td>\n",
       "      <td>0.101563</td>\n",
       "      <td>0.099826</td>\n",
       "      <td>0.099826</td>\n",
       "      <td>0.063405</td>\n",
       "      <td>15552000</td>\n",
       "    </tr>\n",
       "    <tr>\n",
       "      <th>28</th>\n",
       "      <td>1986-04-23</td>\n",
       "      <td>0.099826</td>\n",
       "      <td>0.100694</td>\n",
       "      <td>0.098958</td>\n",
       "      <td>0.100260</td>\n",
       "      <td>0.063680</td>\n",
       "      <td>15609600</td>\n",
       "    </tr>\n",
       "    <tr>\n",
       "      <th>29</th>\n",
       "      <td>1986-04-24</td>\n",
       "      <td>0.100260</td>\n",
       "      <td>0.111979</td>\n",
       "      <td>0.099826</td>\n",
       "      <td>0.110243</td>\n",
       "      <td>0.070021</td>\n",
       "      <td>62352000</td>\n",
       "    </tr>\n",
       "    <tr>\n",
       "      <th>...</th>\n",
       "      <td>...</td>\n",
       "      <td>...</td>\n",
       "      <td>...</td>\n",
       "      <td>...</td>\n",
       "      <td>...</td>\n",
       "      <td>...</td>\n",
       "      <td>...</td>\n",
       "    </tr>\n",
       "    <tr>\n",
       "      <th>8827</th>\n",
       "      <td>2021-03-22</td>\n",
       "      <td>230.270004</td>\n",
       "      <td>236.899994</td>\n",
       "      <td>230.139999</td>\n",
       "      <td>235.990005</td>\n",
       "      <td>235.990005</td>\n",
       "      <td>30127000</td>\n",
       "    </tr>\n",
       "    <tr>\n",
       "      <th>8828</th>\n",
       "      <td>2021-03-23</td>\n",
       "      <td>237.490005</td>\n",
       "      <td>241.050003</td>\n",
       "      <td>237.070007</td>\n",
       "      <td>237.580002</td>\n",
       "      <td>237.580002</td>\n",
       "      <td>31638400</td>\n",
       "    </tr>\n",
       "    <tr>\n",
       "      <th>8829</th>\n",
       "      <td>2021-03-24</td>\n",
       "      <td>237.850006</td>\n",
       "      <td>238.000000</td>\n",
       "      <td>235.320007</td>\n",
       "      <td>235.460007</td>\n",
       "      <td>235.460007</td>\n",
       "      <td>25620100</td>\n",
       "    </tr>\n",
       "    <tr>\n",
       "      <th>8830</th>\n",
       "      <td>2021-03-25</td>\n",
       "      <td>235.300003</td>\n",
       "      <td>236.940002</td>\n",
       "      <td>231.570007</td>\n",
       "      <td>232.339996</td>\n",
       "      <td>232.339996</td>\n",
       "      <td>34061900</td>\n",
       "    </tr>\n",
       "    <tr>\n",
       "      <th>8831</th>\n",
       "      <td>2021-03-26</td>\n",
       "      <td>231.550003</td>\n",
       "      <td>236.710007</td>\n",
       "      <td>231.550003</td>\n",
       "      <td>236.479996</td>\n",
       "      <td>236.479996</td>\n",
       "      <td>25479900</td>\n",
       "    </tr>\n",
       "    <tr>\n",
       "      <th>8832</th>\n",
       "      <td>2021-03-29</td>\n",
       "      <td>236.589996</td>\n",
       "      <td>236.800003</td>\n",
       "      <td>231.880005</td>\n",
       "      <td>235.240005</td>\n",
       "      <td>235.240005</td>\n",
       "      <td>25227500</td>\n",
       "    </tr>\n",
       "    <tr>\n",
       "      <th>8833</th>\n",
       "      <td>2021-03-30</td>\n",
       "      <td>233.529999</td>\n",
       "      <td>233.850006</td>\n",
       "      <td>231.100006</td>\n",
       "      <td>231.850006</td>\n",
       "      <td>231.850006</td>\n",
       "      <td>24792000</td>\n",
       "    </tr>\n",
       "    <tr>\n",
       "      <th>8834</th>\n",
       "      <td>2021-03-31</td>\n",
       "      <td>232.910004</td>\n",
       "      <td>239.100006</td>\n",
       "      <td>232.389999</td>\n",
       "      <td>235.770004</td>\n",
       "      <td>235.770004</td>\n",
       "      <td>43623500</td>\n",
       "    </tr>\n",
       "    <tr>\n",
       "      <th>8835</th>\n",
       "      <td>2021-04-01</td>\n",
       "      <td>238.470001</td>\n",
       "      <td>242.839996</td>\n",
       "      <td>238.050003</td>\n",
       "      <td>242.350006</td>\n",
       "      <td>242.350006</td>\n",
       "      <td>30338000</td>\n",
       "    </tr>\n",
       "    <tr>\n",
       "      <th>8836</th>\n",
       "      <td>2021-04-05</td>\n",
       "      <td>242.759995</td>\n",
       "      <td>249.960007</td>\n",
       "      <td>242.699997</td>\n",
       "      <td>249.070007</td>\n",
       "      <td>249.070007</td>\n",
       "      <td>36910600</td>\n",
       "    </tr>\n",
       "    <tr>\n",
       "      <th>8837</th>\n",
       "      <td>2021-04-06</td>\n",
       "      <td>247.610001</td>\n",
       "      <td>249.399994</td>\n",
       "      <td>246.880005</td>\n",
       "      <td>247.860001</td>\n",
       "      <td>247.860001</td>\n",
       "      <td>22931900</td>\n",
       "    </tr>\n",
       "    <tr>\n",
       "      <th>8838</th>\n",
       "      <td>2021-04-07</td>\n",
       "      <td>247.809998</td>\n",
       "      <td>250.929993</td>\n",
       "      <td>247.190002</td>\n",
       "      <td>249.899994</td>\n",
       "      <td>249.899994</td>\n",
       "      <td>22719800</td>\n",
       "    </tr>\n",
       "    <tr>\n",
       "      <th>8839</th>\n",
       "      <td>2021-04-08</td>\n",
       "      <td>252.770004</td>\n",
       "      <td>254.139999</td>\n",
       "      <td>252.000000</td>\n",
       "      <td>253.250000</td>\n",
       "      <td>253.250000</td>\n",
       "      <td>23625200</td>\n",
       "    </tr>\n",
       "    <tr>\n",
       "      <th>8840</th>\n",
       "      <td>2021-04-09</td>\n",
       "      <td>252.869995</td>\n",
       "      <td>255.990005</td>\n",
       "      <td>252.440002</td>\n",
       "      <td>255.850006</td>\n",
       "      <td>255.850006</td>\n",
       "      <td>24326800</td>\n",
       "    </tr>\n",
       "    <tr>\n",
       "      <th>8841</th>\n",
       "      <td>2021-04-12</td>\n",
       "      <td>254.710007</td>\n",
       "      <td>257.670013</td>\n",
       "      <td>254.619995</td>\n",
       "      <td>255.910004</td>\n",
       "      <td>255.910004</td>\n",
       "      <td>27148700</td>\n",
       "    </tr>\n",
       "    <tr>\n",
       "      <th>8842</th>\n",
       "      <td>2021-04-13</td>\n",
       "      <td>257.260010</td>\n",
       "      <td>259.190002</td>\n",
       "      <td>256.829987</td>\n",
       "      <td>258.489990</td>\n",
       "      <td>258.489990</td>\n",
       "      <td>23837500</td>\n",
       "    </tr>\n",
       "    <tr>\n",
       "      <th>8843</th>\n",
       "      <td>2021-04-14</td>\n",
       "      <td>257.480011</td>\n",
       "      <td>258.829987</td>\n",
       "      <td>255.160004</td>\n",
       "      <td>255.589996</td>\n",
       "      <td>255.589996</td>\n",
       "      <td>23070900</td>\n",
       "    </tr>\n",
       "    <tr>\n",
       "      <th>8844</th>\n",
       "      <td>2021-04-15</td>\n",
       "      <td>257.929993</td>\n",
       "      <td>259.929993</td>\n",
       "      <td>257.730011</td>\n",
       "      <td>259.500000</td>\n",
       "      <td>259.500000</td>\n",
       "      <td>25627500</td>\n",
       "    </tr>\n",
       "    <tr>\n",
       "      <th>8845</th>\n",
       "      <td>2021-04-16</td>\n",
       "      <td>259.470001</td>\n",
       "      <td>261.000000</td>\n",
       "      <td>257.600006</td>\n",
       "      <td>260.739990</td>\n",
       "      <td>260.739990</td>\n",
       "      <td>24878600</td>\n",
       "    </tr>\n",
       "    <tr>\n",
       "      <th>8846</th>\n",
       "      <td>2021-04-19</td>\n",
       "      <td>260.190002</td>\n",
       "      <td>261.480011</td>\n",
       "      <td>257.820007</td>\n",
       "      <td>258.739990</td>\n",
       "      <td>258.739990</td>\n",
       "      <td>23209300</td>\n",
       "    </tr>\n",
       "    <tr>\n",
       "      <th>8847</th>\n",
       "      <td>2021-04-20</td>\n",
       "      <td>257.820007</td>\n",
       "      <td>260.200012</td>\n",
       "      <td>256.839996</td>\n",
       "      <td>258.260010</td>\n",
       "      <td>258.260010</td>\n",
       "      <td>19722900</td>\n",
       "    </tr>\n",
       "    <tr>\n",
       "      <th>8848</th>\n",
       "      <td>2021-04-21</td>\n",
       "      <td>258.940002</td>\n",
       "      <td>260.679993</td>\n",
       "      <td>257.250000</td>\n",
       "      <td>260.579987</td>\n",
       "      <td>260.579987</td>\n",
       "      <td>24030400</td>\n",
       "    </tr>\n",
       "    <tr>\n",
       "      <th>8849</th>\n",
       "      <td>2021-04-22</td>\n",
       "      <td>260.209991</td>\n",
       "      <td>261.779999</td>\n",
       "      <td>255.639999</td>\n",
       "      <td>257.170013</td>\n",
       "      <td>257.170013</td>\n",
       "      <td>25606200</td>\n",
       "    </tr>\n",
       "    <tr>\n",
       "      <th>8850</th>\n",
       "      <td>2021-04-23</td>\n",
       "      <td>257.880005</td>\n",
       "      <td>261.510010</td>\n",
       "      <td>257.269989</td>\n",
       "      <td>261.149994</td>\n",
       "      <td>261.149994</td>\n",
       "      <td>21462600</td>\n",
       "    </tr>\n",
       "    <tr>\n",
       "      <th>8851</th>\n",
       "      <td>2021-04-26</td>\n",
       "      <td>261.660004</td>\n",
       "      <td>262.440002</td>\n",
       "      <td>260.170013</td>\n",
       "      <td>261.549988</td>\n",
       "      <td>261.549988</td>\n",
       "      <td>19763300</td>\n",
       "    </tr>\n",
       "    <tr>\n",
       "      <th>8852</th>\n",
       "      <td>2021-04-27</td>\n",
       "      <td>261.579987</td>\n",
       "      <td>263.190002</td>\n",
       "      <td>260.119995</td>\n",
       "      <td>261.970001</td>\n",
       "      <td>261.970001</td>\n",
       "      <td>31014200</td>\n",
       "    </tr>\n",
       "    <tr>\n",
       "      <th>8853</th>\n",
       "      <td>2021-04-28</td>\n",
       "      <td>256.079987</td>\n",
       "      <td>256.540009</td>\n",
       "      <td>252.949997</td>\n",
       "      <td>254.559998</td>\n",
       "      <td>254.559998</td>\n",
       "      <td>46903100</td>\n",
       "    </tr>\n",
       "    <tr>\n",
       "      <th>8854</th>\n",
       "      <td>2021-04-29</td>\n",
       "      <td>255.460007</td>\n",
       "      <td>256.100006</td>\n",
       "      <td>249.000000</td>\n",
       "      <td>252.509995</td>\n",
       "      <td>252.509995</td>\n",
       "      <td>40589000</td>\n",
       "    </tr>\n",
       "    <tr>\n",
       "      <th>8855</th>\n",
       "      <td>2021-04-30</td>\n",
       "      <td>249.740005</td>\n",
       "      <td>253.080002</td>\n",
       "      <td>249.600006</td>\n",
       "      <td>252.179993</td>\n",
       "      <td>252.179993</td>\n",
       "      <td>30929200</td>\n",
       "    </tr>\n",
       "    <tr>\n",
       "      <th>8856</th>\n",
       "      <td>2021-05-03</td>\n",
       "      <td>253.399994</td>\n",
       "      <td>254.350006</td>\n",
       "      <td>251.119995</td>\n",
       "      <td>251.860001</td>\n",
       "      <td>251.860001</td>\n",
       "      <td>19598900</td>\n",
       "    </tr>\n",
       "  </tbody>\n",
       "</table>\n",
       "<p>8857 rows × 7 columns</p>\n",
       "</div>"
      ],
      "text/plain": [
       "           DATE        OPEN        HIGH         LOW       CLOSE   ADJ CLOSE  \\\n",
       "0    1986-03-13    0.088542    0.101563    0.088542    0.097222    0.061751   \n",
       "1    1986-03-14    0.097222    0.102431    0.097222    0.100694    0.063956   \n",
       "2    1986-03-17    0.100694    0.103299    0.100694    0.102431    0.065059   \n",
       "3    1986-03-18    0.102431    0.103299    0.098958    0.099826    0.063405   \n",
       "4    1986-03-19    0.099826    0.100694    0.097222    0.098090    0.062302   \n",
       "5    1986-03-20    0.098090    0.098090    0.094618    0.095486    0.060648   \n",
       "6    1986-03-21    0.095486    0.097222    0.091146    0.092882    0.058994   \n",
       "7    1986-03-24    0.092882    0.092882    0.089410    0.090278    0.057340   \n",
       "8    1986-03-25    0.090278    0.092014    0.089410    0.092014    0.058443   \n",
       "9    1986-03-26    0.092014    0.095486    0.091146    0.094618    0.060097   \n",
       "10   1986-03-27    0.094618    0.096354    0.094618    0.096354    0.061199   \n",
       "11   1986-03-31    0.096354    0.096354    0.093750    0.095486    0.060648   \n",
       "12   1986-04-01    0.095486    0.095486    0.094618    0.094618    0.060097   \n",
       "13   1986-04-02    0.094618    0.097222    0.094618    0.095486    0.060648   \n",
       "14   1986-04-03    0.096354    0.098958    0.096354    0.096354    0.061199   \n",
       "15   1986-04-04    0.096354    0.097222    0.096354    0.096354    0.061199   \n",
       "16   1986-04-07    0.096354    0.097222    0.092882    0.094618    0.060097   \n",
       "17   1986-04-08    0.094618    0.097222    0.094618    0.095486    0.060648   \n",
       "18   1986-04-09    0.095486    0.098090    0.095486    0.097222    0.061751   \n",
       "19   1986-04-10    0.097222    0.098958    0.095486    0.098090    0.062302   \n",
       "20   1986-04-11    0.098958    0.101563    0.098958    0.099826    0.063405   \n",
       "21   1986-04-14    0.099826    0.101563    0.099826    0.100694    0.063956   \n",
       "22   1986-04-15    0.100694    0.100694    0.097222    0.100694    0.063956   \n",
       "23   1986-04-16    0.100694    0.105035    0.099826    0.104167    0.066162   \n",
       "24   1986-04-17    0.104167    0.105035    0.104167    0.105035    0.066713   \n",
       "25   1986-04-18    0.105035    0.105035    0.100694    0.101563    0.064508   \n",
       "26   1986-04-21    0.101563    0.102431    0.098958    0.101563    0.064508   \n",
       "27   1986-04-22    0.101563    0.101563    0.099826    0.099826    0.063405   \n",
       "28   1986-04-23    0.099826    0.100694    0.098958    0.100260    0.063680   \n",
       "29   1986-04-24    0.100260    0.111979    0.099826    0.110243    0.070021   \n",
       "...         ...         ...         ...         ...         ...         ...   \n",
       "8827 2021-03-22  230.270004  236.899994  230.139999  235.990005  235.990005   \n",
       "8828 2021-03-23  237.490005  241.050003  237.070007  237.580002  237.580002   \n",
       "8829 2021-03-24  237.850006  238.000000  235.320007  235.460007  235.460007   \n",
       "8830 2021-03-25  235.300003  236.940002  231.570007  232.339996  232.339996   \n",
       "8831 2021-03-26  231.550003  236.710007  231.550003  236.479996  236.479996   \n",
       "8832 2021-03-29  236.589996  236.800003  231.880005  235.240005  235.240005   \n",
       "8833 2021-03-30  233.529999  233.850006  231.100006  231.850006  231.850006   \n",
       "8834 2021-03-31  232.910004  239.100006  232.389999  235.770004  235.770004   \n",
       "8835 2021-04-01  238.470001  242.839996  238.050003  242.350006  242.350006   \n",
       "8836 2021-04-05  242.759995  249.960007  242.699997  249.070007  249.070007   \n",
       "8837 2021-04-06  247.610001  249.399994  246.880005  247.860001  247.860001   \n",
       "8838 2021-04-07  247.809998  250.929993  247.190002  249.899994  249.899994   \n",
       "8839 2021-04-08  252.770004  254.139999  252.000000  253.250000  253.250000   \n",
       "8840 2021-04-09  252.869995  255.990005  252.440002  255.850006  255.850006   \n",
       "8841 2021-04-12  254.710007  257.670013  254.619995  255.910004  255.910004   \n",
       "8842 2021-04-13  257.260010  259.190002  256.829987  258.489990  258.489990   \n",
       "8843 2021-04-14  257.480011  258.829987  255.160004  255.589996  255.589996   \n",
       "8844 2021-04-15  257.929993  259.929993  257.730011  259.500000  259.500000   \n",
       "8845 2021-04-16  259.470001  261.000000  257.600006  260.739990  260.739990   \n",
       "8846 2021-04-19  260.190002  261.480011  257.820007  258.739990  258.739990   \n",
       "8847 2021-04-20  257.820007  260.200012  256.839996  258.260010  258.260010   \n",
       "8848 2021-04-21  258.940002  260.679993  257.250000  260.579987  260.579987   \n",
       "8849 2021-04-22  260.209991  261.779999  255.639999  257.170013  257.170013   \n",
       "8850 2021-04-23  257.880005  261.510010  257.269989  261.149994  261.149994   \n",
       "8851 2021-04-26  261.660004  262.440002  260.170013  261.549988  261.549988   \n",
       "8852 2021-04-27  261.579987  263.190002  260.119995  261.970001  261.970001   \n",
       "8853 2021-04-28  256.079987  256.540009  252.949997  254.559998  254.559998   \n",
       "8854 2021-04-29  255.460007  256.100006  249.000000  252.509995  252.509995   \n",
       "8855 2021-04-30  249.740005  253.080002  249.600006  252.179993  252.179993   \n",
       "8856 2021-05-03  253.399994  254.350006  251.119995  251.860001  251.860001   \n",
       "\n",
       "          VOLUME  \n",
       "0     1031788800  \n",
       "1      308160000  \n",
       "2      133171200  \n",
       "3       67766400  \n",
       "4       47894400  \n",
       "5       58435200  \n",
       "6       59990400  \n",
       "7       65289600  \n",
       "8       32083200  \n",
       "9       22752000  \n",
       "10      16848000  \n",
       "11      12873600  \n",
       "12      11088000  \n",
       "13      27014400  \n",
       "14      23040000  \n",
       "15      26582400  \n",
       "16      16560000  \n",
       "17      10252800  \n",
       "18      12153600  \n",
       "19      13881600  \n",
       "20      17222400  \n",
       "21      12153600  \n",
       "22       9302400  \n",
       "23      31910400  \n",
       "24      22003200  \n",
       "25      21628800  \n",
       "26      22924800  \n",
       "27      15552000  \n",
       "28      15609600  \n",
       "29      62352000  \n",
       "...          ...  \n",
       "8827    30127000  \n",
       "8828    31638400  \n",
       "8829    25620100  \n",
       "8830    34061900  \n",
       "8831    25479900  \n",
       "8832    25227500  \n",
       "8833    24792000  \n",
       "8834    43623500  \n",
       "8835    30338000  \n",
       "8836    36910600  \n",
       "8837    22931900  \n",
       "8838    22719800  \n",
       "8839    23625200  \n",
       "8840    24326800  \n",
       "8841    27148700  \n",
       "8842    23837500  \n",
       "8843    23070900  \n",
       "8844    25627500  \n",
       "8845    24878600  \n",
       "8846    23209300  \n",
       "8847    19722900  \n",
       "8848    24030400  \n",
       "8849    25606200  \n",
       "8850    21462600  \n",
       "8851    19763300  \n",
       "8852    31014200  \n",
       "8853    46903100  \n",
       "8854    40589000  \n",
       "8855    30929200  \n",
       "8856    19598900  \n",
       "\n",
       "[8857 rows x 7 columns]"
      ]
     },
     "execution_count": 59,
     "metadata": {},
     "output_type": "execute_result"
    }
   ],
   "source": [
    "d2 = df2.copy()\n",
    "d2"
   ]
  },
  {
   "cell_type": "code",
   "execution_count": 60,
   "metadata": {
    "id": "dTaQ9g0RSW_P"
   },
   "outputs": [],
   "source": [
    "d2 = d2.set_index('DATE')"
   ]
  },
  {
   "cell_type": "code",
   "execution_count": 61,
   "metadata": {
    "id": "n3qoL67LShlF"
   },
   "outputs": [],
   "source": [
    "feat = d2.columns"
   ]
  },
  {
   "cell_type": "code",
   "execution_count": 62,
   "metadata": {
    "colab": {
     "base_uri": "https://localhost:8080/"
    },
    "id": "5Pfm4hI7St4J",
    "outputId": "c0300137-5859-4783-aa2d-5fbfd6782bda"
   },
   "outputs": [
    {
     "data": {
      "text/plain": [
       "[(0, 'OPEN'),\n",
       " (1, 'HIGH'),\n",
       " (2, 'LOW'),\n",
       " (3, 'CLOSE'),\n",
       " (4, 'ADJ CLOSE'),\n",
       " (5, 'VOLUME')]"
      ]
     },
     "execution_count": 62,
     "metadata": {},
     "output_type": "execute_result"
    }
   ],
   "source": [
    "list(enumerate(feat))"
   ]
  },
  {
   "cell_type": "code",
   "execution_count": 63,
   "metadata": {
    "colab": {
     "base_uri": "https://localhost:8080/",
     "height": 1000
    },
    "id": "_rvS3m4ySLW3",
    "outputId": "a5c107c9-4b43-4df0-aec2-e0e78f91bde7"
   },
   "outputs": [
    {
     "ename": "TypeError",
     "evalue": "distplot() got an unexpected keyword argument 'x'",
     "output_type": "error",
     "traceback": [
      "\u001b[1;31m---------------------------------------------------------------------------\u001b[0m",
      "\u001b[1;31mTypeError\u001b[0m                                 Traceback (most recent call last)",
      "\u001b[1;32m<ipython-input-63-ac140c1b9d5c>\u001b[0m in \u001b[0;36m<module>\u001b[1;34m\u001b[0m\n\u001b[0;32m      3\u001b[0m     \u001b[0mplt\u001b[0m\u001b[1;33m.\u001b[0m\u001b[0msubplot\u001b[0m\u001b[1;33m(\u001b[0m\u001b[1;36m3\u001b[0m\u001b[1;33m,\u001b[0m\u001b[1;36m2\u001b[0m\u001b[1;33m,\u001b[0m\u001b[0mi\u001b[0m\u001b[1;33m[\u001b[0m\u001b[1;36m0\u001b[0m\u001b[1;33m]\u001b[0m\u001b[1;33m+\u001b[0m\u001b[1;36m1\u001b[0m\u001b[1;33m)\u001b[0m\u001b[1;33m\u001b[0m\u001b[1;33m\u001b[0m\u001b[0m\n\u001b[0;32m      4\u001b[0m     \u001b[0mbase_color\u001b[0m \u001b[1;33m=\u001b[0m \u001b[0msns\u001b[0m\u001b[1;33m.\u001b[0m\u001b[0mcolor_palette\u001b[0m\u001b[1;33m(\u001b[0m\u001b[1;33m)\u001b[0m\u001b[1;33m[\u001b[0m\u001b[0mi\u001b[0m\u001b[1;33m[\u001b[0m\u001b[1;36m0\u001b[0m\u001b[1;33m]\u001b[0m\u001b[1;33m]\u001b[0m\u001b[1;33m\u001b[0m\u001b[1;33m\u001b[0m\u001b[0m\n\u001b[1;32m----> 5\u001b[1;33m     \u001b[0msns\u001b[0m\u001b[1;33m.\u001b[0m\u001b[0mdistplot\u001b[0m\u001b[1;33m(\u001b[0m\u001b[0mx\u001b[0m \u001b[1;33m=\u001b[0m \u001b[0md2\u001b[0m\u001b[1;33m[\u001b[0m\u001b[0mi\u001b[0m\u001b[1;33m[\u001b[0m\u001b[1;36m1\u001b[0m\u001b[1;33m]\u001b[0m\u001b[1;33m]\u001b[0m \u001b[1;33m,\u001b[0m \u001b[0mcolor\u001b[0m \u001b[1;33m=\u001b[0m \u001b[0mbase_color\u001b[0m\u001b[1;33m)\u001b[0m\u001b[1;33m\u001b[0m\u001b[1;33m\u001b[0m\u001b[0m\n\u001b[0m\u001b[0;32m      6\u001b[0m     \u001b[0mplt\u001b[0m\u001b[1;33m.\u001b[0m\u001b[0mxlabel\u001b[0m\u001b[1;33m(\u001b[0m\u001b[0mi\u001b[0m\u001b[1;33m[\u001b[0m\u001b[1;36m1\u001b[0m\u001b[1;33m]\u001b[0m\u001b[1;33m)\u001b[0m\u001b[1;33m;\u001b[0m\u001b[1;33m\u001b[0m\u001b[1;33m\u001b[0m\u001b[0m\n\u001b[0;32m      7\u001b[0m     \u001b[0mplt\u001b[0m\u001b[1;33m.\u001b[0m\u001b[0mtitle\u001b[0m\u001b[1;33m(\u001b[0m\u001b[1;34mf'Distribution plot of {i[1]}'\u001b[0m\u001b[1;33m)\u001b[0m\u001b[1;33m\u001b[0m\u001b[1;33m\u001b[0m\u001b[0m\n",
      "\u001b[1;31mTypeError\u001b[0m: distplot() got an unexpected keyword argument 'x'"
     ]
    },
    {
     "data": {
      "image/png": "[encoded data removed]",
      "text/plain": [
       "<Figure size 1080x1080 with 1 Axes>"
      ]
     },
     "metadata": {
      "needs_background": "light"
     },
     "output_type": "display_data"
    }
   ],
   "source": [
    "plt.figure(figsize=(15,15))         #creating distribution plots of various attributes\n",
    "for i in enumerate(feat):\n",
    "    plt.subplot(3,2,i[0]+1)\n",
    "    base_color = sns.color_palette()[i[0]]\n",
    "    sns.distplot(x = d2[i[1]] , color = base_color)\n",
    "    plt.xlabel(i[1]);\n",
    "    plt.title(f'Distribution plot of {i[1]}')"
   ]
  },
  {
   "cell_type": "code",
   "execution_count": 64,
   "metadata": {
    "colab": {
     "base_uri": "https://localhost:8080/",
     "height": 631
    },
    "id": "I34yRMdN3r9F",
    "outputId": "d382cabb-29e7-4c78-a628-47c178908d34"
   },
   "outputs": [],
   "source": [
    "#plt.figure(figsize=(15,10))    #plot of line plot btwn Date and various other attributes\n",
    "#d2 = d2.set_index('DATE')\n",
    "#sns.lineplot(data = d2)"
   ]
  },
  {
   "cell_type": "code",
   "execution_count": 65,
   "metadata": {
    "colab": {
     "base_uri": "https://localhost:8080/",
     "height": 1000
    },
    "id": "RwxQhpaaTygA",
    "outputId": "93e0e9e5-4c38-4b3b-e783-bf6f682a605f"
   },
   "outputs": [
    {
     "data": {
      "text/plain": [
       "<seaborn.axisgrid.PairGrid at 0x285276a7b70>"
      ]
     },
     "execution_count": 65,
     "metadata": {},
     "output_type": "execute_result"
    },
    {
     "data": {
      "image/png": "[encoded data removed]",
      "text/plain": [
       "<Figure size 1080x1080 with 42 Axes>"
      ]
     },
     "metadata": {
      "needs_background": "light"
     },
     "output_type": "display_data"
    }
   ],
   "source": [
    "sns.pairplot(data = d2)      #Plots b/w various attributes"
   ]
  },
  {
   "cell_type": "code",
   "execution_count": 66,
   "metadata": {
    "colab": {
     "base_uri": "https://localhost:8080/",
     "height": 606
    },
    "id": "GOnGmbGRUls9",
    "outputId": "34b7c8fe-f6ac-4f6b-b1b8-f0829a912d0c"
   },
   "outputs": [
    {
     "data": {
      "image/png": "[encoded data removed]",
      "text/plain": [
       "<Figure size 1080x720 with 6 Axes>"
      ]
     },
     "metadata": {
      "needs_background": "light"
     },
     "output_type": "display_data"
    }
   ],
   "source": [
    "plt.figure(figsize=(15,10))         #creating Box plots of various attributes\n",
    "for i in enumerate(feat):\n",
    "    plt.subplot(3,2,i[0]+1)\n",
    "    base_color = sns.color_palette()[i[0]]\n",
    "    sns.boxplot(x = d2[i[1]] , color = base_color)\n",
    "    plt.xlabel(i[1]);"
   ]
  },
  {
   "cell_type": "code",
   "execution_count": 67,
   "metadata": {
    "colab": {
     "base_uri": "https://localhost:8080/",
     "height": 606
    },
    "id": "wZTUBeCyU-Kv",
    "outputId": "f4d3d23b-b683-4579-a478-54f1a3302ae3"
   },
   "outputs": [
    {
     "data": {
      "image/png": "[encoded data removed]",
      "text/plain": [
       "<Figure size 1080x720 with 6 Axes>"
      ]
     },
     "metadata": {
      "needs_background": "light"
     },
     "output_type": "display_data"
    }
   ],
   "source": [
    "plt.figure(figsize=(15,10))         #creating Violin plots of various attributes\n",
    "for i in enumerate(feat):\n",
    "    plt.subplot(3,2,i[0]+1)\n",
    "    base_color = sns.color_palette()[i[0]]\n",
    "    sns.violinplot(x = d2[i[1]] , color = base_color)\n",
    "    plt.xlabel(i[1]);"
   ]
  },
  {
   "cell_type": "code",
   "execution_count": 68,
   "metadata": {
    "colab": {
     "base_uri": "https://localhost:8080/",
     "height": 329
    },
    "id": "R9Eo9fU83r9I",
    "outputId": "a28a7d16-e7fd-47ac-acfc-725fecfd910b"
   },
   "outputs": [
    {
     "data": {
      "text/plain": [
       "<matplotlib.axes._subplots.AxesSubplot at 0x28529d07080>"
      ]
     },
     "execution_count": 68,
     "metadata": {},
     "output_type": "execute_result"
    },
    {
     "data": {
      "image/png": "[encoded data removed]",
      "text/plain": [
       "<Figure size 432x288 with 2 Axes>"
      ]
     },
     "metadata": {
      "needs_background": "light"
     },
     "output_type": "display_data"
    }
   ],
   "source": [
    "sns.heatmap(d2.corr() , vmin = -1 , vmax = 1 , annot = True , cmap = 'Paired_r') \n",
    "#heat map to determine correlation"
   ]
  },
  {
   "cell_type": "markdown",
   "metadata": {
    "id": "CwfuYYiv3r9J"
   },
   "source": [
    "# AS SEEN THE PRESENCE OF OUTLIERS IN MSFT, SO SUPRESSING THEIR EFFECT"
   ]
  },
  {
   "cell_type": "code",
   "execution_count": 69,
   "metadata": {},
   "outputs": [
    {
     "data": {
      "text/plain": [
       "32.88624954223633"
      ]
     },
     "execution_count": 69,
     "metadata": {},
     "output_type": "execute_result"
    }
   ],
   "source": [
    "iqr1 = d2['OPEN'].quantile(0.75) - d2['OPEN'].quantile(0.25) \n",
    "iqr1"
   ]
  },
  {
   "cell_type": "code",
   "execution_count": 70,
   "metadata": {},
   "outputs": [
    {
     "name": "stdout",
     "output_type": "stream",
     "text": [
      "86.05937385559082\n",
      "-45.48562431335449\n"
     ]
    }
   ],
   "source": [
    "upper_whisker = d2['OPEN'].quantile(0.75)+(iqr1*1.5)\n",
    "lower_whisker = d2['OPEN'].quantile(0.25)-(iqr1*1.5)\n",
    "print(upper_whisker)\n",
    "print(lower_whisker)"
   ]
  },
  {
   "cell_type": "code",
   "execution_count": 71,
   "metadata": {},
   "outputs": [
    {
     "data": {
      "text/plain": [
       "32.80843687057495"
      ]
     },
     "execution_count": 71,
     "metadata": {},
     "output_type": "execute_result"
    }
   ],
   "source": [
    "iqr2 = d2['CLOSE'].quantile(0.75) - d2['CLOSE'].quantile(0.25) \n",
    "iqr2"
   ]
  },
  {
   "cell_type": "code",
   "execution_count": 72,
   "metadata": {},
   "outputs": [
    {
     "name": "stdout",
     "output_type": "stream",
     "text": [
      "85.87265515327454\n",
      "-45.36109232902527\n"
     ]
    }
   ],
   "source": [
    "upper_whisker = d2['CLOSE'].quantile(0.75)+(iqr2*1.5)\n",
    "lower_whisker = d2['CLOSE'].quantile(0.25)-(iqr2*1.5)\n",
    "print(upper_whisker)\n",
    "print(lower_whisker)"
   ]
  },
  {
   "cell_type": "code",
   "execution_count": 73,
   "metadata": {},
   "outputs": [
    {
     "data": {
      "text/plain": [
       "33.125"
      ]
     },
     "execution_count": 73,
     "metadata": {},
     "output_type": "execute_result"
    }
   ],
   "source": [
    "iqr3 = d2['HIGH'].quantile(0.75) - d2['HIGH'].quantile(0.25) \n",
    "iqr3"
   ]
  },
  {
   "cell_type": "code",
   "execution_count": 74,
   "metadata": {},
   "outputs": [
    {
     "name": "stdout",
     "output_type": "stream",
     "text": [
      "86.6875\n",
      "-45.8125\n"
     ]
    }
   ],
   "source": [
    "upper_whisker = d2['HIGH'].quantile(0.75)+(iqr3*1.5)\n",
    "lower_whisker = d2['HIGH'].quantile(0.25)-(iqr3*1.5)\n",
    "print(upper_whisker)\n",
    "print(lower_whisker)"
   ]
  },
  {
   "cell_type": "code",
   "execution_count": 75,
   "metadata": {},
   "outputs": [
    {
     "data": {
      "text/plain": [
       "32.29750061035156"
      ]
     },
     "execution_count": 75,
     "metadata": {},
     "output_type": "execute_result"
    }
   ],
   "source": [
    "iqr4 = d2['LOW'].quantile(0.75) - d2['LOW'].quantile(0.25) \n",
    "iqr4"
   ]
  },
  {
   "cell_type": "code",
   "execution_count": 76,
   "metadata": {},
   "outputs": [
    {
     "name": "stdout",
     "output_type": "stream",
     "text": [
      "84.5562515258789\n",
      "-44.633750915527344\n"
     ]
    }
   ],
   "source": [
    "upper_whisker = d2['LOW'].quantile(0.75)+(iqr4*1.5)\n",
    "lower_whisker = d2['LOW'].quantile(0.25)-(iqr4*1.5)\n",
    "print(upper_whisker)\n",
    "print(lower_whisker)"
   ]
  },
  {
   "cell_type": "code",
   "execution_count": 77,
   "metadata": {},
   "outputs": [
    {
     "data": {
      "text/plain": [
       "24.771977186203003"
      ]
     },
     "execution_count": 77,
     "metadata": {},
     "output_type": "execute_result"
    }
   ],
   "source": [
    "iqr5 = d2['ADJ CLOSE'].quantile(0.75) - d2['ADJ CLOSE'].quantile(0.25) \n",
    "iqr5"
   ]
  },
  {
   "cell_type": "code",
   "execution_count": 78,
   "metadata": {},
   "outputs": [
    {
     "name": "stdout",
     "output_type": "stream",
     "text": [
      "64.37626564502716\n",
      "-34.71164309978485\n"
     ]
    }
   ],
   "source": [
    "upper_whisker = d2['ADJ CLOSE'].quantile(0.75)+(iqr5*1.5)\n",
    "lower_whisker = d2['ADJ CLOSE'].quantile(0.25)-(iqr5*1.5)\n",
    "print(upper_whisker)\n",
    "print(lower_whisker)"
   ]
  },
  {
   "cell_type": "code",
   "execution_count": 79,
   "metadata": {},
   "outputs": [
    {
     "data": {
      "text/plain": [
       "37798000.0"
      ]
     },
     "execution_count": 79,
     "metadata": {},
     "output_type": "execute_result"
    }
   ],
   "source": [
    "iqr6 = d2['VOLUME'].quantile(0.75) - d2['VOLUME'].quantile(0.25) \n",
    "iqr6"
   ]
  },
  {
   "cell_type": "code",
   "execution_count": 80,
   "metadata": {},
   "outputs": [
    {
     "name": "stdout",
     "output_type": "stream",
     "text": [
      "130092200.0\n",
      "-21099800.0\n"
     ]
    }
   ],
   "source": [
    "upper_whisker = d2['VOLUME'].quantile(0.75)+(iqr6*1.5)\n",
    "lower_whisker = d2['VOLUME'].quantile(0.25)-(iqr6*1.5)\n",
    "print(upper_whisker)\n",
    "print(lower_whisker)"
   ]
  },
  {
   "cell_type": "code",
   "execution_count": 81,
   "metadata": {},
   "outputs": [],
   "source": [
    "d2.loc[d2['OPEN'] >= 86.05937385559082 , 'OPEN'] = 86.05937385559082\n",
    "d2.loc[d2['CLOSE'] >= 85.87265515327454 , 'CLOSE'] = 85.87265515327454\n",
    "d2.loc[d2['HIGH'] >= 86.6875 , 'HIGH'] = 86.6875\n",
    "d2.loc[d2['LOW'] >= 84.5562515258789 , 'LOW'] = 84.5562515258789\n",
    "d2.loc[d2['ADJ CLOSE'] >= 64.37626564502716 , 'ADJ CLOSE'] = 64.37626564502716\n",
    "d2.loc[d2['VOLUME'] >= 130092200.0 , 'VOLUME'] = 130092200.0"
   ]
  },
  {
   "cell_type": "code",
   "execution_count": 82,
   "metadata": {},
   "outputs": [
    {
     "data": {
      "text/html": [
       "<div>\n",
       "<style scoped>\n",
       "    .dataframe tbody tr th:only-of-type {\n",
       "        vertical-align: middle;\n",
       "    }\n",
       "\n",
       "    .dataframe tbody tr th {\n",
       "        vertical-align: top;\n",
       "    }\n",
       "\n",
       "    .dataframe thead th {\n",
       "        text-align: right;\n",
       "    }\n",
       "</style>\n",
       "<table border=\"1\" class=\"dataframe\">\n",
       "  <thead>\n",
       "    <tr style=\"text-align: right;\">\n",
       "      <th></th>\n",
       "      <th>OPEN</th>\n",
       "      <th>HIGH</th>\n",
       "      <th>LOW</th>\n",
       "      <th>CLOSE</th>\n",
       "      <th>ADJ CLOSE</th>\n",
       "      <th>VOLUME</th>\n",
       "    </tr>\n",
       "  </thead>\n",
       "  <tbody>\n",
       "    <tr>\n",
       "      <th>count</th>\n",
       "      <td>8857.000000</td>\n",
       "      <td>8857.000000</td>\n",
       "      <td>8857.000000</td>\n",
       "      <td>8857.000000</td>\n",
       "      <td>8857.000000</td>\n",
       "      <td>8.857000e+03</td>\n",
       "    </tr>\n",
       "    <tr>\n",
       "      <th>mean</th>\n",
       "      <td>28.668768</td>\n",
       "      <td>28.957282</td>\n",
       "      <td>28.299462</td>\n",
       "      <td>28.656075</td>\n",
       "      <td>21.736316</td>\n",
       "      <td>5.753293e+07</td>\n",
       "    </tr>\n",
       "    <tr>\n",
       "      <th>std</th>\n",
       "      <td>25.343716</td>\n",
       "      <td>25.530864</td>\n",
       "      <td>24.964792</td>\n",
       "      <td>25.305929</td>\n",
       "      <td>20.154263</td>\n",
       "      <td>2.896535e+07</td>\n",
       "    </tr>\n",
       "    <tr>\n",
       "      <th>min</th>\n",
       "      <td>0.088542</td>\n",
       "      <td>0.092014</td>\n",
       "      <td>0.088542</td>\n",
       "      <td>0.090278</td>\n",
       "      <td>0.057340</td>\n",
       "      <td>2.304000e+06</td>\n",
       "    </tr>\n",
       "    <tr>\n",
       "      <th>25%</th>\n",
       "      <td>3.843750</td>\n",
       "      <td>3.875000</td>\n",
       "      <td>3.812500</td>\n",
       "      <td>3.851563</td>\n",
       "      <td>2.446323</td>\n",
       "      <td>3.559720e+07</td>\n",
       "    </tr>\n",
       "    <tr>\n",
       "      <th>50%</th>\n",
       "      <td>26.590000</td>\n",
       "      <td>26.879999</td>\n",
       "      <td>26.290001</td>\n",
       "      <td>26.590000</td>\n",
       "      <td>18.686628</td>\n",
       "      <td>5.269680e+07</td>\n",
       "    </tr>\n",
       "    <tr>\n",
       "      <th>75%</th>\n",
       "      <td>36.730000</td>\n",
       "      <td>37.000000</td>\n",
       "      <td>36.110001</td>\n",
       "      <td>36.660000</td>\n",
       "      <td>27.218300</td>\n",
       "      <td>7.339520e+07</td>\n",
       "    </tr>\n",
       "    <tr>\n",
       "      <th>max</th>\n",
       "      <td>86.059374</td>\n",
       "      <td>86.687500</td>\n",
       "      <td>84.556252</td>\n",
       "      <td>85.872655</td>\n",
       "      <td>64.376266</td>\n",
       "      <td>1.300922e+08</td>\n",
       "    </tr>\n",
       "  </tbody>\n",
       "</table>\n",
       "</div>"
      ],
      "text/plain": [
       "              OPEN         HIGH          LOW        CLOSE    ADJ CLOSE  \\\n",
       "count  8857.000000  8857.000000  8857.000000  8857.000000  8857.000000   \n",
       "mean     28.668768    28.957282    28.299462    28.656075    21.736316   \n",
       "std      25.343716    25.530864    24.964792    25.305929    20.154263   \n",
       "min       0.088542     0.092014     0.088542     0.090278     0.057340   \n",
       "25%       3.843750     3.875000     3.812500     3.851563     2.446323   \n",
       "50%      26.590000    26.879999    26.290001    26.590000    18.686628   \n",
       "75%      36.730000    37.000000    36.110001    36.660000    27.218300   \n",
       "max      86.059374    86.687500    84.556252    85.872655    64.376266   \n",
       "\n",
       "             VOLUME  \n",
       "count  8.857000e+03  \n",
       "mean   5.753293e+07  \n",
       "std    2.896535e+07  \n",
       "min    2.304000e+06  \n",
       "25%    3.559720e+07  \n",
       "50%    5.269680e+07  \n",
       "75%    7.339520e+07  \n",
       "max    1.300922e+08  "
      ]
     },
     "execution_count": 82,
     "metadata": {},
     "output_type": "execute_result"
    }
   ],
   "source": [
    "d2.describe()"
   ]
  },
  {
   "cell_type": "code",
   "execution_count": 83,
   "metadata": {},
   "outputs": [
    {
     "data": {
      "text/plain": [
       "[(0, 'OPEN'),\n",
       " (1, 'HIGH'),\n",
       " (2, 'LOW'),\n",
       " (3, 'CLOSE'),\n",
       " (4, 'ADJ CLOSE'),\n",
       " (5, 'VOLUME')]"
      ]
     },
     "execution_count": 83,
     "metadata": {},
     "output_type": "execute_result"
    }
   ],
   "source": [
    "l = ['OPEN' , 'HIGH' , 'LOW' , 'CLOSE' , 'ADJ CLOSE' , 'VOLUME']\n",
    "list(enumerate(l))"
   ]
  },
  {
   "cell_type": "code",
   "execution_count": 84,
   "metadata": {},
   "outputs": [
    {
     "data": {
      "image/png": "[encoded data removed]",
      "text/plain": [
       "<Figure size 1080x864 with 6 Axes>"
      ]
     },
     "metadata": {
      "needs_background": "light"
     },
     "output_type": "display_data"
    }
   ],
   "source": [
    "plt.figure(figsize=(15,12))#creating Box plots of various columns after removing outliers\n",
    "for i in enumerate(l):\n",
    "    plt.subplot(3,2,i[0]+1)\n",
    "    base_color = sns.color_palette()[i[0]]\n",
    "    sns.boxplot(x = d2[i[1]] , color = base_color)\n",
    "    plt.xlabel(i[1]);"
   ]
  },
  {
   "cell_type": "markdown",
   "metadata": {},
   "source": [
    "# seperating date of data_frame"
   ]
  },
  {
   "cell_type": "code",
   "execution_count": 85,
   "metadata": {},
   "outputs": [
    {
     "data": {
      "text/plain": [
       "Index(['TYPE', 'DATE', 'TIME', 'OPEN', 'HIGH', 'LOW', 'CLOSE'], dtype='object')"
      ]
     },
     "execution_count": 85,
     "metadata": {},
     "output_type": "execute_result"
    }
   ],
   "source": [
    "data.columns"
   ]
  },
  {
   "cell_type": "code",
   "execution_count": 86,
   "metadata": {},
   "outputs": [
    {
     "data": {
      "text/plain": [
       "NIFTY    22805\n",
       "Name: TYPE, dtype: int64"
      ]
     },
     "execution_count": 86,
     "metadata": {},
     "output_type": "execute_result"
    }
   ],
   "source": [
    "data['TYPE'].value_counts()"
   ]
  },
  {
   "cell_type": "code",
   "execution_count": 87,
   "metadata": {},
   "outputs": [],
   "source": [
    "data.drop(['TYPE'],axis=1,inplace=True)"
   ]
  },
  {
   "cell_type": "code",
   "execution_count": 88,
   "metadata": {},
   "outputs": [
    {
     "data": {
      "text/html": [
       "<div>\n",
       "<style scoped>\n",
       "    .dataframe tbody tr th:only-of-type {\n",
       "        vertical-align: middle;\n",
       "    }\n",
       "\n",
       "    .dataframe tbody tr th {\n",
       "        vertical-align: top;\n",
       "    }\n",
       "\n",
       "    .dataframe thead th {\n",
       "        text-align: right;\n",
       "    }\n",
       "</style>\n",
       "<table border=\"1\" class=\"dataframe\">\n",
       "  <thead>\n",
       "    <tr style=\"text-align: right;\">\n",
       "      <th></th>\n",
       "      <th>DATE</th>\n",
       "      <th>TIME</th>\n",
       "      <th>OPEN</th>\n",
       "      <th>HIGH</th>\n",
       "      <th>LOW</th>\n",
       "      <th>CLOSE</th>\n",
       "    </tr>\n",
       "  </thead>\n",
       "  <tbody>\n",
       "    <tr>\n",
       "      <th>0</th>\n",
       "      <td>2021-01-01</td>\n",
       "      <td>09:16</td>\n",
       "      <td>13997.90</td>\n",
       "      <td>14020.85</td>\n",
       "      <td>13991.35</td>\n",
       "      <td>14013.15</td>\n",
       "    </tr>\n",
       "    <tr>\n",
       "      <th>1</th>\n",
       "      <td>2021-01-01</td>\n",
       "      <td>09:17</td>\n",
       "      <td>14014.85</td>\n",
       "      <td>14018.55</td>\n",
       "      <td>14008.15</td>\n",
       "      <td>14009.05</td>\n",
       "    </tr>\n",
       "    <tr>\n",
       "      <th>2</th>\n",
       "      <td>2021-01-01</td>\n",
       "      <td>09:18</td>\n",
       "      <td>14008.05</td>\n",
       "      <td>14013.10</td>\n",
       "      <td>14005.05</td>\n",
       "      <td>14012.70</td>\n",
       "    </tr>\n",
       "    <tr>\n",
       "      <th>3</th>\n",
       "      <td>2021-01-01</td>\n",
       "      <td>09:19</td>\n",
       "      <td>14013.65</td>\n",
       "      <td>14019.10</td>\n",
       "      <td>14013.65</td>\n",
       "      <td>14016.20</td>\n",
       "    </tr>\n",
       "    <tr>\n",
       "      <th>4</th>\n",
       "      <td>2021-01-01</td>\n",
       "      <td>09:20</td>\n",
       "      <td>14015.45</td>\n",
       "      <td>14017.80</td>\n",
       "      <td>14011.95</td>\n",
       "      <td>14015.45</td>\n",
       "    </tr>\n",
       "  </tbody>\n",
       "</table>\n",
       "</div>"
      ],
      "text/plain": [
       "        DATE   TIME      OPEN      HIGH       LOW     CLOSE\n",
       "0 2021-01-01  09:16  13997.90  14020.85  13991.35  14013.15\n",
       "1 2021-01-01  09:17  14014.85  14018.55  14008.15  14009.05\n",
       "2 2021-01-01  09:18  14008.05  14013.10  14005.05  14012.70\n",
       "3 2021-01-01  09:19  14013.65  14019.10  14013.65  14016.20\n",
       "4 2021-01-01  09:20  14015.45  14017.80  14011.95  14015.45"
      ]
     },
     "execution_count": 88,
     "metadata": {},
     "output_type": "execute_result"
    }
   ],
   "source": [
    "data.head()"
   ]
  },
  {
   "cell_type": "code",
   "execution_count": 89,
   "metadata": {},
   "outputs": [],
   "source": [
    "data['DAY']=pd.to_datetime(data.DATE, format=\"%Y/%m/%d\").dt.day"
   ]
  },
  {
   "cell_type": "code",
   "execution_count": 90,
   "metadata": {},
   "outputs": [],
   "source": [
    "data['month']=pd.to_datetime(data['DATE'], format='%Y/%m/%d').dt.month"
   ]
  },
  {
   "cell_type": "code",
   "execution_count": 91,
   "metadata": {},
   "outputs": [],
   "source": [
    "data['YEAR']=pd.to_datetime(data['DATE'], format='%Y/%m/%d').dt.year"
   ]
  },
  {
   "cell_type": "code",
   "execution_count": 92,
   "metadata": {},
   "outputs": [],
   "source": [
    "data.drop(['DATE'],axis=1,inplace=True)"
   ]
  },
  {
   "cell_type": "code",
   "execution_count": 93,
   "metadata": {},
   "outputs": [],
   "source": [
    "data['Time_hour']=pd.to_datetime(data['TIME']).dt.hour"
   ]
  },
  {
   "cell_type": "code",
   "execution_count": 94,
   "metadata": {},
   "outputs": [],
   "source": [
    "data['time_minute']=pd.to_datetime(data['TIME']).dt.minute\n"
   ]
  },
  {
   "cell_type": "code",
   "execution_count": 95,
   "metadata": {},
   "outputs": [],
   "source": [
    "data.drop(['TIME'],axis=1,inplace=True)"
   ]
  },
  {
   "cell_type": "code",
   "execution_count": 96,
   "metadata": {},
   "outputs": [
    {
     "data": {
      "text/html": [
       "<div>\n",
       "<style scoped>\n",
       "    .dataframe tbody tr th:only-of-type {\n",
       "        vertical-align: middle;\n",
       "    }\n",
       "\n",
       "    .dataframe tbody tr th {\n",
       "        vertical-align: top;\n",
       "    }\n",
       "\n",
       "    .dataframe thead th {\n",
       "        text-align: right;\n",
       "    }\n",
       "</style>\n",
       "<table border=\"1\" class=\"dataframe\">\n",
       "  <thead>\n",
       "    <tr style=\"text-align: right;\">\n",
       "      <th></th>\n",
       "      <th>OPEN</th>\n",
       "      <th>HIGH</th>\n",
       "      <th>LOW</th>\n",
       "      <th>CLOSE</th>\n",
       "      <th>DAY</th>\n",
       "      <th>month</th>\n",
       "      <th>YEAR</th>\n",
       "      <th>Time_hour</th>\n",
       "      <th>time_minute</th>\n",
       "    </tr>\n",
       "  </thead>\n",
       "  <tbody>\n",
       "    <tr>\n",
       "      <th>0</th>\n",
       "      <td>13997.90</td>\n",
       "      <td>14020.85</td>\n",
       "      <td>13991.35</td>\n",
       "      <td>14013.15</td>\n",
       "      <td>1</td>\n",
       "      <td>1</td>\n",
       "      <td>2021</td>\n",
       "      <td>9</td>\n",
       "      <td>16</td>\n",
       "    </tr>\n",
       "    <tr>\n",
       "      <th>1</th>\n",
       "      <td>14014.85</td>\n",
       "      <td>14018.55</td>\n",
       "      <td>14008.15</td>\n",
       "      <td>14009.05</td>\n",
       "      <td>1</td>\n",
       "      <td>1</td>\n",
       "      <td>2021</td>\n",
       "      <td>9</td>\n",
       "      <td>17</td>\n",
       "    </tr>\n",
       "    <tr>\n",
       "      <th>2</th>\n",
       "      <td>14008.05</td>\n",
       "      <td>14013.10</td>\n",
       "      <td>14005.05</td>\n",
       "      <td>14012.70</td>\n",
       "      <td>1</td>\n",
       "      <td>1</td>\n",
       "      <td>2021</td>\n",
       "      <td>9</td>\n",
       "      <td>18</td>\n",
       "    </tr>\n",
       "    <tr>\n",
       "      <th>3</th>\n",
       "      <td>14013.65</td>\n",
       "      <td>14019.10</td>\n",
       "      <td>14013.65</td>\n",
       "      <td>14016.20</td>\n",
       "      <td>1</td>\n",
       "      <td>1</td>\n",
       "      <td>2021</td>\n",
       "      <td>9</td>\n",
       "      <td>19</td>\n",
       "    </tr>\n",
       "    <tr>\n",
       "      <th>4</th>\n",
       "      <td>14015.45</td>\n",
       "      <td>14017.80</td>\n",
       "      <td>14011.95</td>\n",
       "      <td>14015.45</td>\n",
       "      <td>1</td>\n",
       "      <td>1</td>\n",
       "      <td>2021</td>\n",
       "      <td>9</td>\n",
       "      <td>20</td>\n",
       "    </tr>\n",
       "  </tbody>\n",
       "</table>\n",
       "</div>"
      ],
      "text/plain": [
       "       OPEN      HIGH       LOW     CLOSE  DAY  month  YEAR  Time_hour  \\\n",
       "0  13997.90  14020.85  13991.35  14013.15    1      1  2021          9   \n",
       "1  14014.85  14018.55  14008.15  14009.05    1      1  2021          9   \n",
       "2  14008.05  14013.10  14005.05  14012.70    1      1  2021          9   \n",
       "3  14013.65  14019.10  14013.65  14016.20    1      1  2021          9   \n",
       "4  14015.45  14017.80  14011.95  14015.45    1      1  2021          9   \n",
       "\n",
       "   time_minute  \n",
       "0           16  \n",
       "1           17  \n",
       "2           18  \n",
       "3           19  \n",
       "4           20  "
      ]
     },
     "execution_count": 96,
     "metadata": {},
     "output_type": "execute_result"
    }
   ],
   "source": [
    "data.head()"
   ]
  },
  {
   "cell_type": "markdown",
   "metadata": {},
   "source": [
    "# MSFT with outlier"
   ]
  },
  {
   "cell_type": "code",
   "execution_count": 97,
   "metadata": {},
   "outputs": [
    {
     "data": {
      "text/html": [
       "<div>\n",
       "<style scoped>\n",
       "    .dataframe tbody tr th:only-of-type {\n",
       "        vertical-align: middle;\n",
       "    }\n",
       "\n",
       "    .dataframe tbody tr th {\n",
       "        vertical-align: top;\n",
       "    }\n",
       "\n",
       "    .dataframe thead th {\n",
       "        text-align: right;\n",
       "    }\n",
       "</style>\n",
       "<table border=\"1\" class=\"dataframe\">\n",
       "  <thead>\n",
       "    <tr style=\"text-align: right;\">\n",
       "      <th></th>\n",
       "      <th>DATE</th>\n",
       "      <th>OPEN</th>\n",
       "      <th>HIGH</th>\n",
       "      <th>LOW</th>\n",
       "      <th>CLOSE</th>\n",
       "      <th>ADJ CLOSE</th>\n",
       "      <th>VOLUME</th>\n",
       "    </tr>\n",
       "  </thead>\n",
       "  <tbody>\n",
       "    <tr>\n",
       "      <th>0</th>\n",
       "      <td>1986-03-13</td>\n",
       "      <td>0.088542</td>\n",
       "      <td>0.101563</td>\n",
       "      <td>0.088542</td>\n",
       "      <td>0.097222</td>\n",
       "      <td>0.061751</td>\n",
       "      <td>1031788800</td>\n",
       "    </tr>\n",
       "    <tr>\n",
       "      <th>1</th>\n",
       "      <td>1986-03-14</td>\n",
       "      <td>0.097222</td>\n",
       "      <td>0.102431</td>\n",
       "      <td>0.097222</td>\n",
       "      <td>0.100694</td>\n",
       "      <td>0.063956</td>\n",
       "      <td>308160000</td>\n",
       "    </tr>\n",
       "    <tr>\n",
       "      <th>2</th>\n",
       "      <td>1986-03-17</td>\n",
       "      <td>0.100694</td>\n",
       "      <td>0.103299</td>\n",
       "      <td>0.100694</td>\n",
       "      <td>0.102431</td>\n",
       "      <td>0.065059</td>\n",
       "      <td>133171200</td>\n",
       "    </tr>\n",
       "    <tr>\n",
       "      <th>3</th>\n",
       "      <td>1986-03-18</td>\n",
       "      <td>0.102431</td>\n",
       "      <td>0.103299</td>\n",
       "      <td>0.098958</td>\n",
       "      <td>0.099826</td>\n",
       "      <td>0.063405</td>\n",
       "      <td>67766400</td>\n",
       "    </tr>\n",
       "    <tr>\n",
       "      <th>4</th>\n",
       "      <td>1986-03-19</td>\n",
       "      <td>0.099826</td>\n",
       "      <td>0.100694</td>\n",
       "      <td>0.097222</td>\n",
       "      <td>0.098090</td>\n",
       "      <td>0.062302</td>\n",
       "      <td>47894400</td>\n",
       "    </tr>\n",
       "  </tbody>\n",
       "</table>\n",
       "</div>"
      ],
      "text/plain": [
       "        DATE      OPEN      HIGH       LOW     CLOSE  ADJ CLOSE      VOLUME\n",
       "0 1986-03-13  0.088542  0.101563  0.088542  0.097222   0.061751  1031788800\n",
       "1 1986-03-14  0.097222  0.102431  0.097222  0.100694   0.063956   308160000\n",
       "2 1986-03-17  0.100694  0.103299  0.100694  0.102431   0.065059   133171200\n",
       "3 1986-03-18  0.102431  0.103299  0.098958  0.099826   0.063405    67766400\n",
       "4 1986-03-19  0.099826  0.100694  0.097222  0.098090   0.062302    47894400"
      ]
     },
     "execution_count": 97,
     "metadata": {},
     "output_type": "execute_result"
    }
   ],
   "source": [
    "df2.head()"
   ]
  },
  {
   "cell_type": "code",
   "execution_count": 98,
   "metadata": {},
   "outputs": [],
   "source": [
    "df2['DAY']=pd.to_datetime(df2.DATE, format=\"%Y/%m/%d\").dt.day\n",
    "\n",
    "df2['month']=pd.to_datetime(df2['DATE'], format='%Y/%m/%d').dt.month\n",
    "\n",
    "df2['YEAR']=pd.to_datetime(df2['DATE'], format='%Y/%m/%d').dt.year"
   ]
  },
  {
   "cell_type": "code",
   "execution_count": 99,
   "metadata": {},
   "outputs": [],
   "source": [
    "df2.drop(['DATE'],axis=1,inplace=True)"
   ]
  },
  {
   "cell_type": "code",
   "execution_count": 100,
   "metadata": {},
   "outputs": [
    {
     "data": {
      "text/html": [
       "<div>\n",
       "<style scoped>\n",
       "    .dataframe tbody tr th:only-of-type {\n",
       "        vertical-align: middle;\n",
       "    }\n",
       "\n",
       "    .dataframe tbody tr th {\n",
       "        vertical-align: top;\n",
       "    }\n",
       "\n",
       "    .dataframe thead th {\n",
       "        text-align: right;\n",
       "    }\n",
       "</style>\n",
       "<table border=\"1\" class=\"dataframe\">\n",
       "  <thead>\n",
       "    <tr style=\"text-align: right;\">\n",
       "      <th></th>\n",
       "      <th>OPEN</th>\n",
       "      <th>HIGH</th>\n",
       "      <th>LOW</th>\n",
       "      <th>CLOSE</th>\n",
       "      <th>ADJ CLOSE</th>\n",
       "      <th>VOLUME</th>\n",
       "      <th>DAY</th>\n",
       "      <th>month</th>\n",
       "      <th>YEAR</th>\n",
       "    </tr>\n",
       "  </thead>\n",
       "  <tbody>\n",
       "    <tr>\n",
       "      <th>0</th>\n",
       "      <td>0.088542</td>\n",
       "      <td>0.101563</td>\n",
       "      <td>0.088542</td>\n",
       "      <td>0.097222</td>\n",
       "      <td>0.061751</td>\n",
       "      <td>1031788800</td>\n",
       "      <td>13</td>\n",
       "      <td>3</td>\n",
       "      <td>1986</td>\n",
       "    </tr>\n",
       "    <tr>\n",
       "      <th>1</th>\n",
       "      <td>0.097222</td>\n",
       "      <td>0.102431</td>\n",
       "      <td>0.097222</td>\n",
       "      <td>0.100694</td>\n",
       "      <td>0.063956</td>\n",
       "      <td>308160000</td>\n",
       "      <td>14</td>\n",
       "      <td>3</td>\n",
       "      <td>1986</td>\n",
       "    </tr>\n",
       "    <tr>\n",
       "      <th>2</th>\n",
       "      <td>0.100694</td>\n",
       "      <td>0.103299</td>\n",
       "      <td>0.100694</td>\n",
       "      <td>0.102431</td>\n",
       "      <td>0.065059</td>\n",
       "      <td>133171200</td>\n",
       "      <td>17</td>\n",
       "      <td>3</td>\n",
       "      <td>1986</td>\n",
       "    </tr>\n",
       "    <tr>\n",
       "      <th>3</th>\n",
       "      <td>0.102431</td>\n",
       "      <td>0.103299</td>\n",
       "      <td>0.098958</td>\n",
       "      <td>0.099826</td>\n",
       "      <td>0.063405</td>\n",
       "      <td>67766400</td>\n",
       "      <td>18</td>\n",
       "      <td>3</td>\n",
       "      <td>1986</td>\n",
       "    </tr>\n",
       "    <tr>\n",
       "      <th>4</th>\n",
       "      <td>0.099826</td>\n",
       "      <td>0.100694</td>\n",
       "      <td>0.097222</td>\n",
       "      <td>0.098090</td>\n",
       "      <td>0.062302</td>\n",
       "      <td>47894400</td>\n",
       "      <td>19</td>\n",
       "      <td>3</td>\n",
       "      <td>1986</td>\n",
       "    </tr>\n",
       "  </tbody>\n",
       "</table>\n",
       "</div>"
      ],
      "text/plain": [
       "       OPEN      HIGH       LOW     CLOSE  ADJ CLOSE      VOLUME  DAY  month  \\\n",
       "0  0.088542  0.101563  0.088542  0.097222   0.061751  1031788800   13      3   \n",
       "1  0.097222  0.102431  0.097222  0.100694   0.063956   308160000   14      3   \n",
       "2  0.100694  0.103299  0.100694  0.102431   0.065059   133171200   17      3   \n",
       "3  0.102431  0.103299  0.098958  0.099826   0.063405    67766400   18      3   \n",
       "4  0.099826  0.100694  0.097222  0.098090   0.062302    47894400   19      3   \n",
       "\n",
       "   YEAR  \n",
       "0  1986  \n",
       "1  1986  \n",
       "2  1986  \n",
       "3  1986  \n",
       "4  1986  "
      ]
     },
     "execution_count": 100,
     "metadata": {},
     "output_type": "execute_result"
    }
   ],
   "source": [
    "df2.head()"
   ]
  },
  {
   "cell_type": "code",
   "execution_count": null,
   "metadata": {},
   "outputs": [],
   "source": []
  },
  {
   "cell_type": "markdown",
   "metadata": {},
   "source": [
    "# DATAFRAME MODEL"
   ]
  },
  {
   "cell_type": "code",
   "execution_count": 101,
   "metadata": {},
   "outputs": [
    {
     "data": {
      "text/plain": [
       "pandas.core.frame.DataFrame"
      ]
     },
     "execution_count": 101,
     "metadata": {},
     "output_type": "execute_result"
    }
   ],
   "source": [
    "X=data.loc[:,data.columns!='CLOSE']\n",
    "type(X)"
   ]
  },
  {
   "cell_type": "code",
   "execution_count": 102,
   "metadata": {},
   "outputs": [
    {
     "data": {
      "text/html": [
       "<div>\n",
       "<style scoped>\n",
       "    .dataframe tbody tr th:only-of-type {\n",
       "        vertical-align: middle;\n",
       "    }\n",
       "\n",
       "    .dataframe tbody tr th {\n",
       "        vertical-align: top;\n",
       "    }\n",
       "\n",
       "    .dataframe thead th {\n",
       "        text-align: right;\n",
       "    }\n",
       "</style>\n",
       "<table border=\"1\" class=\"dataframe\">\n",
       "  <thead>\n",
       "    <tr style=\"text-align: right;\">\n",
       "      <th></th>\n",
       "      <th>OPEN</th>\n",
       "      <th>HIGH</th>\n",
       "      <th>LOW</th>\n",
       "      <th>DAY</th>\n",
       "      <th>month</th>\n",
       "      <th>YEAR</th>\n",
       "      <th>Time_hour</th>\n",
       "      <th>time_minute</th>\n",
       "    </tr>\n",
       "  </thead>\n",
       "  <tbody>\n",
       "    <tr>\n",
       "      <th>0</th>\n",
       "      <td>13997.90</td>\n",
       "      <td>14020.85</td>\n",
       "      <td>13991.35</td>\n",
       "      <td>1</td>\n",
       "      <td>1</td>\n",
       "      <td>2021</td>\n",
       "      <td>9</td>\n",
       "      <td>16</td>\n",
       "    </tr>\n",
       "    <tr>\n",
       "      <th>1</th>\n",
       "      <td>14014.85</td>\n",
       "      <td>14018.55</td>\n",
       "      <td>14008.15</td>\n",
       "      <td>1</td>\n",
       "      <td>1</td>\n",
       "      <td>2021</td>\n",
       "      <td>9</td>\n",
       "      <td>17</td>\n",
       "    </tr>\n",
       "    <tr>\n",
       "      <th>2</th>\n",
       "      <td>14008.05</td>\n",
       "      <td>14013.10</td>\n",
       "      <td>14005.05</td>\n",
       "      <td>1</td>\n",
       "      <td>1</td>\n",
       "      <td>2021</td>\n",
       "      <td>9</td>\n",
       "      <td>18</td>\n",
       "    </tr>\n",
       "    <tr>\n",
       "      <th>3</th>\n",
       "      <td>14013.65</td>\n",
       "      <td>14019.10</td>\n",
       "      <td>14013.65</td>\n",
       "      <td>1</td>\n",
       "      <td>1</td>\n",
       "      <td>2021</td>\n",
       "      <td>9</td>\n",
       "      <td>19</td>\n",
       "    </tr>\n",
       "    <tr>\n",
       "      <th>4</th>\n",
       "      <td>14015.45</td>\n",
       "      <td>14017.80</td>\n",
       "      <td>14011.95</td>\n",
       "      <td>1</td>\n",
       "      <td>1</td>\n",
       "      <td>2021</td>\n",
       "      <td>9</td>\n",
       "      <td>20</td>\n",
       "    </tr>\n",
       "  </tbody>\n",
       "</table>\n",
       "</div>"
      ],
      "text/plain": [
       "       OPEN      HIGH       LOW  DAY  month  YEAR  Time_hour  time_minute\n",
       "0  13997.90  14020.85  13991.35    1      1  2021          9           16\n",
       "1  14014.85  14018.55  14008.15    1      1  2021          9           17\n",
       "2  14008.05  14013.10  14005.05    1      1  2021          9           18\n",
       "3  14013.65  14019.10  14013.65    1      1  2021          9           19\n",
       "4  14015.45  14017.80  14011.95    1      1  2021          9           20"
      ]
     },
     "execution_count": 102,
     "metadata": {},
     "output_type": "execute_result"
    }
   ],
   "source": [
    "X.head()"
   ]
  },
  {
   "cell_type": "code",
   "execution_count": 103,
   "metadata": {},
   "outputs": [],
   "source": [
    "y=data['CLOSE']"
   ]
  },
  {
   "cell_type": "code",
   "execution_count": null,
   "metadata": {},
   "outputs": [],
   "source": []
  },
  {
   "cell_type": "code",
   "execution_count": 104,
   "metadata": {},
   "outputs": [
    {
     "data": {
      "text/plain": [
       "0    14013.15\n",
       "1    14009.05\n",
       "2    14012.70\n",
       "3    14016.20\n",
       "4    14015.45\n",
       "Name: CLOSE, dtype: float64"
      ]
     },
     "execution_count": 104,
     "metadata": {},
     "output_type": "execute_result"
    }
   ],
   "source": [
    "y.head()"
   ]
  },
  {
   "cell_type": "markdown",
   "metadata": {},
   "source": [
    "# TEST TRAIN SPLIT DATAFRAME"
   ]
  },
  {
   "cell_type": "code",
   "execution_count": 105,
   "metadata": {},
   "outputs": [],
   "source": [
    "from sklearn.model_selection import train_test_split"
   ]
  },
  {
   "cell_type": "code",
   "execution_count": 106,
   "metadata": {},
   "outputs": [],
   "source": [
    "X_train,X_test,y_train,y_test=train_test_split(X,y,test_size=0.2,random_state=0)"
   ]
  },
  {
   "cell_type": "code",
   "execution_count": 107,
   "metadata": {},
   "outputs": [
    {
     "name": "stdout",
     "output_type": "stream",
     "text": [
      "(18244, 8) (4561, 8) (18244,) (4561,)\n"
     ]
    }
   ],
   "source": [
    "print(X_train.shape,X_test.shape,y_train.shape,y_test.shape)"
   ]
  },
  {
   "cell_type": "markdown",
   "metadata": {},
   "source": [
    "# MSFT"
   ]
  },
  {
   "cell_type": "code",
   "execution_count": 108,
   "metadata": {},
   "outputs": [],
   "source": [
    "X1=df2.loc[:,df2.columns!='CLOSE']"
   ]
  },
  {
   "cell_type": "code",
   "execution_count": 109,
   "metadata": {},
   "outputs": [
    {
     "data": {
      "text/html": [
       "<div>\n",
       "<style scoped>\n",
       "    .dataframe tbody tr th:only-of-type {\n",
       "        vertical-align: middle;\n",
       "    }\n",
       "\n",
       "    .dataframe tbody tr th {\n",
       "        vertical-align: top;\n",
       "    }\n",
       "\n",
       "    .dataframe thead th {\n",
       "        text-align: right;\n",
       "    }\n",
       "</style>\n",
       "<table border=\"1\" class=\"dataframe\">\n",
       "  <thead>\n",
       "    <tr style=\"text-align: right;\">\n",
       "      <th></th>\n",
       "      <th>OPEN</th>\n",
       "      <th>HIGH</th>\n",
       "      <th>LOW</th>\n",
       "      <th>ADJ CLOSE</th>\n",
       "      <th>VOLUME</th>\n",
       "      <th>DAY</th>\n",
       "      <th>month</th>\n",
       "      <th>YEAR</th>\n",
       "    </tr>\n",
       "  </thead>\n",
       "  <tbody>\n",
       "    <tr>\n",
       "      <th>0</th>\n",
       "      <td>0.088542</td>\n",
       "      <td>0.101563</td>\n",
       "      <td>0.088542</td>\n",
       "      <td>0.061751</td>\n",
       "      <td>1031788800</td>\n",
       "      <td>13</td>\n",
       "      <td>3</td>\n",
       "      <td>1986</td>\n",
       "    </tr>\n",
       "    <tr>\n",
       "      <th>1</th>\n",
       "      <td>0.097222</td>\n",
       "      <td>0.102431</td>\n",
       "      <td>0.097222</td>\n",
       "      <td>0.063956</td>\n",
       "      <td>308160000</td>\n",
       "      <td>14</td>\n",
       "      <td>3</td>\n",
       "      <td>1986</td>\n",
       "    </tr>\n",
       "    <tr>\n",
       "      <th>2</th>\n",
       "      <td>0.100694</td>\n",
       "      <td>0.103299</td>\n",
       "      <td>0.100694</td>\n",
       "      <td>0.065059</td>\n",
       "      <td>133171200</td>\n",
       "      <td>17</td>\n",
       "      <td>3</td>\n",
       "      <td>1986</td>\n",
       "    </tr>\n",
       "    <tr>\n",
       "      <th>3</th>\n",
       "      <td>0.102431</td>\n",
       "      <td>0.103299</td>\n",
       "      <td>0.098958</td>\n",
       "      <td>0.063405</td>\n",
       "      <td>67766400</td>\n",
       "      <td>18</td>\n",
       "      <td>3</td>\n",
       "      <td>1986</td>\n",
       "    </tr>\n",
       "    <tr>\n",
       "      <th>4</th>\n",
       "      <td>0.099826</td>\n",
       "      <td>0.100694</td>\n",
       "      <td>0.097222</td>\n",
       "      <td>0.062302</td>\n",
       "      <td>47894400</td>\n",
       "      <td>19</td>\n",
       "      <td>3</td>\n",
       "      <td>1986</td>\n",
       "    </tr>\n",
       "  </tbody>\n",
       "</table>\n",
       "</div>"
      ],
      "text/plain": [
       "       OPEN      HIGH       LOW  ADJ CLOSE      VOLUME  DAY  month  YEAR\n",
       "0  0.088542  0.101563  0.088542   0.061751  1031788800   13      3  1986\n",
       "1  0.097222  0.102431  0.097222   0.063956   308160000   14      3  1986\n",
       "2  0.100694  0.103299  0.100694   0.065059   133171200   17      3  1986\n",
       "3  0.102431  0.103299  0.098958   0.063405    67766400   18      3  1986\n",
       "4  0.099826  0.100694  0.097222   0.062302    47894400   19      3  1986"
      ]
     },
     "execution_count": 109,
     "metadata": {},
     "output_type": "execute_result"
    }
   ],
   "source": [
    "X1.head()"
   ]
  },
  {
   "cell_type": "code",
   "execution_count": 110,
   "metadata": {},
   "outputs": [],
   "source": [
    "y1=df2['CLOSE']"
   ]
  },
  {
   "cell_type": "code",
   "execution_count": 111,
   "metadata": {},
   "outputs": [
    {
     "data": {
      "text/plain": [
       "0    0.097222\n",
       "1    0.100694\n",
       "2    0.102431\n",
       "3    0.099826\n",
       "4    0.098090\n",
       "Name: CLOSE, dtype: float64"
      ]
     },
     "execution_count": 111,
     "metadata": {},
     "output_type": "execute_result"
    }
   ],
   "source": [
    "y1.head()"
   ]
  },
  {
   "cell_type": "markdown",
   "metadata": {},
   "source": [
    "# TRAIN TEST SPLIT MSFT"
   ]
  },
  {
   "cell_type": "code",
   "execution_count": 112,
   "metadata": {},
   "outputs": [],
   "source": [
    "X1_train,X1_test,y1_train,y1_test=train_test_split(X1,y1,test_size=0.2,random_state=0)"
   ]
  },
  {
   "cell_type": "code",
   "execution_count": 113,
   "metadata": {},
   "outputs": [
    {
     "name": "stdout",
     "output_type": "stream",
     "text": [
      "(7085, 8) (1772, 8) (7085,) (1772,)\n"
     ]
    }
   ],
   "source": [
    "print(X1_train.shape,X1_test.shape,y1_train.shape,y1_test.shape)"
   ]
  },
  {
   "cell_type": "markdown",
   "metadata": {},
   "source": [
    "# STANDARDIZING THE DATAFRAME"
   ]
  },
  {
   "cell_type": "code",
   "execution_count": 114,
   "metadata": {},
   "outputs": [],
   "source": [
    "from sklearn.preprocessing import StandardScaler"
   ]
  },
  {
   "cell_type": "code",
   "execution_count": 115,
   "metadata": {},
   "outputs": [],
   "source": [
    "sc = StandardScaler().fit(X_train)\n"
   ]
  },
  {
   "cell_type": "code",
   "execution_count": 116,
   "metadata": {},
   "outputs": [
    {
     "data": {
      "text/plain": [
       "StandardScaler(copy=True, with_mean=True, with_std=True)"
      ]
     },
     "execution_count": 116,
     "metadata": {},
     "output_type": "execute_result"
    }
   ],
   "source": [
    "sc.fit(X_train)"
   ]
  },
  {
   "cell_type": "code",
   "execution_count": 117,
   "metadata": {},
   "outputs": [],
   "source": [
    "X_train_std=sc.transform(X_train)"
   ]
  },
  {
   "cell_type": "code",
   "execution_count": 118,
   "metadata": {},
   "outputs": [],
   "source": [
    "X_test_std=sc.transform(X_test)"
   ]
  },
  {
   "cell_type": "code",
   "execution_count": 119,
   "metadata": {},
   "outputs": [
    {
     "data": {
      "text/plain": [
       "array([[ 1.05314965,  1.04448231,  1.04056985, ...,  0.        ,\n",
       "         0.57862783,  1.57763269],\n",
       "       [ 1.11093268,  1.12650169,  1.11958297, ...,  0.        ,\n",
       "        -1.03034734, -1.47114428],\n",
       "       [-2.22510865, -2.15991211, -2.28835392, ...,  0.        ,\n",
       "        -1.5666724 , -0.76758037],\n",
       "       ...,\n",
       "       [ 1.20151495,  1.22261814,  1.21178628, ...,  0.        ,\n",
       "        -1.5666724 ,  0.52228681],\n",
       "       [ 1.07569912,  1.06575609,  1.06528546, ...,  0.        ,\n",
       "         0.04230277,  1.57763269],\n",
       "       [-0.57515319, -0.57860421, -0.56504839, ...,  0.        ,\n",
       "        -1.03034734,  0.87406877]])"
      ]
     },
     "execution_count": 119,
     "metadata": {},
     "output_type": "execute_result"
    }
   ],
   "source": [
    "X_train_std"
   ]
  },
  {
   "cell_type": "markdown",
   "metadata": {},
   "source": [
    "# STANDARDDIZING THE MSFT"
   ]
  },
  {
   "cell_type": "code",
   "execution_count": 120,
   "metadata": {},
   "outputs": [],
   "source": [
    "sc = StandardScaler()"
   ]
  },
  {
   "cell_type": "code",
   "execution_count": 121,
   "metadata": {},
   "outputs": [
    {
     "data": {
      "text/plain": [
       "StandardScaler(copy=True, with_mean=True, with_std=True)"
      ]
     },
     "execution_count": 121,
     "metadata": {},
     "output_type": "execute_result"
    }
   ],
   "source": [
    "sc.fit(X1_train)"
   ]
  },
  {
   "cell_type": "code",
   "execution_count": 122,
   "metadata": {},
   "outputs": [],
   "source": [
    "X1_train_std=sc.transform(X1_train)"
   ]
  },
  {
   "cell_type": "code",
   "execution_count": 123,
   "metadata": {},
   "outputs": [],
   "source": [
    "X1_test_std=sc.transform(X1_test)"
   ]
  },
  {
   "cell_type": "code",
   "execution_count": 124,
   "metadata": {},
   "outputs": [
    {
     "data": {
      "text/plain": [
       "array([[-0.10197221, -0.10840858, -0.10376951, ...,  0.70880399,\n",
       "        -1.02544085, -0.12267646],\n",
       "       [ 0.24038047,  0.23429234,  0.17641548, ..., -1.3443867 ,\n",
       "        -0.73464481, -0.31974318],\n",
       "       [-0.22056844, -0.21923667, -0.21621761, ..., -0.08965905,\n",
       "         0.42853938,  0.76412375],\n",
       "       ...,\n",
       "       [-0.21697802, -0.22301238, -0.21712442, ..., -0.08965905,\n",
       "        -0.15305271,  0.17292361],\n",
       "       [ 0.10994705,  0.12532433,  0.11265334, ..., -0.6599898 ,\n",
       "        -1.3162369 , -0.41827654],\n",
       "       [-0.55133637, -0.55346999, -0.5525983 , ...,  1.73539934,\n",
       "         1.59172357, -0.71387661]])"
      ]
     },
     "execution_count": 124,
     "metadata": {},
     "output_type": "execute_result"
    }
   ],
   "source": [
    "X1_train_std"
   ]
  },
  {
   "cell_type": "code",
   "execution_count": 125,
   "metadata": {},
   "outputs": [
    {
     "data": {
      "text/html": [
       "<div>\n",
       "<style scoped>\n",
       "    .dataframe tbody tr th:only-of-type {\n",
       "        vertical-align: middle;\n",
       "    }\n",
       "\n",
       "    .dataframe tbody tr th {\n",
       "        vertical-align: top;\n",
       "    }\n",
       "\n",
       "    .dataframe thead th {\n",
       "        text-align: right;\n",
       "    }\n",
       "</style>\n",
       "<table border=\"1\" class=\"dataframe\">\n",
       "  <thead>\n",
       "    <tr style=\"text-align: right;\">\n",
       "      <th></th>\n",
       "      <th>OPEN</th>\n",
       "      <th>HIGH</th>\n",
       "      <th>LOW</th>\n",
       "      <th>ADJ CLOSE</th>\n",
       "      <th>VOLUME</th>\n",
       "      <th>DAY</th>\n",
       "      <th>month</th>\n",
       "      <th>YEAR</th>\n",
       "    </tr>\n",
       "  </thead>\n",
       "  <tbody>\n",
       "    <tr>\n",
       "      <th>1768</th>\n",
       "      <td>2.640625</td>\n",
       "      <td>2.679688</td>\n",
       "      <td>2.609375</td>\n",
       "      <td>1.687119</td>\n",
       "      <td>26592000</td>\n",
       "      <td>10</td>\n",
       "      <td>3</td>\n",
       "      <td>1993</td>\n",
       "    </tr>\n",
       "    <tr>\n",
       "      <th>4265</th>\n",
       "      <td>23.915001</td>\n",
       "      <td>24.264999</td>\n",
       "      <td>23.365000</td>\n",
       "      <td>14.913337</td>\n",
       "      <td>101072000</td>\n",
       "      <td>5</td>\n",
       "      <td>2</td>\n",
       "      <td>2003</td>\n",
       "    </tr>\n",
       "    <tr>\n",
       "      <th>317</th>\n",
       "      <td>0.341146</td>\n",
       "      <td>0.346354</td>\n",
       "      <td>0.334201</td>\n",
       "      <td>0.216679</td>\n",
       "      <td>125222400</td>\n",
       "      <td>15</td>\n",
       "      <td>6</td>\n",
       "      <td>1987</td>\n",
       "    </tr>\n",
       "    <tr>\n",
       "      <th>4314</th>\n",
       "      <td>25.600000</td>\n",
       "      <td>25.740000</td>\n",
       "      <td>24.600000</td>\n",
       "      <td>15.878845</td>\n",
       "      <td>86178700</td>\n",
       "      <td>16</td>\n",
       "      <td>4</td>\n",
       "      <td>2003</td>\n",
       "    </tr>\n",
       "    <tr>\n",
       "      <th>6054</th>\n",
       "      <td>29.420000</td>\n",
       "      <td>29.490000</td>\n",
       "      <td>29.200001</td>\n",
       "      <td>22.928942</td>\n",
       "      <td>36723500</td>\n",
       "      <td>16</td>\n",
       "      <td>3</td>\n",
       "      <td>2010</td>\n",
       "    </tr>\n",
       "  </tbody>\n",
       "</table>\n",
       "</div>"
      ],
      "text/plain": [
       "           OPEN       HIGH        LOW  ADJ CLOSE     VOLUME  DAY  month  YEAR\n",
       "1768   2.640625   2.679688   2.609375   1.687119   26592000   10      3  1993\n",
       "4265  23.915001  24.264999  23.365000  14.913337  101072000    5      2  2003\n",
       "317    0.341146   0.346354   0.334201   0.216679  125222400   15      6  1987\n",
       "4314  25.600000  25.740000  24.600000  15.878845   86178700   16      4  2003\n",
       "6054  29.420000  29.490000  29.200001  22.928942   36723500   16      3  2010"
      ]
     },
     "execution_count": 125,
     "metadata": {},
     "output_type": "execute_result"
    }
   ],
   "source": [
    "X1_test.head()"
   ]
  },
  {
   "cell_type": "markdown",
   "metadata": {},
   "source": [
    "# SVM BASED REGRESSION MODEL Dataframe"
   ]
  },
  {
   "cell_type": "code",
   "execution_count": 126,
   "metadata": {},
   "outputs": [],
   "source": [
    "from sklearn.svm import SVR\n",
    "svr = SVR(kernel='linear', C = 50)"
   ]
  },
  {
   "cell_type": "code",
   "execution_count": 127,
   "metadata": {},
   "outputs": [
    {
     "data": {
      "text/plain": [
       "SVR(C=50, cache_size=200, coef0=0.0, degree=3, epsilon=0.1,\n",
       "    gamma='auto_deprecated', kernel='linear', max_iter=-1, shrinking=True,\n",
       "    tol=0.001, verbose=False)"
      ]
     },
     "execution_count": 127,
     "metadata": {},
     "output_type": "execute_result"
    }
   ],
   "source": [
    "svr.fit(X_train_std,y_train)"
   ]
  },
  {
   "cell_type": "markdown",
   "metadata": {},
   "source": [
    "# Predict values using trained model(dataframe)"
   ]
  },
  {
   "cell_type": "code",
   "execution_count": 128,
   "metadata": {},
   "outputs": [],
   "source": [
    "y_test_pred=svr.predict(X_train_std)"
   ]
  },
  {
   "cell_type": "code",
   "execution_count": 129,
   "metadata": {},
   "outputs": [],
   "source": [
    "y_test_pred=svr.predict(X_test_std)"
   ]
  },
  {
   "cell_type": "code",
   "execution_count": 130,
   "metadata": {},
   "outputs": [],
   "source": [
    "y_train_pred=svr.predict(X_train_std)"
   ]
  },
  {
   "cell_type": "code",
   "execution_count": null,
   "metadata": {},
   "outputs": [],
   "source": []
  },
  {
   "cell_type": "markdown",
   "metadata": {},
   "source": [
    "# MODEL PERFORMANCE(dataframe)"
   ]
  },
  {
   "cell_type": "code",
   "execution_count": null,
   "metadata": {},
   "outputs": [],
   "source": []
  },
  {
   "cell_type": "code",
   "execution_count": 131,
   "metadata": {},
   "outputs": [],
   "source": [
    "from sklearn.metrics import mean_squared_error, r2_score#at c=50"
   ]
  },
  {
   "cell_type": "code",
   "execution_count": 132,
   "metadata": {},
   "outputs": [
    {
     "data": {
      "text/plain": [
       "7.297874618447529"
      ]
     },
     "execution_count": 132,
     "metadata": {},
     "output_type": "execute_result"
    }
   ],
   "source": [
    "mean_squared_error(y_test,y_test_pred)"
   ]
  },
  {
   "cell_type": "code",
   "execution_count": 133,
   "metadata": {},
   "outputs": [
    {
     "data": {
      "text/plain": [
       "7.330995454996579"
      ]
     },
     "execution_count": 133,
     "metadata": {},
     "output_type": "execute_result"
    }
   ],
   "source": [
    "mean_squared_error(y_train,y_train_pred)"
   ]
  },
  {
   "cell_type": "code",
   "execution_count": 134,
   "metadata": {},
   "outputs": [
    {
     "data": {
      "text/plain": [
       "0.9999533829337311"
      ]
     },
     "execution_count": 134,
     "metadata": {},
     "output_type": "execute_result"
    }
   ],
   "source": [
    "r2_score(y_test,y_test_pred)"
   ]
  },
  {
   "cell_type": "code",
   "execution_count": 135,
   "metadata": {},
   "outputs": [
    {
     "data": {
      "text/plain": [
       "0.9999518653090284"
      ]
     },
     "execution_count": 135,
     "metadata": {},
     "output_type": "execute_result"
    }
   ],
   "source": [
    "r2_score(y_train,y_train_pred)"
   ]
  },
  {
   "cell_type": "markdown",
   "metadata": {},
   "source": [
    "# SVM based regression model (MSFT with outlier)"
   ]
  },
  {
   "cell_type": "code",
   "execution_count": 136,
   "metadata": {},
   "outputs": [],
   "source": [
    "svr = SVR(kernel='linear', C = 22)"
   ]
  },
  {
   "cell_type": "code",
   "execution_count": 137,
   "metadata": {},
   "outputs": [
    {
     "data": {
      "text/plain": [
       "SVR(C=22, cache_size=200, coef0=0.0, degree=3, epsilon=0.1,\n",
       "    gamma='auto_deprecated', kernel='linear', max_iter=-1, shrinking=True,\n",
       "    tol=0.001, verbose=False)"
      ]
     },
     "execution_count": 137,
     "metadata": {},
     "output_type": "execute_result"
    }
   ],
   "source": [
    "svr.fit(X1_train_std,y1_train)"
   ]
  },
  {
   "cell_type": "markdown",
   "metadata": {},
   "source": [
    "# pridict values using trained model(MSFT with outlier)"
   ]
  },
  {
   "cell_type": "code",
   "execution_count": 138,
   "metadata": {},
   "outputs": [],
   "source": [
    "y1_test_pred=svr.predict(X1_train_std)"
   ]
  },
  {
   "cell_type": "code",
   "execution_count": 139,
   "metadata": {},
   "outputs": [],
   "source": [
    "y1_test_pred=svr.predict(X1_test_std)"
   ]
  },
  {
   "cell_type": "code",
   "execution_count": 140,
   "metadata": {},
   "outputs": [],
   "source": [
    "y1_train_pred=svr.predict(X1_train_std)"
   ]
  },
  {
   "cell_type": "markdown",
   "metadata": {},
   "source": [
    "# Model performance(MSFT with outlier)"
   ]
  },
  {
   "cell_type": "code",
   "execution_count": 141,
   "metadata": {},
   "outputs": [
    {
     "data": {
      "text/plain": [
       "0.1277107808319209"
      ]
     },
     "execution_count": 141,
     "metadata": {},
     "output_type": "execute_result"
    }
   ],
   "source": [
    "mean_squared_error(y1_test,y1_test_pred)"
   ]
  },
  {
   "cell_type": "code",
   "execution_count": 142,
   "metadata": {},
   "outputs": [
    {
     "data": {
      "text/plain": [
       "0.15275358140205705"
      ]
     },
     "execution_count": 142,
     "metadata": {},
     "output_type": "execute_result"
    }
   ],
   "source": [
    "mean_squared_error(y1_train,y1_train_pred)"
   ]
  },
  {
   "cell_type": "code",
   "execution_count": 143,
   "metadata": {},
   "outputs": [
    {
     "data": {
      "text/plain": [
       "0.999927430312676"
      ]
     },
     "execution_count": 143,
     "metadata": {},
     "output_type": "execute_result"
    }
   ],
   "source": [
    "r2_score(y1_test,y1_test_pred)"
   ]
  },
  {
   "cell_type": "code",
   "execution_count": 144,
   "metadata": {},
   "outputs": [
    {
     "data": {
      "text/plain": [
       "0.9999231783591978"
      ]
     },
     "execution_count": 144,
     "metadata": {},
     "output_type": "execute_result"
    }
   ],
   "source": [
    "r2_score(y1_train,y1_train_pred)"
   ]
  },
  {
   "cell_type": "markdown",
   "metadata": {},
   "source": [
    "# MSFT without outlier"
   ]
  },
  {
   "cell_type": "code",
   "execution_count": 145,
   "metadata": {},
   "outputs": [
    {
     "data": {
      "text/html": [
       "<div>\n",
       "<style scoped>\n",
       "    .dataframe tbody tr th:only-of-type {\n",
       "        vertical-align: middle;\n",
       "    }\n",
       "\n",
       "    .dataframe tbody tr th {\n",
       "        vertical-align: top;\n",
       "    }\n",
       "\n",
       "    .dataframe thead th {\n",
       "        text-align: right;\n",
       "    }\n",
       "</style>\n",
       "<table border=\"1\" class=\"dataframe\">\n",
       "  <thead>\n",
       "    <tr style=\"text-align: right;\">\n",
       "      <th></th>\n",
       "      <th>OPEN</th>\n",
       "      <th>HIGH</th>\n",
       "      <th>LOW</th>\n",
       "      <th>CLOSE</th>\n",
       "      <th>ADJ CLOSE</th>\n",
       "      <th>VOLUME</th>\n",
       "    </tr>\n",
       "    <tr>\n",
       "      <th>DATE</th>\n",
       "      <th></th>\n",
       "      <th></th>\n",
       "      <th></th>\n",
       "      <th></th>\n",
       "      <th></th>\n",
       "      <th></th>\n",
       "    </tr>\n",
       "  </thead>\n",
       "  <tbody>\n",
       "    <tr>\n",
       "      <th>1986-03-13</th>\n",
       "      <td>0.088542</td>\n",
       "      <td>0.101563</td>\n",
       "      <td>0.088542</td>\n",
       "      <td>0.097222</td>\n",
       "      <td>0.061751</td>\n",
       "      <td>130092200.0</td>\n",
       "    </tr>\n",
       "    <tr>\n",
       "      <th>1986-03-14</th>\n",
       "      <td>0.097222</td>\n",
       "      <td>0.102431</td>\n",
       "      <td>0.097222</td>\n",
       "      <td>0.100694</td>\n",
       "      <td>0.063956</td>\n",
       "      <td>130092200.0</td>\n",
       "    </tr>\n",
       "    <tr>\n",
       "      <th>1986-03-17</th>\n",
       "      <td>0.100694</td>\n",
       "      <td>0.103299</td>\n",
       "      <td>0.100694</td>\n",
       "      <td>0.102431</td>\n",
       "      <td>0.065059</td>\n",
       "      <td>130092200.0</td>\n",
       "    </tr>\n",
       "    <tr>\n",
       "      <th>1986-03-18</th>\n",
       "      <td>0.102431</td>\n",
       "      <td>0.103299</td>\n",
       "      <td>0.098958</td>\n",
       "      <td>0.099826</td>\n",
       "      <td>0.063405</td>\n",
       "      <td>67766400.0</td>\n",
       "    </tr>\n",
       "    <tr>\n",
       "      <th>1986-03-19</th>\n",
       "      <td>0.099826</td>\n",
       "      <td>0.100694</td>\n",
       "      <td>0.097222</td>\n",
       "      <td>0.098090</td>\n",
       "      <td>0.062302</td>\n",
       "      <td>47894400.0</td>\n",
       "    </tr>\n",
       "  </tbody>\n",
       "</table>\n",
       "</div>"
      ],
      "text/plain": [
       "                OPEN      HIGH       LOW     CLOSE  ADJ CLOSE       VOLUME\n",
       "DATE                                                                      \n",
       "1986-03-13  0.088542  0.101563  0.088542  0.097222   0.061751  130092200.0\n",
       "1986-03-14  0.097222  0.102431  0.097222  0.100694   0.063956  130092200.0\n",
       "1986-03-17  0.100694  0.103299  0.100694  0.102431   0.065059  130092200.0\n",
       "1986-03-18  0.102431  0.103299  0.098958  0.099826   0.063405   67766400.0\n",
       "1986-03-19  0.099826  0.100694  0.097222  0.098090   0.062302   47894400.0"
      ]
     },
     "execution_count": 145,
     "metadata": {},
     "output_type": "execute_result"
    }
   ],
   "source": [
    "d2.head()"
   ]
  },
  {
   "cell_type": "code",
   "execution_count": 148,
   "metadata": {},
   "outputs": [],
   "source": [
    "d2.reset_index(level=0, inplace=True)"
   ]
  },
  {
   "cell_type": "code",
   "execution_count": 149,
   "metadata": {},
   "outputs": [],
   "source": [
    "d2['DAY']=pd.to_datetime(d2.DATE, format=\"%Y/%m/%d\").dt.day\n",
    "\n",
    "d2['month']=pd.to_datetime(d2['DATE'], format='%Y/%m/%d').dt.month\n",
    "\n",
    "d2['YEAR']=pd.to_datetime(d2['DATE'], format='%Y/%m/%d').dt.year"
   ]
  },
  {
   "cell_type": "code",
   "execution_count": 150,
   "metadata": {},
   "outputs": [
    {
     "data": {
      "text/html": [
       "<div>\n",
       "<style scoped>\n",
       "    .dataframe tbody tr th:only-of-type {\n",
       "        vertical-align: middle;\n",
       "    }\n",
       "\n",
       "    .dataframe tbody tr th {\n",
       "        vertical-align: top;\n",
       "    }\n",
       "\n",
       "    .dataframe thead th {\n",
       "        text-align: right;\n",
       "    }\n",
       "</style>\n",
       "<table border=\"1\" class=\"dataframe\">\n",
       "  <thead>\n",
       "    <tr style=\"text-align: right;\">\n",
       "      <th></th>\n",
       "      <th>index</th>\n",
       "      <th>DATE</th>\n",
       "      <th>OPEN</th>\n",
       "      <th>HIGH</th>\n",
       "      <th>LOW</th>\n",
       "      <th>CLOSE</th>\n",
       "      <th>ADJ CLOSE</th>\n",
       "      <th>VOLUME</th>\n",
       "      <th>DAY</th>\n",
       "      <th>month</th>\n",
       "      <th>YEAR</th>\n",
       "    </tr>\n",
       "  </thead>\n",
       "  <tbody>\n",
       "    <tr>\n",
       "      <th>0</th>\n",
       "      <td>0</td>\n",
       "      <td>1986-03-13</td>\n",
       "      <td>0.088542</td>\n",
       "      <td>0.101563</td>\n",
       "      <td>0.088542</td>\n",
       "      <td>0.097222</td>\n",
       "      <td>0.061751</td>\n",
       "      <td>130092200.0</td>\n",
       "      <td>13</td>\n",
       "      <td>3</td>\n",
       "      <td>1986</td>\n",
       "    </tr>\n",
       "    <tr>\n",
       "      <th>1</th>\n",
       "      <td>1</td>\n",
       "      <td>1986-03-14</td>\n",
       "      <td>0.097222</td>\n",
       "      <td>0.102431</td>\n",
       "      <td>0.097222</td>\n",
       "      <td>0.100694</td>\n",
       "      <td>0.063956</td>\n",
       "      <td>130092200.0</td>\n",
       "      <td>14</td>\n",
       "      <td>3</td>\n",
       "      <td>1986</td>\n",
       "    </tr>\n",
       "    <tr>\n",
       "      <th>2</th>\n",
       "      <td>2</td>\n",
       "      <td>1986-03-17</td>\n",
       "      <td>0.100694</td>\n",
       "      <td>0.103299</td>\n",
       "      <td>0.100694</td>\n",
       "      <td>0.102431</td>\n",
       "      <td>0.065059</td>\n",
       "      <td>130092200.0</td>\n",
       "      <td>17</td>\n",
       "      <td>3</td>\n",
       "      <td>1986</td>\n",
       "    </tr>\n",
       "    <tr>\n",
       "      <th>3</th>\n",
       "      <td>3</td>\n",
       "      <td>1986-03-18</td>\n",
       "      <td>0.102431</td>\n",
       "      <td>0.103299</td>\n",
       "      <td>0.098958</td>\n",
       "      <td>0.099826</td>\n",
       "      <td>0.063405</td>\n",
       "      <td>67766400.0</td>\n",
       "      <td>18</td>\n",
       "      <td>3</td>\n",
       "      <td>1986</td>\n",
       "    </tr>\n",
       "    <tr>\n",
       "      <th>4</th>\n",
       "      <td>4</td>\n",
       "      <td>1986-03-19</td>\n",
       "      <td>0.099826</td>\n",
       "      <td>0.100694</td>\n",
       "      <td>0.097222</td>\n",
       "      <td>0.098090</td>\n",
       "      <td>0.062302</td>\n",
       "      <td>47894400.0</td>\n",
       "      <td>19</td>\n",
       "      <td>3</td>\n",
       "      <td>1986</td>\n",
       "    </tr>\n",
       "  </tbody>\n",
       "</table>\n",
       "</div>"
      ],
      "text/plain": [
       "   index       DATE      OPEN      HIGH       LOW     CLOSE  ADJ CLOSE  \\\n",
       "0      0 1986-03-13  0.088542  0.101563  0.088542  0.097222   0.061751   \n",
       "1      1 1986-03-14  0.097222  0.102431  0.097222  0.100694   0.063956   \n",
       "2      2 1986-03-17  0.100694  0.103299  0.100694  0.102431   0.065059   \n",
       "3      3 1986-03-18  0.102431  0.103299  0.098958  0.099826   0.063405   \n",
       "4      4 1986-03-19  0.099826  0.100694  0.097222  0.098090   0.062302   \n",
       "\n",
       "        VOLUME  DAY  month  YEAR  \n",
       "0  130092200.0   13      3  1986  \n",
       "1  130092200.0   14      3  1986  \n",
       "2  130092200.0   17      3  1986  \n",
       "3   67766400.0   18      3  1986  \n",
       "4   47894400.0   19      3  1986  "
      ]
     },
     "execution_count": 150,
     "metadata": {},
     "output_type": "execute_result"
    }
   ],
   "source": [
    "d2.head()"
   ]
  },
  {
   "cell_type": "code",
   "execution_count": 151,
   "metadata": {},
   "outputs": [],
   "source": [
    "d2.drop(['DATE'],axis=1,inplace=True)"
   ]
  },
  {
   "cell_type": "code",
   "execution_count": 153,
   "metadata": {},
   "outputs": [],
   "source": [
    "X2=d2.loc[:,d2.columns!='CLOSE']\n",
    "y2=d2['CLOSE']"
   ]
  },
  {
   "cell_type": "markdown",
   "metadata": {},
   "source": [
    "# Train test split MSFT(without outlier)"
   ]
  },
  {
   "cell_type": "code",
   "execution_count": 154,
   "metadata": {},
   "outputs": [],
   "source": [
    "X2_train,X2_test,y2_train,y2_test=train_test_split(X2,y2,test_size=0.2,random_state=0)"
   ]
  },
  {
   "cell_type": "code",
   "execution_count": 155,
   "metadata": {},
   "outputs": [
    {
     "name": "stdout",
     "output_type": "stream",
     "text": [
      "(7085, 8) (1772, 8) (7085,) (1772,)\n"
     ]
    }
   ],
   "source": [
    "print(X1_train.shape,X1_test.shape,y1_train.shape,y1_test.shape)"
   ]
  },
  {
   "cell_type": "markdown",
   "metadata": {},
   "source": [
    "# standarddizing the MSFT(W.O)"
   ]
  },
  {
   "cell_type": "code",
   "execution_count": 156,
   "metadata": {},
   "outputs": [
    {
     "data": {
      "text/plain": [
       "StandardScaler(copy=True, with_mean=True, with_std=True)"
      ]
     },
     "execution_count": 156,
     "metadata": {},
     "output_type": "execute_result"
    }
   ],
   "source": [
    "sc.fit(X2_train)"
   ]
  },
  {
   "cell_type": "code",
   "execution_count": 157,
   "metadata": {},
   "outputs": [],
   "source": [
    "X2_train_std=sc.transform(X2_train)"
   ]
  },
  {
   "cell_type": "code",
   "execution_count": 159,
   "metadata": {},
   "outputs": [],
   "source": [
    "X2_test_std=sc.transform(X2_test)"
   ]
  },
  {
   "cell_type": "code",
   "execution_count": 160,
   "metadata": {},
   "outputs": [
    {
     "data": {
      "text/plain": [
       "array([[-0.14979313,  0.07085383,  0.06079064, ...,  0.70880399,\n",
       "        -1.02544085, -0.12267646],\n",
       "       [-0.34193505,  0.6712359 ,  0.66355956, ..., -1.3443867 ,\n",
       "        -0.73464481, -0.31974318],\n",
       "       [ 0.77647962, -0.13712776, -0.13414239, ..., -0.08965905,\n",
       "         0.42853938,  0.76412375],\n",
       "       ...,\n",
       "       [ 0.16874764, -0.13083125, -0.1407834 , ..., -0.08965905,\n",
       "        -0.15305271,  0.17292361],\n",
       "       [-0.45542009,  0.4424955 ,  0.47189819, ..., -0.6599898 ,\n",
       "        -1.3162369 , -0.41827654],\n",
       "       [-0.66360645, -0.71719372, -0.72201787, ...,  1.73539934,\n",
       "         1.59172357, -0.71387661]])"
      ]
     },
     "execution_count": 160,
     "metadata": {},
     "output_type": "execute_result"
    }
   ],
   "source": [
    "X2_train_std"
   ]
  },
  {
   "cell_type": "code",
   "execution_count": 161,
   "metadata": {},
   "outputs": [
    {
     "data": {
      "text/html": [
       "<div>\n",
       "<style scoped>\n",
       "    .dataframe tbody tr th:only-of-type {\n",
       "        vertical-align: middle;\n",
       "    }\n",
       "\n",
       "    .dataframe tbody tr th {\n",
       "        vertical-align: top;\n",
       "    }\n",
       "\n",
       "    .dataframe thead th {\n",
       "        text-align: right;\n",
       "    }\n",
       "</style>\n",
       "<table border=\"1\" class=\"dataframe\">\n",
       "  <thead>\n",
       "    <tr style=\"text-align: right;\">\n",
       "      <th></th>\n",
       "      <th>index</th>\n",
       "      <th>OPEN</th>\n",
       "      <th>HIGH</th>\n",
       "      <th>LOW</th>\n",
       "      <th>ADJ CLOSE</th>\n",
       "      <th>VOLUME</th>\n",
       "      <th>DAY</th>\n",
       "      <th>month</th>\n",
       "      <th>YEAR</th>\n",
       "    </tr>\n",
       "  </thead>\n",
       "  <tbody>\n",
       "    <tr>\n",
       "      <th>1768</th>\n",
       "      <td>1768</td>\n",
       "      <td>2.640625</td>\n",
       "      <td>2.679688</td>\n",
       "      <td>2.609375</td>\n",
       "      <td>1.687119</td>\n",
       "      <td>26592000.0</td>\n",
       "      <td>10</td>\n",
       "      <td>3</td>\n",
       "      <td>1993</td>\n",
       "    </tr>\n",
       "    <tr>\n",
       "      <th>4265</th>\n",
       "      <td>4265</td>\n",
       "      <td>23.915001</td>\n",
       "      <td>24.264999</td>\n",
       "      <td>23.365000</td>\n",
       "      <td>14.913337</td>\n",
       "      <td>101072000.0</td>\n",
       "      <td>5</td>\n",
       "      <td>2</td>\n",
       "      <td>2003</td>\n",
       "    </tr>\n",
       "    <tr>\n",
       "      <th>317</th>\n",
       "      <td>317</td>\n",
       "      <td>0.341146</td>\n",
       "      <td>0.346354</td>\n",
       "      <td>0.334201</td>\n",
       "      <td>0.216679</td>\n",
       "      <td>125222400.0</td>\n",
       "      <td>15</td>\n",
       "      <td>6</td>\n",
       "      <td>1987</td>\n",
       "    </tr>\n",
       "    <tr>\n",
       "      <th>4314</th>\n",
       "      <td>4314</td>\n",
       "      <td>25.600000</td>\n",
       "      <td>25.740000</td>\n",
       "      <td>24.600000</td>\n",
       "      <td>15.878845</td>\n",
       "      <td>86178700.0</td>\n",
       "      <td>16</td>\n",
       "      <td>4</td>\n",
       "      <td>2003</td>\n",
       "    </tr>\n",
       "    <tr>\n",
       "      <th>6054</th>\n",
       "      <td>6054</td>\n",
       "      <td>29.420000</td>\n",
       "      <td>29.490000</td>\n",
       "      <td>29.200001</td>\n",
       "      <td>22.928942</td>\n",
       "      <td>36723500.0</td>\n",
       "      <td>16</td>\n",
       "      <td>3</td>\n",
       "      <td>2010</td>\n",
       "    </tr>\n",
       "  </tbody>\n",
       "</table>\n",
       "</div>"
      ],
      "text/plain": [
       "      index       OPEN       HIGH        LOW  ADJ CLOSE       VOLUME  DAY  \\\n",
       "1768   1768   2.640625   2.679688   2.609375   1.687119   26592000.0   10   \n",
       "4265   4265  23.915001  24.264999  23.365000  14.913337  101072000.0    5   \n",
       "317     317   0.341146   0.346354   0.334201   0.216679  125222400.0   15   \n",
       "4314   4314  25.600000  25.740000  24.600000  15.878845   86178700.0   16   \n",
       "6054   6054  29.420000  29.490000  29.200001  22.928942   36723500.0   16   \n",
       "\n",
       "      month  YEAR  \n",
       "1768      3  1993  \n",
       "4265      2  2003  \n",
       "317       6  1987  \n",
       "4314      4  2003  \n",
       "6054      3  2010  "
      ]
     },
     "execution_count": 161,
     "metadata": {},
     "output_type": "execute_result"
    }
   ],
   "source": [
    "X2_test.head()"
   ]
  },
  {
   "cell_type": "markdown",
   "metadata": {},
   "source": [
    "# SVM based regression model (MSFT without outlier)"
   ]
  },
  {
   "cell_type": "code",
   "execution_count": 175,
   "metadata": {},
   "outputs": [],
   "source": [
    "svr = SVR(kernel='linear', C = 10)"
   ]
  },
  {
   "cell_type": "code",
   "execution_count": 176,
   "metadata": {},
   "outputs": [
    {
     "data": {
      "text/plain": [
       "SVR(C=10, cache_size=200, coef0=0.0, degree=3, epsilon=0.1,\n",
       "    gamma='auto_deprecated', kernel='linear', max_iter=-1, shrinking=True,\n",
       "    tol=0.001, verbose=False)"
      ]
     },
     "execution_count": 176,
     "metadata": {},
     "output_type": "execute_result"
    }
   ],
   "source": [
    "svr.fit(X2_train_std,y2_train)"
   ]
  },
  {
   "cell_type": "markdown",
   "metadata": {},
   "source": [
    "# pridict values using trained model(MSFT with outlier)"
   ]
  },
  {
   "cell_type": "code",
   "execution_count": 167,
   "metadata": {},
   "outputs": [],
   "source": [
    "y2_test_pred=svr.predict(X2_train_std)"
   ]
  },
  {
   "cell_type": "code",
   "execution_count": 168,
   "metadata": {},
   "outputs": [],
   "source": [
    "y2_test_pred=svr.predict(X2_test_std)"
   ]
  },
  {
   "cell_type": "code",
   "execution_count": 170,
   "metadata": {},
   "outputs": [],
   "source": [
    "y2_train_pred=svr.predict(X2_train_std)"
   ]
  },
  {
   "cell_type": "markdown",
   "metadata": {},
   "source": [
    "# Model performance(MSFT without outlier)"
   ]
  },
  {
   "cell_type": "code",
   "execution_count": 171,
   "metadata": {},
   "outputs": [
    {
     "data": {
      "text/plain": [
       "0.03905204281461511"
      ]
     },
     "execution_count": 171,
     "metadata": {},
     "output_type": "execute_result"
    }
   ],
   "source": [
    "mean_squared_error(y2_test,y2_test_pred)"
   ]
  },
  {
   "cell_type": "code",
   "execution_count": 172,
   "metadata": {},
   "outputs": [
    {
     "data": {
      "text/plain": [
       "0.04149561887426977"
      ]
     },
     "execution_count": 172,
     "metadata": {},
     "output_type": "execute_result"
    }
   ],
   "source": [
    "mean_squared_error(y2_train,y2_train_pred)"
   ]
  },
  {
   "cell_type": "code",
   "execution_count": 173,
   "metadata": {},
   "outputs": [
    {
     "data": {
      "text/plain": [
       "0.999927430312676"
      ]
     },
     "execution_count": 173,
     "metadata": {},
     "output_type": "execute_result"
    }
   ],
   "source": [
    "r2_score(y1_test,y1_test_pred)"
   ]
  },
  {
   "cell_type": "code",
   "execution_count": 174,
   "metadata": {},
   "outputs": [
    {
     "data": {
      "text/plain": [
       "0.9999231783591978"
      ]
     },
     "execution_count": 174,
     "metadata": {},
     "output_type": "execute_result"
    }
   ],
   "source": [
    "r2_score(y1_train,y1_train_pred)"
   ]
  },
  {
   "cell_type": "code",
   "execution_count": null,
   "metadata": {},
   "outputs": [],
   "source": []
  }
 ],
 "metadata": {
  "colab": {
   "collapsed_sections": [],
   "name": "STOCK PRICE PREDICTION TECHNOCOLABS.ipynb",
   "provenance": []
  },
  "kernelspec": {
   "display_name": "Python 3",
   "language": "python",
   "name": "python3"
  },
  "language_info": {
   "codemirror_mode": {
    "name": "ipython",
    "version": 3
   },
   "file_extension": ".py",
   "mimetype": "text/x-python",
   "name": "python",
   "nbconvert_exporter": "python",
   "pygments_lexer": "ipython3",
   "version": "3.7.3"
  }
 },
 "nbformat": 4,
 "nbformat_minor": 1
}
